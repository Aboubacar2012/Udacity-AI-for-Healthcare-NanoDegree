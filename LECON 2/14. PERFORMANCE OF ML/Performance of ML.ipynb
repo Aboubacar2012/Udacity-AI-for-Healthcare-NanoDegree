{
 "cells": [
  {
   "cell_type": "markdown",
   "id": "30fac10d",
   "metadata": {},
   "source": [
    "### Performance of ML Exercices"
   ]
  },
  {
   "cell_type": "markdown",
   "id": "b48a5eff",
   "metadata": {},
   "source": [
    "In this exercice, you'll take a look at how well a radiologist can accurately label a set of medical images as either \"cancer\" or \"benign\", and how well machine learning algorithm can do the same tasks. You will be given a dataframe with tree columns :\n",
    "\n",
    "- Image labels created by a \"perfect labeler\"\n",
    "- Image labels created by an expert radiologist\n",
    "- Image labels created by a machine learning algorithm\n",
    "\n",
    "You'll notice that the algorithm's labels are not 'cancer' or 'benign', but rather probability values between 0-1 that indicate how likely the algorithm believes the images contains cancer(score of 1 indicates 100% likelihood that cancer is in the image).\n",
    "\n",
    "The goal of this exercices is to assess the performance of the expert radiologist compared ot the \"perfect labeler\", compare the algorithm to the \"perfect labeler\", and finally to compare the algorithm to the radiologist. You will do this by generating confusion matrices for each pair of labels and assessing true positive and false positives rates"
   ]
  },
  {
   "cell_type": "code",
   "execution_count": null,
   "id": "0b59415a",
   "metadata": {},
   "outputs": [],
   "source": []
  }
 ],
 "metadata": {
  "kernelspec": {
   "display_name": "Python 3.7.4 64-bit ('anaconda3': virtualenv)",
   "language": "python",
   "name": "python37464bitanaconda3virtualenv0c32e70545074fcb92ac82e36c0737e4"
  },
  "language_info": {
   "codemirror_mode": {
    "name": "ipython",
    "version": 3
   },
   "file_extension": ".py",
   "mimetype": "text/x-python",
   "name": "python",
   "nbconvert_exporter": "python",
   "pygments_lexer": "ipython3",
   "version": "3.8.8"
  }
 },
 "nbformat": 4,
 "nbformat_minor": 5
}
