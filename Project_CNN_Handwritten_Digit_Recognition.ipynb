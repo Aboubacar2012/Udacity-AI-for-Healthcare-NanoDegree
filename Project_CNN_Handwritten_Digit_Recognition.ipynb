{
  "nbformat": 4,
  "nbformat_minor": 0,
  "metadata": {
    "colab": {
      "name": "Project: CNN-Handwritten Digit Recognition.ipynb",
      "provenance": [],
      "authorship_tag": "ABX9TyM+6ogWpjFyNGHHSAzPtkbs",
      "include_colab_link": true
    },
    "kernelspec": {
      "name": "python3",
      "display_name": "Python 3"
    },
    "language_info": {
      "name": "python"
    },
    "accelerator": "GPU"
  },
  "cells": [
    {
      "cell_type": "markdown",
      "metadata": {
        "id": "view-in-github",
        "colab_type": "text"
      },
      "source": [
        "<a href=\"https://colab.research.google.com/github/Aboubacar2012/Udacity-AI-for-Healthcare-NanoDegree/blob/main/Project_CNN_Handwritten_Digit_Recognition.ipynb\" target=\"_parent\"><img src=\"https://colab.research.google.com/assets/colab-badge.svg\" alt=\"Open In Colab\"/></a>"
      ]
    },
    {
      "cell_type": "code",
      "execution_count": 1,
      "metadata": {
        "id": "Ij7l6hNophRp"
      },
      "outputs": [],
      "source": [
        "# Plot ad hoc minist instances\n",
        "from keras.datasets import mnist\n",
        "import matplotlib.pyplot as plt\n",
        "# load (downloaded if need) the MNIST dataset\n",
        "(X_train, y_train), (X_test, y_test)=mnist.load_data()"
      ]
    },
    {
      "cell_type": "code",
      "source": [
        "plt.imshow(X_train[0])"
      ],
      "metadata": {
        "colab": {
          "base_uri": "https://localhost:8080/",
          "height": 282
        },
        "id": "3fykdQ9Fr6aU",
        "outputId": "51519af2-2522-4b80-9391-8d4ca9608dbc"
      },
      "execution_count": 2,
      "outputs": [
        {
          "output_type": "execute_result",
          "data": {
            "text/plain": [
              "<matplotlib.image.AxesImage at 0x7fec1a9216d0>"
            ]
          },
          "metadata": {},
          "execution_count": 2
        },
        {
          "output_type": "display_data",
          "data": {
            "image/png": "[encoded data removed]",
            "text/plain": [
              "<Figure size 432x288 with 1 Axes>"
            ]
          },
          "metadata": {
            "needs_background": "light"
          }
        }
      ]
    },
    {
      "cell_type": "code",
      "source": [
        "plt.imshow(X_test[0])"
      ],
      "metadata": {
        "colab": {
          "base_uri": "https://localhost:8080/",
          "height": 282
        },
        "id": "PG9FH5sor-Xe",
        "outputId": "d0fc611c-9062-4313-ec31-5b43f9573a3e"
      },
      "execution_count": 3,
      "outputs": [
        {
          "output_type": "execute_result",
          "data": {
            "text/plain": [
              "<matplotlib.image.AxesImage at 0x7fec1a409950>"
            ]
          },
          "metadata": {},
          "execution_count": 3
        },
        {
          "output_type": "display_data",
          "data": {
            "image/png": "[encoded data removed]",
            "text/plain": [
              "<Figure size 432x288 with 1 Axes>"
            ]
          },
          "metadata": {
            "needs_background": "light"
          }
        }
      ]
    },
    {
      "cell_type": "code",
      "source": [
        "X_train.shape"
      ],
      "metadata": {
        "colab": {
          "base_uri": "https://localhost:8080/"
        },
        "id": "uT748M-2sMsx",
        "outputId": "1df40a27-3c21-452f-8b89-fe4896112585"
      },
      "execution_count": 4,
      "outputs": [
        {
          "output_type": "execute_result",
          "data": {
            "text/plain": [
              "(60000, 28, 28)"
            ]
          },
          "metadata": {},
          "execution_count": 4
        }
      ]
    },
    {
      "cell_type": "code",
      "source": [
        "X_test.shape"
      ],
      "metadata": {
        "colab": {
          "base_uri": "https://localhost:8080/"
        },
        "id": "a_dxObZQsQK-",
        "outputId": "0df3dcbc-3d54-4d67-9151-2904e017331b"
      },
      "execution_count": 5,
      "outputs": [
        {
          "output_type": "execute_result",
          "data": {
            "text/plain": [
              "(10000, 28, 28)"
            ]
          },
          "metadata": {},
          "execution_count": 5
        }
      ]
    },
    {
      "cell_type": "code",
      "source": [
        "# plot 4 images as gray scale \n",
        "plt.figure(figsize=(15,8))\n",
        "plt.subplot(221)\n",
        "plt.imshow(X_train[0], cmap=plt.get_cmap('gray'))\n",
        "plt.subplot(222)\n",
        "plt.imshow(X_train[1], cmap=plt.get_cmap('gray'))\n",
        "plt.subplot(223)\n",
        "plt.imshow(X_train[2], cmap=plt.get_cmap('gray'))\n",
        "plt.subplot(224)\n",
        "plt.imshow(X_train[3], cmap=plt.get_cmap('gray'))\n",
        "#show the plot \n",
        "plt.show()"
      ],
      "metadata": {
        "colab": {
          "base_uri": "https://localhost:8080/",
          "height": 483
        },
        "id": "LFC3wFOCsS4o",
        "outputId": "841f1611-bcf5-49fe-8c7e-580204573271"
      },
      "execution_count": 6,
      "outputs": [
        {
          "output_type": "display_data",
          "data": {
            "image/png": "[encoded data removed]",
            "text/plain": [
              "<Figure size 1080x576 with 4 Axes>"
            ]
          },
          "metadata": {
            "needs_background": "light"
          }
        }
      ]
    },
    {
      "cell_type": "markdown",
      "source": [
        "**Baseline Model with Multilayer Perceptrons with MNIST Dataset**"
      ],
      "metadata": {
        "id": "i5gIbHeetsFL"
      }
    },
    {
      "cell_type": "markdown",
      "source": [
        "Do we really need a complex model like a convolutional neural network to get the best results\n",
        "with MNIST? You can get good results using a very simple neural network model with a single\n",
        "hidden layer. In this section we will create a simple Multilayer Perceptron model that achieves an\n",
        "error rate of 1.74%. We will use this as a baseline for comparison to more complex convolutional\n",
        "neural network models. Let’s start o↵ by importing the classes and functions we will need."
      ],
      "metadata": {
        "id": "2BaB4s5buNA_"
      }
    },
    {
      "cell_type": "code",
      "source": [
        "# Import the necessaries librairies\n",
        "import numpy as np\n",
        "from keras.models import Sequential\n",
        "from keras.layers import Dense \n",
        "from keras.layers import Dropout \n",
        "from keras.utils import np_utils"
      ],
      "metadata": {
        "id": "DhqU3hIRtrft"
      },
      "execution_count": 7,
      "outputs": []
    },
    {
      "cell_type": "code",
      "source": [
        "# fix random seed for reproducibility \n",
        "seed=7\n",
        "np.random.seed(seed)"
      ],
      "metadata": {
        "id": "8yWKPRXfuk6U"
      },
      "execution_count": 8,
      "outputs": []
    },
    {
      "cell_type": "code",
      "source": [
        "# Load data  (done above)\n",
        "# load (downloaded if need) the MNIST dataset\n",
        "#(X_train, y_train), (X_test, y_test) = mnist.load_data()"
      ],
      "metadata": {
        "id": "01JXnT0VuwAh"
      },
      "execution_count": 9,
      "outputs": []
    },
    {
      "cell_type": "markdown",
      "source": [
        "**Prepare MNIST Dataset for Modeling **"
      ],
      "metadata": {
        "id": "myRgA6sDv5oI"
      }
    },
    {
      "cell_type": "markdown",
      "source": [
        "The training dataset is structured as a 3-dimensional array of instance, image width and\n",
        "image height. For a Multilayer Perceptron model we must reduce the images down into a vector\n",
        "of pixels. In this case the 28 X 28 sized images will be 784 pixel input vectors. We can do\n",
        "this transform easily using the reshape() function on the NumPy array. The pixel values are\n",
        "integers, so we cast them to floating point values so that we can normalize them easily in the\n",
        "next step."
      ],
      "metadata": {
        "id": "DNL6lRfRvCuq"
      }
    },
    {
      "cell_type": "code",
      "source": [
        "# Flatten 28X28 images to a 784 vector for each image \n",
        "num_pixels = X_train.shape[1] * X_train.shape[2]\n",
        "X_train=X_train.reshape(X_train.shape[0], num_pixels).astype('float32')\n",
        "X_test=X_test.reshape(X_test.shape[0], num_pixels).astype('float32')"
      ],
      "metadata": {
        "id": "nlcksxsAvDX6"
      },
      "execution_count": 10,
      "outputs": []
    },
    {
      "cell_type": "code",
      "source": [
        "num_pixels"
      ],
      "metadata": {
        "colab": {
          "base_uri": "https://localhost:8080/"
        },
        "id": "mf4Z31u-wFJ0",
        "outputId": "9c7a33b4-b3f1-4bbd-d608-9b4d5225d14c"
      },
      "execution_count": 11,
      "outputs": [
        {
          "output_type": "execute_result",
          "data": {
            "text/plain": [
              "784"
            ]
          },
          "metadata": {},
          "execution_count": 11
        }
      ]
    },
    {
      "cell_type": "code",
      "source": [
        "X_train"
      ],
      "metadata": {
        "colab": {
          "base_uri": "https://localhost:8080/"
        },
        "id": "5fpE6AVWxAwb",
        "outputId": "e5f24e8b-c71a-4c2c-8a49-7d74bbca00ca"
      },
      "execution_count": 12,
      "outputs": [
        {
          "output_type": "execute_result",
          "data": {
            "text/plain": [
              "array([[0., 0., 0., ..., 0., 0., 0.],\n",
              "       [0., 0., 0., ..., 0., 0., 0.],\n",
              "       [0., 0., 0., ..., 0., 0., 0.],\n",
              "       ...,\n",
              "       [0., 0., 0., ..., 0., 0., 0.],\n",
              "       [0., 0., 0., ..., 0., 0., 0.],\n",
              "       [0., 0., 0., ..., 0., 0., 0.]], dtype=float32)"
            ]
          },
          "metadata": {},
          "execution_count": 12
        }
      ]
    },
    {
      "cell_type": "markdown",
      "source": [
        "The pixel values are gray scale between 0 and 255. It is almost always a good idea to\n",
        "perform some scaling of input values when using neural network models. Because the scale is\n",
        "well known and well behaved, we can very quickly normalize the pixel values to the range 0 and\n",
        "1 by dividing each value by the maximum of 255."
      ],
      "metadata": {
        "id": "iTNV3iXVyJov"
      }
    },
    {
      "cell_type": "code",
      "source": [
        "# Normalize input from 0-255 to 0-1\n",
        "X_train=X_train/255\n",
        "X_test=X_test/255"
      ],
      "metadata": {
        "id": "zlRiHWK9yCMv"
      },
      "execution_count": 13,
      "outputs": []
    },
    {
      "cell_type": "markdown",
      "source": [
        "Finally, the output variable is an integer from 0 to 9. This is a multiclass classification\n",
        "problem. As such, it is good practice to use a one hot encoding of the class values, transforming\n",
        "the vector of class integers into a binary matrix. We can easily do this using the built-in\n",
        "np utils.to categorical() helper function in Keras."
      ],
      "metadata": {
        "id": "3cz79YC7ynOM"
      }
    },
    {
      "cell_type": "code",
      "source": [
        "# One hot encode outputs variables \n",
        "y_train=np_utils.to_categorical(y_train)\n",
        "y_test=np_utils.to_categorical(y_test)\n",
        "num_classes=y_test.shape[1]"
      ],
      "metadata": {
        "id": "OtWLRhCayWsZ"
      },
      "execution_count": 14,
      "outputs": []
    },
    {
      "cell_type": "markdown",
      "source": [
        "We are now ready to create our simple neural network model. We will define our model in a\n",
        "function. This is handy if you want to extend the example later and try and get a better score."
      ],
      "metadata": {
        "id": "qIfmQaQgy_fk"
      }
    },
    {
      "cell_type": "code",
      "source": [
        "# Define baseline model \n",
        "def baseline_model():\n",
        "  # create model\n",
        "  model = Sequential()\n",
        "  model.add(Dense(num_pixels, input_dim=num_pixels, kernel_initializer='normal' , activation='relu'))\n",
        "  model.add(Dense(num_classes, kernel_initializer='normal' , activation='softmax'))\n",
        "  # Compile model\n",
        "  model.compile(loss='categorical_crossentropy' , optimizer='adam' , metrics=['accuracy'])\n",
        "  return model"
      ],
      "metadata": {
        "id": "LghjKDr7yYKa"
      },
      "execution_count": 15,
      "outputs": []
    },
    {
      "cell_type": "markdown",
      "source": [
        "We can now fit and evaluate the model. The model is fit over 10 epochs with updates every\n",
        "200 images. The test data is used as the validation dataset, allowing you to see the skill of the\n",
        "model as it trains. A verbose value of 2 is used to reduce the output to one line for each training\n",
        "epoch. Finally, the test dataset is used to evaluate the model and a classification error rate is\n",
        "printed."
      ],
      "metadata": {
        "id": "oh5yKlMy0DuV"
      }
    },
    {
      "cell_type": "code",
      "source": [
        "# Build the model \n",
        "model=baseline_model()\n",
        "# Fit the model \n",
        "model.fit(X_train, y_train, validation_data=(X_test, y_test), epochs=10, batch_size=200, verbose=2)\n",
        "# Final evaluation of the model \n",
        "scores=model.evaluate(X_test, y_test, verbose=0)\n",
        "print(\"Baseline Error: %.2f%%\" % (100-scores[1]*100))"
      ],
      "metadata": {
        "colab": {
          "base_uri": "https://localhost:8080/"
        },
        "id": "_0alSP4IznLB",
        "outputId": "1c8e6c60-9ac5-44d2-f11b-772b8f86779a"
      },
      "execution_count": 16,
      "outputs": [
        {
          "output_type": "stream",
          "name": "stdout",
          "text": [
            "Epoch 1/10\n",
            "300/300 - 2s - loss: 0.2766 - accuracy: 0.9201 - val_loss: 0.1406 - val_accuracy: 0.9588 - 2s/epoch - 7ms/step\n",
            "Epoch 2/10\n",
            "300/300 - 1s - loss: 0.1093 - accuracy: 0.9688 - val_loss: 0.0903 - val_accuracy: 0.9722 - 1s/epoch - 4ms/step\n",
            "Epoch 3/10\n",
            "300/300 - 1s - loss: 0.0705 - accuracy: 0.9798 - val_loss: 0.0783 - val_accuracy: 0.9760 - 1s/epoch - 4ms/step\n",
            "Epoch 4/10\n",
            "300/300 - 1s - loss: 0.0494 - accuracy: 0.9857 - val_loss: 0.0665 - val_accuracy: 0.9783 - 1s/epoch - 4ms/step\n",
            "Epoch 5/10\n",
            "300/300 - 1s - loss: 0.0359 - accuracy: 0.9903 - val_loss: 0.0624 - val_accuracy: 0.9806 - 1s/epoch - 4ms/step\n",
            "Epoch 6/10\n",
            "300/300 - 1s - loss: 0.0261 - accuracy: 0.9932 - val_loss: 0.0611 - val_accuracy: 0.9798 - 1s/epoch - 4ms/step\n",
            "Epoch 7/10\n",
            "300/300 - 1s - loss: 0.0193 - accuracy: 0.9951 - val_loss: 0.0668 - val_accuracy: 0.9784 - 1s/epoch - 4ms/step\n",
            "Epoch 8/10\n",
            "300/300 - 1s - loss: 0.0149 - accuracy: 0.9966 - val_loss: 0.0615 - val_accuracy: 0.9811 - 1s/epoch - 4ms/step\n",
            "Epoch 9/10\n",
            "300/300 - 1s - loss: 0.0103 - accuracy: 0.9981 - val_loss: 0.0574 - val_accuracy: 0.9820 - 1s/epoch - 4ms/step\n",
            "Epoch 10/10\n",
            "300/300 - 1s - loss: 0.0072 - accuracy: 0.9987 - val_loss: 0.0611 - val_accuracy: 0.9816 - 1s/epoch - 4ms/step\n",
            "Baseline Error: 1.84%\n"
          ]
        }
      ]
    },
    {
      "cell_type": "code",
      "source": [
        ""
      ],
      "metadata": {
        "id": "zA_XA8qy0eL0"
      },
      "execution_count": 16,
      "outputs": []
    }
  ]
}