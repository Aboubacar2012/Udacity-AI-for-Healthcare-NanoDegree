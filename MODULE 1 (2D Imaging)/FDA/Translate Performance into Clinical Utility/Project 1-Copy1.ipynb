{
 "cells": [
  {
   "cell_type": "markdown",
   "id": "d0dc2f49",
   "metadata": {},
   "source": [
    "#### CONTEXT"
   ]
  },
  {
   "cell_type": "markdown",
   "id": "6627aab8",
   "metadata": {},
   "source": [
    "The kidneys are responsable for removing wastes, toxins and extra water from the body; balancing important salts and minerals in the blood, such as calcium, sodium and potassium; and releasing hormones to help control blood pressure, make red blood cells and keep your bones strong. The waste and extra water removed by the kidneys become urine.\n",
    "\n",
    "When the kidneys are damaged, they can't filter blood as they should. The result can be a build-up of wastes in your body, as well as other problems that can harm your health. Chronic kidney disease (CKD) is a type of kidney disease in which there is a gradual loss of kidney function over a period of monthrs or years. It often can get worse over time and may lead to kidney failure. If your kidneys fail, you will deen dialysis or kidney tranplant to maintain your health.\n",
    "\n",
    "Diabetes and high blood pressure are the most common causes of kidney disease. It's a common condition often associated with getting older. Usually in the early stages, there is no symptoms of CKD, but it may be detected with a blood and/or urine test. The tests look for high level of certain substances in your blood and urine that are signs your kidneys aren't working properly. For instance, we look for high level of albumin, which is a protein found in the blood. A healthy kidney doesn't let albumin pass into the urine.\n",
    "\n",
    "The data are blood tests and other measures from patients with and without CKD. There are 400 rows, one per patient; these are patients seen over a period of about two months at some point before July 2015 in a hospital in India.\n",
    "\n",
    "The classification column is the one to predict with ckd if the patient was diagnosed with CKD and notckd if not. A full dictionary is presented below:\n",
    "\n",
    "Link to the dataset: https://raw.githubusercontent.com/NicolasNgo/Projet1-INFO-PROF/main/kidney_disease.csv\n"
   ]
  },
  {
   "cell_type": "markdown",
   "id": "fd02d0fa",
   "metadata": {},
   "source": [
    "##### Dictionnary :"
   ]
  },
  {
   "cell_type": "markdown",
   "id": "a83a67e5",
   "metadata": {},
   "source": [
    "- id: Identifiant of the patient [Numerical]\n",
    "- age: Age in years [Numerical]\n",
    "- bp: Blood Pressure in mm/Hg [Numerical]\n",
    "- sg: Urine specific gravity [one of (1.005, 1.010, 1.015, 1.020, 1.025)]\n",
    "- al: Albumin in urine. [one of (0, 1, 2, 3, 4, 5)]\n",
    "- su: Sugar in urine. [one of (0, 1, 2, 3, 4, 5)]\n",
    "- rbc: Red blood cells in urine. [one of ('normal', 'abnormal')]\n",
    "- pc: Pus cell in urine. [one of ('present', 'notpresent')]\n",
    "- pcc: Pus cell clumps in urine. [one of ('present', 'notpresent')]\n",
    "- ba: Bacteria in urine. [one of ('present', 'notpresent')]\n",
    "- bgr: Blood glucose random in mgs/dl [Numerical]\n",
    "- bu: Blood urea in mgs/dl [Numerical]\n",
    "- sc: Serum creatinine in mgs/dl [Numerical]\n",
    "- sod: Sodium in mEq/L [Numerical]\n",
    "- pot: Potassium in mEq/L [Numerical]\n",
    "- hemo: Hemoglobin in gms [Numerical]\n",
    "- pcv: Packed cell volume (volume percentage) [Numerical]\n",
    "- wc: White blood cell count in cells/cumm [Numercial]\n",
    "- rc: Red blood cell count in millions/cmm [Numerical]\n",
    "- htn: Hypertension. [one of ('yes', 'no')]\n",
    "- dm: Diabetes mellitus. [one of ('yes', 'no')]\n",
    "- cad: Coronary artery disease. [one of ('yes', 'no')]\n",
    "- appet: Appetite. [one of ('good', 'poor')]\n",
    "- pe: Pedal edema. [one of ('yes', 'no')]\n",
    "- ane: Anemia. [one of ('yes', 'no')]\n",
    "- classification: Chronic kidneys disease. [one of ('ckd', 'notckd')]"
   ]
  },
  {
   "cell_type": "markdown",
   "id": "624c2599",
   "metadata": {},
   "source": [
    "The objectif of this project is to clean the dataset in order to be able to use machine learning models to predict the classification column. You are expected to use Python and at least some functions/methods of the Pandas library, and returns a notebook with the codes and comments. You are expected to justify your choices and give readable comments at each step. Put at the end of the notebook a code cell with the cleaned dataset named final_data_set."
   ]
  },
  {
   "cell_type": "markdown",
   "id": "7f3070e1",
   "metadata": {},
   "source": [
    "##### Expected work"
   ]
  },
  {
   "cell_type": "markdown",
   "id": "7e76e139",
   "metadata": {},
   "source": [
    "1. Importation of the data.\n",
    "2. General description of the dataset.\n",
    "3. Verification of the data (Misrecorded values, data types, aberant values).\n",
    "4. Management of the missing values.\n",
    "5. Descriptive statistics (at least Mean, Standard deviation, Mode, Value Counts).\n",
    "6. Transformation of categorical variables in quantitative ones.\n",
    "7. Feature visualisation. (Histogram, Pie Chart)"
   ]
  },
  {
   "cell_type": "markdown",
   "id": "472f4ff2",
   "metadata": {},
   "source": [
    "For this project you have to import correctly the dataset [1], give some information (number of rows, columns, number of quantitative and qualitative features)[2]. You will have to look closely for misrecorded values and check for abnormal values [3], some research is needed for some variables and you will have to decide and justify whether or not you consider some values as abnormals. For the management of the missing values, you don't need to do complex process, use what you learn during the courses [4]."
   ]
  },
  {
   "cell_type": "markdown",
   "id": "ecf2d53f",
   "metadata": {},
   "source": [
    "###### SOLUTION"
   ]
  },
  {
   "cell_type": "markdown",
   "id": "a6f9ecfd",
   "metadata": {},
   "source": [
    "###### Import the necessary librairires"
   ]
  },
  {
   "cell_type": "code",
   "execution_count": 1,
   "id": "bc2abfeb",
   "metadata": {},
   "outputs": [],
   "source": [
    "import numpy as np \n",
    "import pandas as pd \n",
    "import matplotlib.pyplot as plt\n",
    "import seaborn as sns"
   ]
  },
  {
   "cell_type": "markdown",
   "id": "e8e1880d",
   "metadata": {},
   "source": [
    "###### 1. Importation of the data "
   ]
  },
  {
   "cell_type": "code",
   "execution_count": 2,
   "id": "ad3a2ff8",
   "metadata": {},
   "outputs": [],
   "source": [
    "url_data  = (r'https://raw.githubusercontent.com/NicolasNgo/Projet1-INFO-PROF/main/kidney_disease.csv')\n",
    "data = pd.read_csv(url_data)"
   ]
  },
  {
   "cell_type": "code",
   "execution_count": 3,
   "id": "091e2cca",
   "metadata": {},
   "outputs": [
    {
     "data": {
      "text/html": [
       "<div>\n",
       "<style scoped>\n",
       "    .dataframe tbody tr th:only-of-type {\n",
       "        vertical-align: middle;\n",
       "    }\n",
       "\n",
       "    .dataframe tbody tr th {\n",
       "        vertical-align: top;\n",
       "    }\n",
       "\n",
       "    .dataframe thead th {\n",
       "        text-align: right;\n",
       "    }\n",
       "</style>\n",
       "<table border=\"1\" class=\"dataframe\">\n",
       "  <thead>\n",
       "    <tr style=\"text-align: right;\">\n",
       "      <th></th>\n",
       "      <th>id</th>\n",
       "      <th>age</th>\n",
       "      <th>bp</th>\n",
       "      <th>sg</th>\n",
       "      <th>al</th>\n",
       "      <th>su</th>\n",
       "      <th>rbc</th>\n",
       "      <th>pc</th>\n",
       "      <th>pcc</th>\n",
       "      <th>ba</th>\n",
       "      <th>...</th>\n",
       "      <th>pcv</th>\n",
       "      <th>wc</th>\n",
       "      <th>rc</th>\n",
       "      <th>htn</th>\n",
       "      <th>dm</th>\n",
       "      <th>cad</th>\n",
       "      <th>appet</th>\n",
       "      <th>pe</th>\n",
       "      <th>ane</th>\n",
       "      <th>classification</th>\n",
       "    </tr>\n",
       "  </thead>\n",
       "  <tbody>\n",
       "    <tr>\n",
       "      <th>0</th>\n",
       "      <td>0</td>\n",
       "      <td>48.0</td>\n",
       "      <td>80.0</td>\n",
       "      <td>1.020</td>\n",
       "      <td>1.0</td>\n",
       "      <td>0.0</td>\n",
       "      <td>NaN</td>\n",
       "      <td>normal</td>\n",
       "      <td>notpresent</td>\n",
       "      <td>notpresent</td>\n",
       "      <td>...</td>\n",
       "      <td>44</td>\n",
       "      <td>7800</td>\n",
       "      <td>5.2</td>\n",
       "      <td>yes</td>\n",
       "      <td>yes</td>\n",
       "      <td>no</td>\n",
       "      <td>good</td>\n",
       "      <td>no</td>\n",
       "      <td>no</td>\n",
       "      <td>ckd</td>\n",
       "    </tr>\n",
       "    <tr>\n",
       "      <th>1</th>\n",
       "      <td>1</td>\n",
       "      <td>7.0</td>\n",
       "      <td>50.0</td>\n",
       "      <td>1.020</td>\n",
       "      <td>4.0</td>\n",
       "      <td>0.0</td>\n",
       "      <td>NaN</td>\n",
       "      <td>normal</td>\n",
       "      <td>notpresent</td>\n",
       "      <td>notpresent</td>\n",
       "      <td>...</td>\n",
       "      <td>38</td>\n",
       "      <td>6000</td>\n",
       "      <td>NaN</td>\n",
       "      <td>no</td>\n",
       "      <td>no</td>\n",
       "      <td>no</td>\n",
       "      <td>good</td>\n",
       "      <td>no</td>\n",
       "      <td>no</td>\n",
       "      <td>ckd</td>\n",
       "    </tr>\n",
       "    <tr>\n",
       "      <th>2</th>\n",
       "      <td>2</td>\n",
       "      <td>62.0</td>\n",
       "      <td>80.0</td>\n",
       "      <td>1.010</td>\n",
       "      <td>2.0</td>\n",
       "      <td>3.0</td>\n",
       "      <td>normal</td>\n",
       "      <td>normal</td>\n",
       "      <td>notpresent</td>\n",
       "      <td>notpresent</td>\n",
       "      <td>...</td>\n",
       "      <td>31</td>\n",
       "      <td>7500</td>\n",
       "      <td>NaN</td>\n",
       "      <td>no</td>\n",
       "      <td>yes</td>\n",
       "      <td>no</td>\n",
       "      <td>poor</td>\n",
       "      <td>no</td>\n",
       "      <td>yes</td>\n",
       "      <td>ckd</td>\n",
       "    </tr>\n",
       "    <tr>\n",
       "      <th>3</th>\n",
       "      <td>3</td>\n",
       "      <td>48.0</td>\n",
       "      <td>70.0</td>\n",
       "      <td>1.005</td>\n",
       "      <td>4.0</td>\n",
       "      <td>0.0</td>\n",
       "      <td>normal</td>\n",
       "      <td>abnormal</td>\n",
       "      <td>present</td>\n",
       "      <td>notpresent</td>\n",
       "      <td>...</td>\n",
       "      <td>32</td>\n",
       "      <td>6700</td>\n",
       "      <td>3.9</td>\n",
       "      <td>yes</td>\n",
       "      <td>no</td>\n",
       "      <td>no</td>\n",
       "      <td>poor</td>\n",
       "      <td>yes</td>\n",
       "      <td>yes</td>\n",
       "      <td>ckd</td>\n",
       "    </tr>\n",
       "    <tr>\n",
       "      <th>4</th>\n",
       "      <td>4</td>\n",
       "      <td>51.0</td>\n",
       "      <td>80.0</td>\n",
       "      <td>1.010</td>\n",
       "      <td>2.0</td>\n",
       "      <td>0.0</td>\n",
       "      <td>normal</td>\n",
       "      <td>normal</td>\n",
       "      <td>notpresent</td>\n",
       "      <td>notpresent</td>\n",
       "      <td>...</td>\n",
       "      <td>35</td>\n",
       "      <td>7300</td>\n",
       "      <td>4.6</td>\n",
       "      <td>no</td>\n",
       "      <td>no</td>\n",
       "      <td>no</td>\n",
       "      <td>good</td>\n",
       "      <td>no</td>\n",
       "      <td>no</td>\n",
       "      <td>ckd</td>\n",
       "    </tr>\n",
       "  </tbody>\n",
       "</table>\n",
       "<p>5 rows × 26 columns</p>\n",
       "</div>"
      ],
      "text/plain": [
       "   id   age    bp     sg   al   su     rbc        pc         pcc          ba  \\\n",
       "0   0  48.0  80.0  1.020  1.0  0.0     NaN    normal  notpresent  notpresent   \n",
       "1   1   7.0  50.0  1.020  4.0  0.0     NaN    normal  notpresent  notpresent   \n",
       "2   2  62.0  80.0  1.010  2.0  3.0  normal    normal  notpresent  notpresent   \n",
       "3   3  48.0  70.0  1.005  4.0  0.0  normal  abnormal     present  notpresent   \n",
       "4   4  51.0  80.0  1.010  2.0  0.0  normal    normal  notpresent  notpresent   \n",
       "\n",
       "   ...  pcv    wc   rc  htn   dm  cad appet   pe  ane classification  \n",
       "0  ...   44  7800  5.2  yes  yes   no  good   no   no            ckd  \n",
       "1  ...   38  6000  NaN   no   no   no  good   no   no            ckd  \n",
       "2  ...   31  7500  NaN   no  yes   no  poor   no  yes            ckd  \n",
       "3  ...   32  6700  3.9  yes   no   no  poor  yes  yes            ckd  \n",
       "4  ...   35  7300  4.6   no   no   no  good   no   no            ckd  \n",
       "\n",
       "[5 rows x 26 columns]"
      ]
     },
     "execution_count": 3,
     "metadata": {},
     "output_type": "execute_result"
    }
   ],
   "source": [
    "# Show the first 5 rows\n",
    "data.head()"
   ]
  },
  {
   "cell_type": "markdown",
   "id": "c1e1d764",
   "metadata": {},
   "source": [
    "### Exploratory Data Analysis "
   ]
  },
  {
   "cell_type": "markdown",
   "id": "b406e86f",
   "metadata": {},
   "source": [
    "###### 2. General description of the dataset"
   ]
  },
  {
   "cell_type": "code",
   "execution_count": 4,
   "id": "9e3f2711",
   "metadata": {},
   "outputs": [
    {
     "data": {
      "text/plain": [
       "(400, 26)"
      ]
     },
     "execution_count": 4,
     "metadata": {},
     "output_type": "execute_result"
    }
   ],
   "source": [
    "# Number of columns and rows \n",
    "data.shape"
   ]
  },
  {
   "cell_type": "markdown",
   "id": "36522e22",
   "metadata": {},
   "source": [
    "There's 400 rows (observations) and 26 columns (features)"
   ]
  },
  {
   "cell_type": "code",
   "execution_count": 5,
   "id": "6943e707",
   "metadata": {},
   "outputs": [
    {
     "name": "stdout",
     "output_type": "stream",
     "text": [
      "<class 'pandas.core.frame.DataFrame'>\n",
      "RangeIndex: 400 entries, 0 to 399\n",
      "Data columns (total 26 columns):\n",
      " #   Column          Non-Null Count  Dtype  \n",
      "---  ------          --------------  -----  \n",
      " 0   id              400 non-null    int64  \n",
      " 1   age             391 non-null    float64\n",
      " 2   bp              388 non-null    float64\n",
      " 3   sg              353 non-null    float64\n",
      " 4   al              354 non-null    float64\n",
      " 5   su              351 non-null    float64\n",
      " 6   rbc             248 non-null    object \n",
      " 7   pc              335 non-null    object \n",
      " 8   pcc             396 non-null    object \n",
      " 9   ba              396 non-null    object \n",
      " 10  bgr             356 non-null    float64\n",
      " 11  bu              381 non-null    float64\n",
      " 12  sc              383 non-null    float64\n",
      " 13  sod             313 non-null    float64\n",
      " 14  pot             312 non-null    float64\n",
      " 15  hemo            348 non-null    float64\n",
      " 16  pcv             330 non-null    object \n",
      " 17  wc              295 non-null    object \n",
      " 18  rc              270 non-null    object \n",
      " 19  htn             398 non-null    object \n",
      " 20  dm              398 non-null    object \n",
      " 21  cad             398 non-null    object \n",
      " 22  appet           399 non-null    object \n",
      " 23  pe              399 non-null    object \n",
      " 24  ane             399 non-null    object \n",
      " 25  classification  400 non-null    object \n",
      "dtypes: float64(11), int64(1), object(14)\n",
      "memory usage: 81.4+ KB\n"
     ]
    }
   ],
   "source": [
    "# Description of the dataset \n",
    "data.info()"
   ]
  },
  {
   "cell_type": "markdown",
   "id": "4775ec20",
   "metadata": {},
   "source": [
    "The dataset contains 400 observations and 26 variables, with different types of variables or features, certains variables have missing value."
   ]
  },
  {
   "cell_type": "code",
   "execution_count": 6,
   "id": "170d22c3",
   "metadata": {},
   "outputs": [],
   "source": [
    "# Drop id column\n",
    "data.drop('id', axis=1, inplace=True)"
   ]
  },
  {
   "cell_type": "code",
   "execution_count": 7,
   "id": "cea78cdc",
   "metadata": {
    "scrolled": true
   },
   "outputs": [
    {
     "data": {
      "text/plain": [
       "age               float64\n",
       "bp                float64\n",
       "sg                float64\n",
       "al                float64\n",
       "su                float64\n",
       "rbc                object\n",
       "pc                 object\n",
       "pcc                object\n",
       "ba                 object\n",
       "bgr               float64\n",
       "bu                float64\n",
       "sc                float64\n",
       "sod               float64\n",
       "pot               float64\n",
       "hemo              float64\n",
       "pcv                object\n",
       "wc                 object\n",
       "rc                 object\n",
       "htn                object\n",
       "dm                 object\n",
       "cad                object\n",
       "appet              object\n",
       "pe                 object\n",
       "ane                object\n",
       "classification     object\n",
       "dtype: object"
      ]
     },
     "execution_count": 7,
     "metadata": {},
     "output_type": "execute_result"
    }
   ],
   "source": [
    "# Types of features, we check their types to see it their correspond with dictionnary\n",
    "# of the dataset\n",
    "data.dtypes"
   ]
  },
  {
   "cell_type": "code",
   "execution_count": 8,
   "id": "c1cd3649",
   "metadata": {},
   "outputs": [],
   "source": [
    "# These variables do not have the right types as shown in the dictionnary of the dataset"
   ]
  },
  {
   "cell_type": "code",
   "execution_count": 9,
   "id": "e63366c2",
   "metadata": {},
   "outputs": [
    {
     "data": {
      "text/plain": [
       "dtype('O')"
      ]
     },
     "execution_count": 9,
     "metadata": {},
     "output_type": "execute_result"
    }
   ],
   "source": [
    "data['pcv'].dtypes"
   ]
  },
  {
   "cell_type": "code",
   "execution_count": 10,
   "id": "a6d4cf37",
   "metadata": {},
   "outputs": [
    {
     "data": {
      "text/plain": [
       "dtype('O')"
      ]
     },
     "execution_count": 10,
     "metadata": {},
     "output_type": "execute_result"
    }
   ],
   "source": [
    "data['wc'].dtypes"
   ]
  },
  {
   "cell_type": "code",
   "execution_count": 11,
   "id": "c11deaf9",
   "metadata": {},
   "outputs": [
    {
     "data": {
      "text/plain": [
       "dtype('O')"
      ]
     },
     "execution_count": 11,
     "metadata": {},
     "output_type": "execute_result"
    }
   ],
   "source": [
    "data['rc'].dtypes"
   ]
  },
  {
   "cell_type": "code",
   "execution_count": 12,
   "id": "fade41f5",
   "metadata": {},
   "outputs": [],
   "source": [
    "# Let's convert these features into numeric \n",
    "data['pcv']=pd.to_numeric(data['pcv'],errors='coerce')\n",
    "data['wc']=pd.to_numeric(data['wc'], errors='coerce')\n",
    "data['rc']=pd.to_numeric(data['rc'], errors='coerce')"
   ]
  },
  {
   "cell_type": "code",
   "execution_count": 13,
   "id": "e3449e30",
   "metadata": {},
   "outputs": [
    {
     "data": {
      "text/plain": [
       "dtype('float64')"
      ]
     },
     "execution_count": 13,
     "metadata": {},
     "output_type": "execute_result"
    }
   ],
   "source": [
    "# Let's check the features have been converted \n",
    "data['pcv'].dtypes"
   ]
  },
  {
   "cell_type": "code",
   "execution_count": 14,
   "id": "e7fbbabe",
   "metadata": {},
   "outputs": [],
   "source": [
    "# Let's extract the catogorical and numerical columns in the dataset\n",
    "# Let's create a function for this propose \n",
    "def extract_cat_num(data):\n",
    "  cat_col=[col for col in data.columns if data[col].dtype=='object']\n",
    "  num_col=[col for col in data.columns if data[col].dtype!='object']\n",
    "  return cat_col, num_col"
   ]
  },
  {
   "cell_type": "code",
   "execution_count": 15,
   "id": "2311f533",
   "metadata": {},
   "outputs": [
    {
     "data": {
      "text/plain": [
       "(['rbc',\n",
       "  'pc',\n",
       "  'pcc',\n",
       "  'ba',\n",
       "  'htn',\n",
       "  'dm',\n",
       "  'cad',\n",
       "  'appet',\n",
       "  'pe',\n",
       "  'ane',\n",
       "  'classification'],\n",
       " ['age',\n",
       "  'bp',\n",
       "  'sg',\n",
       "  'al',\n",
       "  'su',\n",
       "  'bgr',\n",
       "  'bu',\n",
       "  'sc',\n",
       "  'sod',\n",
       "  'pot',\n",
       "  'hemo',\n",
       "  'pcv',\n",
       "  'wc',\n",
       "  'rc'])"
      ]
     },
     "execution_count": 15,
     "metadata": {},
     "output_type": "execute_result"
    }
   ],
   "source": [
    "extract_cat_num(data)"
   ]
  },
  {
   "cell_type": "code",
   "execution_count": 16,
   "id": "14b73463",
   "metadata": {},
   "outputs": [],
   "source": [
    "cat_col, num_col=extract_cat_num(data)"
   ]
  },
  {
   "cell_type": "code",
   "execution_count": 17,
   "id": "1dc6dd13",
   "metadata": {},
   "outputs": [
    {
     "data": {
      "text/plain": [
       "['rbc',\n",
       " 'pc',\n",
       " 'pcc',\n",
       " 'ba',\n",
       " 'htn',\n",
       " 'dm',\n",
       " 'cad',\n",
       " 'appet',\n",
       " 'pe',\n",
       " 'ane',\n",
       " 'classification']"
      ]
     },
     "execution_count": 17,
     "metadata": {},
     "output_type": "execute_result"
    }
   ],
   "source": [
    "# Categorical features \n",
    "cat_col"
   ]
  },
  {
   "cell_type": "code",
   "execution_count": 18,
   "id": "1e231762",
   "metadata": {},
   "outputs": [
    {
     "data": {
      "text/plain": [
       "['age',\n",
       " 'bp',\n",
       " 'sg',\n",
       " 'al',\n",
       " 'su',\n",
       " 'bgr',\n",
       " 'bu',\n",
       " 'sc',\n",
       " 'sod',\n",
       " 'pot',\n",
       " 'hemo',\n",
       " 'pcv',\n",
       " 'wc',\n",
       " 'rc']"
      ]
     },
     "execution_count": 18,
     "metadata": {},
     "output_type": "execute_result"
    }
   ],
   "source": [
    "# Numerical features \n",
    "num_col"
   ]
  },
  {
   "cell_type": "markdown",
   "id": "ff6dc70c",
   "metadata": {},
   "source": [
    "###### 3. Verification of the data (Misrecorded values, data types, aberant values)"
   ]
  },
  {
   "cell_type": "code",
   "execution_count": 20,
   "id": "5f222f20",
   "metadata": {},
   "outputs": [
    {
     "name": "stdout",
     "output_type": "stream",
     "text": [
      "rbc has [nan 'normal' 'abnormal'] values\n",
      "\n",
      "\n",
      "pc has ['normal' 'abnormal' nan] values\n",
      "\n",
      "\n",
      "pcc has ['notpresent' 'present' nan] values\n",
      "\n",
      "\n",
      "ba has ['notpresent' 'present' nan] values\n",
      "\n",
      "\n",
      "htn has ['yes' 'no' nan] values\n",
      "\n",
      "\n",
      "dm has ['yes' 'no' ' yes' '\\tno' '\\tyes' nan] values\n",
      "\n",
      "\n",
      "cad has ['no' 'yes' '\\tno' nan] values\n",
      "\n",
      "\n",
      "appet has ['good' 'poor' nan] values\n",
      "\n",
      "\n",
      "pe has ['no' 'yes' nan] values\n",
      "\n",
      "\n",
      "ane has ['no' 'yes' nan] values\n",
      "\n",
      "\n",
      "classification has ['ckd' 'ckd\\t' 'notckd'] values\n",
      "\n",
      "\n"
     ]
    }
   ],
   "source": [
    "# Let's check if we have some dirty data in categorical columns\n",
    "for col in cat_col:\n",
    "  print('{} has {} values'.format(col, data[col].unique()))\n",
    "  print('\\n')"
   ]
  },
  {
   "cell_type": "code",
   "execution_count": 21,
   "id": "eae3de0c",
   "metadata": {},
   "outputs": [],
   "source": [
    "#Let's clean dirty data into categorical columns\n",
    "data['dm'].replace(to_replace={'\\tno':'no','\\tyes':'yes'}, inplace=True)\n",
    "data['cad'].replace(to_replace={'\\tno':'no'}, inplace=True)\n",
    "data['classification'].replace(to_replace={'ckd\\t':'ckd'}, inplace=True)"
   ]
  },
  {
   "cell_type": "code",
   "execution_count": 23,
   "id": "eddef5d9",
   "metadata": {},
   "outputs": [
    {
     "name": "stdout",
     "output_type": "stream",
     "text": [
      "rbc has [nan 'normal' 'abnormal'] values\n",
      "\n",
      "\n",
      "pc has ['normal' 'abnormal' nan] values\n",
      "\n",
      "\n",
      "pcc has ['notpresent' 'present' nan] values\n",
      "\n",
      "\n",
      "ba has ['notpresent' 'present' nan] values\n",
      "\n",
      "\n",
      "htn has ['yes' 'no' nan] values\n",
      "\n",
      "\n",
      "dm has ['yes' 'no' ' yes' nan] values\n",
      "\n",
      "\n",
      "cad has ['no' 'yes' nan] values\n",
      "\n",
      "\n",
      "appet has ['good' 'poor' nan] values\n",
      "\n",
      "\n",
      "pe has ['no' 'yes' nan] values\n",
      "\n",
      "\n",
      "ane has ['no' 'yes' nan] values\n",
      "\n",
      "\n",
      "classification has ['ckd' 'notckd'] values\n",
      "\n",
      "\n"
     ]
    }
   ],
   "source": [
    "# Let's check again \n",
    "# Let's check if we have some dirty data in categorical columns\n",
    "for col in cat_col:\n",
    "  print('{} has {} values'.format(col, data[col].unique()))\n",
    "  print('\\n')"
   ]
  },
  {
   "cell_type": "code",
   "execution_count": 24,
   "id": "20b79743",
   "metadata": {},
   "outputs": [
    {
     "data": {
      "text/plain": [
       "11"
      ]
     },
     "execution_count": 24,
     "metadata": {},
     "output_type": "execute_result"
    }
   ],
   "source": [
    "# Number of categorical columns\n",
    "len(cat_col)"
   ]
  },
  {
   "cell_type": "code",
   "execution_count": 25,
   "id": "16dba43d",
   "metadata": {},
   "outputs": [
    {
     "data": {
      "text/plain": [
       "14"
      ]
     },
     "execution_count": 25,
     "metadata": {},
     "output_type": "execute_result"
    }
   ],
   "source": [
    "# Number numerical columns\n",
    "len(num_col)"
   ]
  },
  {
   "cell_type": "code",
   "execution_count": 26,
   "id": "2b829979",
   "metadata": {},
   "outputs": [
    {
     "data": {
      "image/png": "[encoded data removed]",
      "text/plain": [
       "<Figure size 1440x720 with 16 Axes>"
      ]
     },
     "metadata": {
      "needs_background": "light"
     },
     "output_type": "display_data"
    }
   ],
   "source": [
    "#Let's see the distribution of numerical values : Method 1\n",
    "data[num_col].hist(figsize=(20,10))\n",
    "plt.show()"
   ]
  },
  {
   "cell_type": "code",
   "execution_count": 28,
   "id": "acdbae4b",
   "metadata": {},
   "outputs": [
    {
     "data": {
      "image/png": "[encoded data removed]",
      "text/plain": [
       "<Figure size 1440x720 with 14 Axes>"
      ]
     },
     "metadata": {
      "needs_background": "light"
     },
     "output_type": "display_data"
    }
   ],
   "source": [
    "#Let's see the distribution of numerical values Method 2 : \n",
    "plt.figure(figsize=(20,10))\n",
    "for i, feature in enumerate(num_col):\n",
    "  plt.subplot(4,5, i+1)\n",
    "  data[feature].hist()\n",
    "  plt.title(feature)"
   ]
  },
  {
   "cell_type": "code",
   "execution_count": 30,
   "id": "4c4cbf88",
   "metadata": {},
   "outputs": [
    {
     "data": {
      "image/png": "[encoded data removed]",
      "text/plain": [
       "<Figure size 1440x1080 with 11 Axes>"
      ]
     },
     "metadata": {
      "needs_background": "light"
     },
     "output_type": "display_data"
    }
   ],
   "source": [
    "import warnings as wrg \n",
    "wrg.filterwarnings('ignore')\n",
    "plt.figure(figsize=(20,15\n",
    "                    ))\n",
    "for i, feature in enumerate(cat_col):\n",
    "  plt.subplot(4,4, i+1)\n",
    "  sns.countplot(data[feature])\n",
    "  #plt.title(feature)"
   ]
  },
  {
   "cell_type": "markdown",
   "id": "8f2a019e",
   "metadata": {},
   "source": [
    "###### 3. Management of the missing values."
   ]
  },
  {
   "cell_type": "code",
   "execution_count": 31,
   "id": "ed5d3bf5",
   "metadata": {},
   "outputs": [
    {
     "ename": "ModuleNotFoundError",
     "evalue": "No module named 'missingno'",
     "output_type": "error",
     "traceback": [
      "\u001b[0;31m---------------------------------------------------------------------------\u001b[0m",
      "\u001b[0;31mModuleNotFoundError\u001b[0m                       Traceback (most recent call last)",
      "\u001b[0;32m/var/folders/l2/tc7d6rs97c785rgthcmyyvcm0000gn/T/ipykernel_96709/51667870.py\u001b[0m in \u001b[0;36m<module>\u001b[0;34m\u001b[0m\n\u001b[0;32m----> 1\u001b[0;31m \u001b[0;32mimport\u001b[0m \u001b[0mmissingno\u001b[0m \u001b[0;32mas\u001b[0m \u001b[0mmsno\u001b[0m\u001b[0;34m\u001b[0m\u001b[0;34m\u001b[0m\u001b[0m\n\u001b[0m\u001b[1;32m      2\u001b[0m \u001b[0mmsno\u001b[0m\u001b[0;34m.\u001b[0m\u001b[0mmatrix\u001b[0m\u001b[0;34m(\u001b[0m\u001b[0mdata\u001b[0m\u001b[0;34m)\u001b[0m\u001b[0;34m\u001b[0m\u001b[0;34m\u001b[0m\u001b[0m\n",
      "\u001b[0;31mModuleNotFoundError\u001b[0m: No module named 'missingno'"
     ]
    }
   ],
   "source": [
    "import missingno as msno\n",
    "msno.matrix(data)"
   ]
  },
  {
   "cell_type": "code",
   "execution_count": null,
   "id": "4437dca9",
   "metadata": {},
   "outputs": [],
   "source": []
  }
 ],
 "metadata": {
  "kernelspec": {
   "display_name": "Python 3.7.4 64-bit ('anaconda3': virtualenv)",
   "language": "python",
   "name": "python37464bitanaconda3virtualenv0c32e70545074fcb92ac82e36c0737e4"
  },
  "language_info": {
   "codemirror_mode": {
    "name": "ipython",
    "version": 3
   },
   "file_extension": ".py",
   "mimetype": "text/x-python",
   "name": "python",
   "nbconvert_exporter": "python",
   "pygments_lexer": "ipython3",
   "version": "3.8.8"
  }
 },
 "nbformat": 4,
 "nbformat_minor": 5
}
