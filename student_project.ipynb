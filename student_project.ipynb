{
 "cells": [
  {
   "cell_type": "markdown",
   "metadata": {},
   "source": [
    "# Overview"
   ]
  },
  {
   "cell_type": "markdown",
   "metadata": {},
   "source": [
    "1. Project Instructions & Prerequisites\n",
    "2. Learning Objectives\n",
    "3. Data Preparation\n",
    "4. Create Categorical Features with TF Feature Columns\n",
    "5. Create Continuous/Numerical Features with TF Feature Columns\n",
    "6. Build Deep Learning Regression Model with Sequential API and TF Probability Layers\n",
    "7. Evaluating Potential Model Biases with Aequitas Toolkit\n"
   ]
  },
  {
   "cell_type": "markdown",
   "metadata": {},
   "source": [
    "#  1. Project Instructions & Prerequisites"
   ]
  },
  {
   "cell_type": "markdown",
   "metadata": {},
   "source": [
    "## Project Instructions"
   ]
  },
  {
   "cell_type": "markdown",
   "metadata": {},
   "source": [
    "**Context**: EHR data is becoming a key source of real-world evidence (RWE) for the pharmaceutical industry and regulators to [make decisions on clinical trials](https://www.fda.gov/news-events/speeches-fda-officials/breaking-down-barriers-between-clinical-trials-and-clinical-care-incorporating-real-world-evidence). You are a data scientist for an exciting unicorn healthcare startup that has created a groundbreaking diabetes drug that is ready for clinical trial testing. It is a very unique and sensitive drug that requires administering the drug over at least 5-7 days of time in the hospital with frequent monitoring/testing and patient medication adherence training with a mobile application. You have been provided a patient dataset from a client partner and are tasked with building a predictive model that can identify which type of patients the company should focus their efforts testing this drug on. Target patients are people that are likely to be in the hospital for this duration of time and will not incur significant additional costs for administering this drug to the patient and monitoring.  \n",
    "\n",
    "In order to achieve your goal you must build a regression model that can predict the estimated hospitalization time for a patient and use this to select/filter patients for your study.\n"
   ]
  },
  {
   "cell_type": "markdown",
   "metadata": {},
   "source": [
    "**Expected Hospitalization Time Regression Model:** Utilizing a synthetic dataset(denormalized at the line level augmentation) built off of the UCI Diabetes readmission dataset, students will build a regression model that predicts the expected days of hospitalization time and then convert this to a binary prediction of whether to include or exclude that patient from the clinical trial.\n",
    "\n",
    "This project will demonstrate the importance of building the right data representation at the encounter level, with appropriate filtering and preprocessing/feature engineering of key medical code sets. This project will also require students to analyze and interpret their model for biases across key demographic groups. \n",
    "\n",
    "Please see the project rubric online for more details on the areas your project will be evaluated."
   ]
  },
  {
   "cell_type": "markdown",
   "metadata": {},
   "source": [
    "### Dataset"
   ]
  },
  {
   "cell_type": "markdown",
   "metadata": {},
   "source": [
    "Due to healthcare PHI regulations (HIPAA, HITECH), there are limited number of publicly available datasets and some datasets require training and approval. So, for the purpose of this exercise, we are using a dataset from UC Irvine(https://archive.ics.uci.edu/ml/datasets/Diabetes+130-US+hospitals+for+years+1999-2008) that has been modified for this course. Please note that it is limited in its representation of some key features such as diagnosis codes which are usually an unordered list in 835s/837s (the HL7 standard interchange formats used for claims and remits)."
   ]
  },
  {
   "cell_type": "markdown",
   "metadata": {},
   "source": [
    "**Data Schema**\n",
    "The dataset reference information can be https://github.com/udacity/nd320-c1-emr-data-starter/blob/master/project/data_schema_references/\n",
    ". There are two CSVs that provide more details on the fields and some of the mapped values."
   ]
  },
  {
   "cell_type": "markdown",
   "metadata": {},
   "source": [
    "## Project Submission "
   ]
  },
  {
   "cell_type": "markdown",
   "metadata": {},
   "source": [
    "When submitting this project, make sure to run all the cells before saving the notebook. Save the notebook file as \"student_project_submission.ipynb\" and save another copy as an HTML file by clicking \"File\" -> \"Download as..\"->\"html\". Include the \"utils.py\" and \"student_utils.py\" files in your submission. The student_utils.py should be where you put most of your code that you write and the summary and text explanations should be written inline in the notebook. Once you download these files, compress them into one zip file for submission."
   ]
  },
  {
   "cell_type": "markdown",
   "metadata": {},
   "source": [
    "## Prerequisites "
   ]
  },
  {
   "cell_type": "markdown",
   "metadata": {},
   "source": [
    "- Intermediate level knowledge of Python\n",
    "- Basic knowledge of probability and statistics\n",
    "- Basic knowledge of machine learning concepts\n",
    "- Installation of Tensorflow 2.0 and other dependencies(conda environment.yml or virtualenv requirements.txt file provided)"
   ]
  },
  {
   "cell_type": "markdown",
   "metadata": {},
   "source": [
    "## Environment Setup"
   ]
  },
  {
   "cell_type": "markdown",
   "metadata": {},
   "source": [
    "For step by step instructions on creating your environment, please go to https://github.com/udacity/nd320-c1-emr-data-starter/blob/master/project/README.md."
   ]
  },
  {
   "cell_type": "markdown",
   "metadata": {},
   "source": [
    "# 2.  Learning Objectives"
   ]
  },
  {
   "cell_type": "markdown",
   "metadata": {},
   "source": [
    "By the end of the project, you will be able to \n",
    "   - Use the Tensorflow Dataset API to scalably extract, transform, and load datasets and build datasets aggregated at the line, encounter, and patient data levels(longitudinal)\n",
    "   - Analyze EHR datasets to check for common issues (data leakage, statistical properties, missing values, high cardinality) by performing exploratory data analysis.\n",
    "   - Create categorical features from Key Industry Code Sets (ICD, CPT, NDC) and reduce dimensionality for high cardinality features by using embeddings \n",
    "   - Create derived features(bucketing, cross-features, embeddings) utilizing Tensorflow feature columns on both continuous and categorical input features\n",
    "   - SWBAT use the Tensorflow Probability library to train a model that provides uncertainty range predictions that allow for risk adjustment/prioritization and triaging of predictions\n",
    "   - Analyze and determine biases for a model for key demographic groups by evaluating performance metrics across groups by using the Aequitas framework \n"
   ]
  },
  {
   "cell_type": "markdown",
   "metadata": {},
   "source": [
    "# 3. Data Preparation"
   ]
  },
  {
   "cell_type": "code",
   "execution_count": 1,
   "metadata": {},
   "outputs": [],
   "source": [
    "# from __future__ import absolute_import, division, print_function, unicode_literals\n",
    "import os\n",
    "import numpy as np\n",
    "import tensorflow as tf\n",
    "from tensorflow.keras import layers\n",
    "import tensorflow_probability as tfp\n",
    "import matplotlib.pyplot as plt\n",
    "import pandas as pd\n",
    "import aequitas as ae\n",
    "import warnings \n",
    "warnings.filterwarnings('ignore')\n",
    "# Put all of the helper functions in utils\n",
    "from utils import build_vocab_files, show_group_stats_viz, aggregate_dataset, preprocess_df, df_to_dataset, posterior_mean_field, prior_trainable\n",
    "pd.set_option('display.max_columns', 500)\n",
    "# this allows you to make changes and save in student_utils.py and the file is reloaded every time you run a code block\n",
    "%load_ext autoreload\n",
    "%autoreload"
   ]
  },
  {
   "cell_type": "code",
   "execution_count": 2,
   "metadata": {},
   "outputs": [],
   "source": [
    "#OPEN ISSUE ON MAC OSX for TF model training\n",
    "import os\n",
    "os.environ['KMP_DUPLICATE_LIB_OK']='True'"
   ]
  },
  {
   "cell_type": "markdown",
   "metadata": {},
   "source": [
    "## Dataset Loading and Schema Review"
   ]
  },
  {
   "cell_type": "markdown",
   "metadata": {},
   "source": [
    "Load the dataset and view a sample of the dataset along with reviewing the schema reference files to gain a deeper understanding of the dataset. The dataset is located at the following path https://github.com/udacity/nd320-c1-emr-data-starter/blob/master/project/starter_code/data/final_project_dataset.csv. Also, review the information found in the data schema https://github.com/udacity/nd320-c1-emr-data-starter/blob/master/project/data_schema_references/"
   ]
  },
  {
   "cell_type": "code",
   "execution_count": 3,
   "metadata": {},
   "outputs": [],
   "source": [
    "dataset_path = \"./data/final_project_dataset.csv\"\n",
    "df = pd.read_csv(dataset_path)"
   ]
  },
  {
   "cell_type": "code",
   "execution_count": 4,
   "metadata": {},
   "outputs": [
    {
     "data": {
      "text/html": [
       "<div>\n",
       "<style scoped>\n",
       "    .dataframe tbody tr th:only-of-type {\n",
       "        vertical-align: middle;\n",
       "    }\n",
       "\n",
       "    .dataframe tbody tr th {\n",
       "        vertical-align: top;\n",
       "    }\n",
       "\n",
       "    .dataframe thead th {\n",
       "        text-align: right;\n",
       "    }\n",
       "</style>\n",
       "<table border=\"1\" class=\"dataframe\">\n",
       "  <thead>\n",
       "    <tr style=\"text-align: right;\">\n",
       "      <th></th>\n",
       "      <th>encounter_id</th>\n",
       "      <th>patient_nbr</th>\n",
       "      <th>race</th>\n",
       "      <th>gender</th>\n",
       "      <th>age</th>\n",
       "      <th>weight</th>\n",
       "      <th>admission_type_id</th>\n",
       "      <th>discharge_disposition_id</th>\n",
       "      <th>admission_source_id</th>\n",
       "      <th>time_in_hospital</th>\n",
       "      <th>payer_code</th>\n",
       "      <th>medical_specialty</th>\n",
       "      <th>primary_diagnosis_code</th>\n",
       "      <th>other_diagnosis_codes</th>\n",
       "      <th>number_outpatient</th>\n",
       "      <th>number_inpatient</th>\n",
       "      <th>number_emergency</th>\n",
       "      <th>num_lab_procedures</th>\n",
       "      <th>number_diagnoses</th>\n",
       "      <th>num_medications</th>\n",
       "      <th>num_procedures</th>\n",
       "      <th>ndc_code</th>\n",
       "      <th>max_glu_serum</th>\n",
       "      <th>A1Cresult</th>\n",
       "      <th>change</th>\n",
       "      <th>readmitted</th>\n",
       "    </tr>\n",
       "  </thead>\n",
       "  <tbody>\n",
       "    <tr>\n",
       "      <th>0</th>\n",
       "      <td>2278392</td>\n",
       "      <td>8222157</td>\n",
       "      <td>Caucasian</td>\n",
       "      <td>Female</td>\n",
       "      <td>[0-10)</td>\n",
       "      <td>?</td>\n",
       "      <td>6</td>\n",
       "      <td>25</td>\n",
       "      <td>1</td>\n",
       "      <td>1</td>\n",
       "      <td>?</td>\n",
       "      <td>Pediatrics-Endocrinology</td>\n",
       "      <td>250.83</td>\n",
       "      <td>?|?</td>\n",
       "      <td>0</td>\n",
       "      <td>0</td>\n",
       "      <td>0</td>\n",
       "      <td>41</td>\n",
       "      <td>1</td>\n",
       "      <td>1</td>\n",
       "      <td>0</td>\n",
       "      <td>NaN</td>\n",
       "      <td>None</td>\n",
       "      <td>None</td>\n",
       "      <td>No</td>\n",
       "      <td>NO</td>\n",
       "    </tr>\n",
       "    <tr>\n",
       "      <th>1</th>\n",
       "      <td>149190</td>\n",
       "      <td>55629189</td>\n",
       "      <td>Caucasian</td>\n",
       "      <td>Female</td>\n",
       "      <td>[10-20)</td>\n",
       "      <td>?</td>\n",
       "      <td>1</td>\n",
       "      <td>1</td>\n",
       "      <td>7</td>\n",
       "      <td>3</td>\n",
       "      <td>?</td>\n",
       "      <td>?</td>\n",
       "      <td>276</td>\n",
       "      <td>250.01|255</td>\n",
       "      <td>0</td>\n",
       "      <td>0</td>\n",
       "      <td>0</td>\n",
       "      <td>59</td>\n",
       "      <td>9</td>\n",
       "      <td>18</td>\n",
       "      <td>0</td>\n",
       "      <td>68071-1701</td>\n",
       "      <td>None</td>\n",
       "      <td>None</td>\n",
       "      <td>Ch</td>\n",
       "      <td>&gt;30</td>\n",
       "    </tr>\n",
       "    <tr>\n",
       "      <th>2</th>\n",
       "      <td>64410</td>\n",
       "      <td>86047875</td>\n",
       "      <td>AfricanAmerican</td>\n",
       "      <td>Female</td>\n",
       "      <td>[20-30)</td>\n",
       "      <td>?</td>\n",
       "      <td>1</td>\n",
       "      <td>1</td>\n",
       "      <td>7</td>\n",
       "      <td>2</td>\n",
       "      <td>?</td>\n",
       "      <td>?</td>\n",
       "      <td>648</td>\n",
       "      <td>250|V27</td>\n",
       "      <td>2</td>\n",
       "      <td>1</td>\n",
       "      <td>0</td>\n",
       "      <td>11</td>\n",
       "      <td>6</td>\n",
       "      <td>13</td>\n",
       "      <td>5</td>\n",
       "      <td>0378-1110</td>\n",
       "      <td>None</td>\n",
       "      <td>None</td>\n",
       "      <td>No</td>\n",
       "      <td>NO</td>\n",
       "    </tr>\n",
       "    <tr>\n",
       "      <th>3</th>\n",
       "      <td>500364</td>\n",
       "      <td>82442376</td>\n",
       "      <td>Caucasian</td>\n",
       "      <td>Male</td>\n",
       "      <td>[30-40)</td>\n",
       "      <td>?</td>\n",
       "      <td>1</td>\n",
       "      <td>1</td>\n",
       "      <td>7</td>\n",
       "      <td>2</td>\n",
       "      <td>?</td>\n",
       "      <td>?</td>\n",
       "      <td>8</td>\n",
       "      <td>250.43|403</td>\n",
       "      <td>0</td>\n",
       "      <td>0</td>\n",
       "      <td>0</td>\n",
       "      <td>44</td>\n",
       "      <td>7</td>\n",
       "      <td>16</td>\n",
       "      <td>1</td>\n",
       "      <td>68071-1701</td>\n",
       "      <td>None</td>\n",
       "      <td>None</td>\n",
       "      <td>Ch</td>\n",
       "      <td>NO</td>\n",
       "    </tr>\n",
       "    <tr>\n",
       "      <th>4</th>\n",
       "      <td>16680</td>\n",
       "      <td>42519267</td>\n",
       "      <td>Caucasian</td>\n",
       "      <td>Male</td>\n",
       "      <td>[40-50)</td>\n",
       "      <td>?</td>\n",
       "      <td>1</td>\n",
       "      <td>1</td>\n",
       "      <td>7</td>\n",
       "      <td>1</td>\n",
       "      <td>?</td>\n",
       "      <td>?</td>\n",
       "      <td>197</td>\n",
       "      <td>157|250</td>\n",
       "      <td>0</td>\n",
       "      <td>0</td>\n",
       "      <td>0</td>\n",
       "      <td>51</td>\n",
       "      <td>5</td>\n",
       "      <td>8</td>\n",
       "      <td>0</td>\n",
       "      <td>0049-4110</td>\n",
       "      <td>None</td>\n",
       "      <td>None</td>\n",
       "      <td>Ch</td>\n",
       "      <td>NO</td>\n",
       "    </tr>\n",
       "  </tbody>\n",
       "</table>\n",
       "</div>"
      ],
      "text/plain": [
       "   encounter_id  patient_nbr             race  gender      age weight  \\\n",
       "0       2278392      8222157        Caucasian  Female   [0-10)      ?   \n",
       "1        149190     55629189        Caucasian  Female  [10-20)      ?   \n",
       "2         64410     86047875  AfricanAmerican  Female  [20-30)      ?   \n",
       "3        500364     82442376        Caucasian    Male  [30-40)      ?   \n",
       "4         16680     42519267        Caucasian    Male  [40-50)      ?   \n",
       "\n",
       "   admission_type_id  discharge_disposition_id  admission_source_id  \\\n",
       "0                  6                        25                    1   \n",
       "1                  1                         1                    7   \n",
       "2                  1                         1                    7   \n",
       "3                  1                         1                    7   \n",
       "4                  1                         1                    7   \n",
       "\n",
       "   time_in_hospital payer_code         medical_specialty  \\\n",
       "0                 1          ?  Pediatrics-Endocrinology   \n",
       "1                 3          ?                         ?   \n",
       "2                 2          ?                         ?   \n",
       "3                 2          ?                         ?   \n",
       "4                 1          ?                         ?   \n",
       "\n",
       "  primary_diagnosis_code other_diagnosis_codes  number_outpatient  \\\n",
       "0                 250.83                   ?|?                  0   \n",
       "1                    276            250.01|255                  0   \n",
       "2                    648               250|V27                  2   \n",
       "3                      8            250.43|403                  0   \n",
       "4                    197               157|250                  0   \n",
       "\n",
       "   number_inpatient  number_emergency  num_lab_procedures  number_diagnoses  \\\n",
       "0                 0                 0                  41                 1   \n",
       "1                 0                 0                  59                 9   \n",
       "2                 1                 0                  11                 6   \n",
       "3                 0                 0                  44                 7   \n",
       "4                 0                 0                  51                 5   \n",
       "\n",
       "   num_medications  num_procedures    ndc_code max_glu_serum A1Cresult change  \\\n",
       "0                1               0         NaN          None      None     No   \n",
       "1               18               0  68071-1701          None      None     Ch   \n",
       "2               13               5   0378-1110          None      None     No   \n",
       "3               16               1  68071-1701          None      None     Ch   \n",
       "4                8               0   0049-4110          None      None     Ch   \n",
       "\n",
       "  readmitted  \n",
       "0         NO  \n",
       "1        >30  \n",
       "2         NO  \n",
       "3         NO  \n",
       "4         NO  "
      ]
     },
     "execution_count": 4,
     "metadata": {},
     "output_type": "execute_result"
    }
   ],
   "source": [
    "df.head()"
   ]
  },
  {
   "cell_type": "markdown",
   "metadata": {},
   "source": [
    "## Determine Level of Dataset (Line or Encounter)"
   ]
  },
  {
   "cell_type": "markdown",
   "metadata": {},
   "source": [
    "**Question 1**: Based off of analysis of the data, what level is this dataset? Is it at the line or encounter level? Are there any key fields besides the encounter_id and patient_nbr fields that we should use to aggregate on? Knowing this information will help inform us what level of aggregation is necessary for future steps and is a step that is often overlooked. "
   ]
  },
  {
   "cell_type": "code",
   "execution_count": 5,
   "metadata": {},
   "outputs": [
    {
     "name": "stdout",
     "output_type": "stream",
     "text": [
      "<class 'pandas.core.frame.DataFrame'>\n",
      "RangeIndex: 143424 entries, 0 to 143423\n",
      "Data columns (total 26 columns):\n",
      " #   Column                    Non-Null Count   Dtype \n",
      "---  ------                    --------------   ----- \n",
      " 0   encounter_id              143424 non-null  int64 \n",
      " 1   patient_nbr               143424 non-null  int64 \n",
      " 2   race                      143424 non-null  object\n",
      " 3   gender                    143424 non-null  object\n",
      " 4   age                       143424 non-null  object\n",
      " 5   weight                    143424 non-null  object\n",
      " 6   admission_type_id         143424 non-null  int64 \n",
      " 7   discharge_disposition_id  143424 non-null  int64 \n",
      " 8   admission_source_id       143424 non-null  int64 \n",
      " 9   time_in_hospital          143424 non-null  int64 \n",
      " 10  payer_code                143424 non-null  object\n",
      " 11  medical_specialty         143424 non-null  object\n",
      " 12  primary_diagnosis_code    143424 non-null  object\n",
      " 13  other_diagnosis_codes     143424 non-null  object\n",
      " 14  number_outpatient         143424 non-null  int64 \n",
      " 15  number_inpatient          143424 non-null  int64 \n",
      " 16  number_emergency          143424 non-null  int64 \n",
      " 17  num_lab_procedures        143424 non-null  int64 \n",
      " 18  number_diagnoses          143424 non-null  int64 \n",
      " 19  num_medications           143424 non-null  int64 \n",
      " 20  num_procedures            143424 non-null  int64 \n",
      " 21  ndc_code                  119962 non-null  object\n",
      " 22  max_glu_serum             143424 non-null  object\n",
      " 23  A1Cresult                 143424 non-null  object\n",
      " 24  change                    143424 non-null  object\n",
      " 25  readmitted                143424 non-null  object\n",
      "dtypes: int64(13), object(13)\n",
      "memory usage: 28.5+ MB\n"
     ]
    }
   ],
   "source": [
    "# count, dtypes of columns\n",
    "df.info()"
   ]
  },
  {
   "cell_type": "code",
   "execution_count": 6,
   "metadata": {},
   "outputs": [
    {
     "name": "stdout",
     "output_type": "stream",
     "text": [
      "encounter_id 101766\n",
      "patient_nbr 71518\n",
      "primary_diagnosis_code 717\n",
      "rows 143424\n"
     ]
    }
   ],
   "source": [
    "print(\"encounter_id\", df[\"encounter_id\"].nunique())\n",
    "print(\"patient_nbr\", df[\"patient_nbr\"].nunique())\n",
    "\n",
    "print(\"primary_diagnosis_code\", df.primary_diagnosis_code.nunique())\n",
    "print(\"rows\", df.shape[0])"
   ]
  },
  {
   "cell_type": "markdown",
   "metadata": {},
   "source": [
    "Student Response:??"
   ]
  },
  {
   "cell_type": "markdown",
   "metadata": {},
   "source": [
    "Because there are more records than encounters, the dataset is at the line level. For each patient, there are also additoinal encounters "
   ]
  },
  {
   "cell_type": "markdown",
   "metadata": {},
   "source": [
    "## Analyze Dataset"
   ]
  },
  {
   "cell_type": "markdown",
   "metadata": {},
   "source": [
    "**Question 2**: Utilizing the library of your choice (recommend Pandas and Seaborn or matplotlib though), perform exploratory data analysis on the dataset. In particular be sure to address the following questions:  \n",
    "    - a. Field(s) with high amount of missing/zero values\n",
    "    - b. Based off the frequency histogram for each numerical field, which numerical field(s) has/have a Gaussian(normal) distribution shape?\n",
    "    - c. Which field(s) have high cardinality and why (HINT: ndc_code is one feature)\n",
    "    - d. Please describe the demographic distributions in the dataset for the age and gender fields.\n",
    "    \n"
   ]
  },
  {
   "cell_type": "markdown",
   "metadata": {},
   "source": [
    "###### - a. Field(s) with high amount of missing/zero values"
   ]
  },
  {
   "cell_type": "code",
   "execution_count": 7,
   "metadata": {},
   "outputs": [
    {
     "data": {
      "text/html": [
       "<div>\n",
       "<style scoped>\n",
       "    .dataframe tbody tr th:only-of-type {\n",
       "        vertical-align: middle;\n",
       "    }\n",
       "\n",
       "    .dataframe tbody tr th {\n",
       "        vertical-align: top;\n",
       "    }\n",
       "\n",
       "    .dataframe thead th {\n",
       "        text-align: right;\n",
       "    }\n",
       "</style>\n",
       "<table border=\"1\" class=\"dataframe\">\n",
       "  <thead>\n",
       "    <tr style=\"text-align: right;\">\n",
       "      <th></th>\n",
       "      <th>encounter_id</th>\n",
       "      <th>patient_nbr</th>\n",
       "      <th>race</th>\n",
       "      <th>gender</th>\n",
       "      <th>age</th>\n",
       "      <th>weight</th>\n",
       "      <th>admission_type_id</th>\n",
       "      <th>discharge_disposition_id</th>\n",
       "      <th>admission_source_id</th>\n",
       "      <th>time_in_hospital</th>\n",
       "      <th>payer_code</th>\n",
       "      <th>medical_specialty</th>\n",
       "      <th>primary_diagnosis_code</th>\n",
       "      <th>other_diagnosis_codes</th>\n",
       "      <th>number_outpatient</th>\n",
       "      <th>number_inpatient</th>\n",
       "      <th>number_emergency</th>\n",
       "      <th>num_lab_procedures</th>\n",
       "      <th>number_diagnoses</th>\n",
       "      <th>num_medications</th>\n",
       "      <th>num_procedures</th>\n",
       "      <th>ndc_code</th>\n",
       "      <th>max_glu_serum</th>\n",
       "      <th>A1Cresult</th>\n",
       "      <th>change</th>\n",
       "      <th>readmitted</th>\n",
       "    </tr>\n",
       "  </thead>\n",
       "  <tbody>\n",
       "    <tr>\n",
       "      <th>0</th>\n",
       "      <td>2278392</td>\n",
       "      <td>8222157</td>\n",
       "      <td>Caucasian</td>\n",
       "      <td>Female</td>\n",
       "      <td>[0-10)</td>\n",
       "      <td>?</td>\n",
       "      <td>6</td>\n",
       "      <td>25</td>\n",
       "      <td>1</td>\n",
       "      <td>1</td>\n",
       "      <td>?</td>\n",
       "      <td>Pediatrics-Endocrinology</td>\n",
       "      <td>250.83</td>\n",
       "      <td>?|?</td>\n",
       "      <td>0</td>\n",
       "      <td>0</td>\n",
       "      <td>0</td>\n",
       "      <td>41</td>\n",
       "      <td>1</td>\n",
       "      <td>1</td>\n",
       "      <td>0</td>\n",
       "      <td>NaN</td>\n",
       "      <td>None</td>\n",
       "      <td>None</td>\n",
       "      <td>No</td>\n",
       "      <td>NO</td>\n",
       "    </tr>\n",
       "    <tr>\n",
       "      <th>1</th>\n",
       "      <td>149190</td>\n",
       "      <td>55629189</td>\n",
       "      <td>Caucasian</td>\n",
       "      <td>Female</td>\n",
       "      <td>[10-20)</td>\n",
       "      <td>?</td>\n",
       "      <td>1</td>\n",
       "      <td>1</td>\n",
       "      <td>7</td>\n",
       "      <td>3</td>\n",
       "      <td>?</td>\n",
       "      <td>?</td>\n",
       "      <td>276</td>\n",
       "      <td>250.01|255</td>\n",
       "      <td>0</td>\n",
       "      <td>0</td>\n",
       "      <td>0</td>\n",
       "      <td>59</td>\n",
       "      <td>9</td>\n",
       "      <td>18</td>\n",
       "      <td>0</td>\n",
       "      <td>68071-1701</td>\n",
       "      <td>None</td>\n",
       "      <td>None</td>\n",
       "      <td>Ch</td>\n",
       "      <td>&gt;30</td>\n",
       "    </tr>\n",
       "    <tr>\n",
       "      <th>2</th>\n",
       "      <td>64410</td>\n",
       "      <td>86047875</td>\n",
       "      <td>AfricanAmerican</td>\n",
       "      <td>Female</td>\n",
       "      <td>[20-30)</td>\n",
       "      <td>?</td>\n",
       "      <td>1</td>\n",
       "      <td>1</td>\n",
       "      <td>7</td>\n",
       "      <td>2</td>\n",
       "      <td>?</td>\n",
       "      <td>?</td>\n",
       "      <td>648</td>\n",
       "      <td>250|V27</td>\n",
       "      <td>2</td>\n",
       "      <td>1</td>\n",
       "      <td>0</td>\n",
       "      <td>11</td>\n",
       "      <td>6</td>\n",
       "      <td>13</td>\n",
       "      <td>5</td>\n",
       "      <td>0378-1110</td>\n",
       "      <td>None</td>\n",
       "      <td>None</td>\n",
       "      <td>No</td>\n",
       "      <td>NO</td>\n",
       "    </tr>\n",
       "    <tr>\n",
       "      <th>3</th>\n",
       "      <td>500364</td>\n",
       "      <td>82442376</td>\n",
       "      <td>Caucasian</td>\n",
       "      <td>Male</td>\n",
       "      <td>[30-40)</td>\n",
       "      <td>?</td>\n",
       "      <td>1</td>\n",
       "      <td>1</td>\n",
       "      <td>7</td>\n",
       "      <td>2</td>\n",
       "      <td>?</td>\n",
       "      <td>?</td>\n",
       "      <td>8</td>\n",
       "      <td>250.43|403</td>\n",
       "      <td>0</td>\n",
       "      <td>0</td>\n",
       "      <td>0</td>\n",
       "      <td>44</td>\n",
       "      <td>7</td>\n",
       "      <td>16</td>\n",
       "      <td>1</td>\n",
       "      <td>68071-1701</td>\n",
       "      <td>None</td>\n",
       "      <td>None</td>\n",
       "      <td>Ch</td>\n",
       "      <td>NO</td>\n",
       "    </tr>\n",
       "    <tr>\n",
       "      <th>4</th>\n",
       "      <td>16680</td>\n",
       "      <td>42519267</td>\n",
       "      <td>Caucasian</td>\n",
       "      <td>Male</td>\n",
       "      <td>[40-50)</td>\n",
       "      <td>?</td>\n",
       "      <td>1</td>\n",
       "      <td>1</td>\n",
       "      <td>7</td>\n",
       "      <td>1</td>\n",
       "      <td>?</td>\n",
       "      <td>?</td>\n",
       "      <td>197</td>\n",
       "      <td>157|250</td>\n",
       "      <td>0</td>\n",
       "      <td>0</td>\n",
       "      <td>0</td>\n",
       "      <td>51</td>\n",
       "      <td>5</td>\n",
       "      <td>8</td>\n",
       "      <td>0</td>\n",
       "      <td>0049-4110</td>\n",
       "      <td>None</td>\n",
       "      <td>None</td>\n",
       "      <td>Ch</td>\n",
       "      <td>NO</td>\n",
       "    </tr>\n",
       "  </tbody>\n",
       "</table>\n",
       "</div>"
      ],
      "text/plain": [
       "   encounter_id  patient_nbr             race  gender      age weight  \\\n",
       "0       2278392      8222157        Caucasian  Female   [0-10)      ?   \n",
       "1        149190     55629189        Caucasian  Female  [10-20)      ?   \n",
       "2         64410     86047875  AfricanAmerican  Female  [20-30)      ?   \n",
       "3        500364     82442376        Caucasian    Male  [30-40)      ?   \n",
       "4         16680     42519267        Caucasian    Male  [40-50)      ?   \n",
       "\n",
       "   admission_type_id  discharge_disposition_id  admission_source_id  \\\n",
       "0                  6                        25                    1   \n",
       "1                  1                         1                    7   \n",
       "2                  1                         1                    7   \n",
       "3                  1                         1                    7   \n",
       "4                  1                         1                    7   \n",
       "\n",
       "   time_in_hospital payer_code         medical_specialty  \\\n",
       "0                 1          ?  Pediatrics-Endocrinology   \n",
       "1                 3          ?                         ?   \n",
       "2                 2          ?                         ?   \n",
       "3                 2          ?                         ?   \n",
       "4                 1          ?                         ?   \n",
       "\n",
       "  primary_diagnosis_code other_diagnosis_codes  number_outpatient  \\\n",
       "0                 250.83                   ?|?                  0   \n",
       "1                    276            250.01|255                  0   \n",
       "2                    648               250|V27                  2   \n",
       "3                      8            250.43|403                  0   \n",
       "4                    197               157|250                  0   \n",
       "\n",
       "   number_inpatient  number_emergency  num_lab_procedures  number_diagnoses  \\\n",
       "0                 0                 0                  41                 1   \n",
       "1                 0                 0                  59                 9   \n",
       "2                 1                 0                  11                 6   \n",
       "3                 0                 0                  44                 7   \n",
       "4                 0                 0                  51                 5   \n",
       "\n",
       "   num_medications  num_procedures    ndc_code max_glu_serum A1Cresult change  \\\n",
       "0                1               0         NaN          None      None     No   \n",
       "1               18               0  68071-1701          None      None     Ch   \n",
       "2               13               5   0378-1110          None      None     No   \n",
       "3               16               1  68071-1701          None      None     Ch   \n",
       "4                8               0   0049-4110          None      None     Ch   \n",
       "\n",
       "  readmitted  \n",
       "0         NO  \n",
       "1        >30  \n",
       "2         NO  \n",
       "3         NO  \n",
       "4         NO  "
      ]
     },
     "execution_count": 7,
     "metadata": {},
     "output_type": "execute_result"
    }
   ],
   "source": [
    "# First 50 rows\n",
    "df.head()"
   ]
  },
  {
   "cell_type": "code",
   "execution_count": 8,
   "metadata": {},
   "outputs": [
    {
     "name": "stdout",
     "output_type": "stream",
     "text": [
      "<class 'pandas.core.frame.DataFrame'>\n",
      "RangeIndex: 143424 entries, 0 to 143423\n",
      "Data columns (total 26 columns):\n",
      " #   Column                    Non-Null Count   Dtype \n",
      "---  ------                    --------------   ----- \n",
      " 0   encounter_id              143424 non-null  int64 \n",
      " 1   patient_nbr               143424 non-null  int64 \n",
      " 2   race                      143424 non-null  object\n",
      " 3   gender                    143424 non-null  object\n",
      " 4   age                       143424 non-null  object\n",
      " 5   weight                    143424 non-null  object\n",
      " 6   admission_type_id         143424 non-null  int64 \n",
      " 7   discharge_disposition_id  143424 non-null  int64 \n",
      " 8   admission_source_id       143424 non-null  int64 \n",
      " 9   time_in_hospital          143424 non-null  int64 \n",
      " 10  payer_code                143424 non-null  object\n",
      " 11  medical_specialty         143424 non-null  object\n",
      " 12  primary_diagnosis_code    143424 non-null  object\n",
      " 13  other_diagnosis_codes     143424 non-null  object\n",
      " 14  number_outpatient         143424 non-null  int64 \n",
      " 15  number_inpatient          143424 non-null  int64 \n",
      " 16  number_emergency          143424 non-null  int64 \n",
      " 17  num_lab_procedures        143424 non-null  int64 \n",
      " 18  number_diagnoses          143424 non-null  int64 \n",
      " 19  num_medications           143424 non-null  int64 \n",
      " 20  num_procedures            143424 non-null  int64 \n",
      " 21  ndc_code                  119962 non-null  object\n",
      " 22  max_glu_serum             143424 non-null  object\n",
      " 23  A1Cresult                 143424 non-null  object\n",
      " 24  change                    143424 non-null  object\n",
      " 25  readmitted                143424 non-null  object\n",
      "dtypes: int64(13), object(13)\n",
      "memory usage: 28.5+ MB\n"
     ]
    }
   ],
   "source": [
    "# Check the dataset\n",
    "df.info()"
   ]
  },
  {
   "cell_type": "code",
   "execution_count": 9,
   "metadata": {},
   "outputs": [
    {
     "data": {
      "text/plain": [
       "encounter_id                    0\n",
       "patient_nbr                     0\n",
       "race                            0\n",
       "gender                          0\n",
       "age                             0\n",
       "weight                          0\n",
       "admission_type_id               0\n",
       "discharge_disposition_id        0\n",
       "admission_source_id             0\n",
       "time_in_hospital                0\n",
       "payer_code                      0\n",
       "medical_specialty               0\n",
       "primary_diagnosis_code          0\n",
       "other_diagnosis_codes           0\n",
       "number_outpatient               0\n",
       "number_inpatient                0\n",
       "number_emergency                0\n",
       "num_lab_procedures              0\n",
       "number_diagnoses                0\n",
       "num_medications                 0\n",
       "num_procedures                  0\n",
       "ndc_code                    23462\n",
       "max_glu_serum                   0\n",
       "A1Cresult                       0\n",
       "change                          0\n",
       "readmitted                      0\n",
       "dtype: int64"
      ]
     },
     "execution_count": 9,
     "metadata": {},
     "output_type": "execute_result"
    }
   ],
   "source": [
    "# NaNs values at the first sight \n",
    "df.isnull().sum()"
   ]
  },
  {
   "cell_type": "code",
   "execution_count": 10,
   "metadata": {},
   "outputs": [
    {
     "data": {
      "text/plain": [
       "weight                    0.970005\n",
       "max_glu_serum             0.951089\n",
       "A1Cresult                 0.820295\n",
       "medical_specialty         0.484319\n",
       "payer_code                0.377831\n",
       "ndc_code                  0.163585\n",
       "race                      0.023071\n",
       "primary_diagnosis_code    0.000230\n",
       "dtype: float64"
      ]
     },
     "execution_count": 10,
     "metadata": {},
     "output_type": "execute_result"
    }
   ],
   "source": [
    "# Let's harmonized the columns to re-evalute NaNs\n",
    "# copy dataset \n",
    "df_nan=df.copy()\n",
    "# Let's replace the ponctuation ? and None by NaN \n",
    "df_nan=df_nan.replace('?', np.nan).replace('None', np.nan)\n",
    "# And compute the NaN average \n",
    "nan_mean=df_nan.isnull().mean().sort_values(ascending=False)\n",
    "nan_mean[nan_mean>0]"
   ]
  },
  {
   "cell_type": "markdown",
   "metadata": {},
   "source": [
    "As you can see the following columns have hight amount of missing or Zero values accordingly : weight, max_glu_serum, A1Cresult, medical_specialty, payer_code, ndc_code, race, primary_diagnosis_code."
   ]
  },
  {
   "cell_type": "markdown",
   "metadata": {},
   "source": [
    "###### - b. Based off the frequency histogram for each numerical field, which numerical field(s) has/have a Gaussian(normal) distribution shape?"
   ]
  },
  {
   "cell_type": "code",
   "execution_count": 11,
   "metadata": {},
   "outputs": [
    {
     "data": {
      "text/plain": [
       "encounter_id                 int64\n",
       "patient_nbr                  int64\n",
       "race                        object\n",
       "gender                      object\n",
       "age                         object\n",
       "weight                      object\n",
       "admission_type_id            int64\n",
       "discharge_disposition_id     int64\n",
       "admission_source_id          int64\n",
       "time_in_hospital             int64\n",
       "payer_code                  object\n",
       "medical_specialty           object\n",
       "primary_diagnosis_code      object\n",
       "other_diagnosis_codes       object\n",
       "number_outpatient            int64\n",
       "number_inpatient             int64\n",
       "number_emergency             int64\n",
       "num_lab_procedures           int64\n",
       "number_diagnoses             int64\n",
       "num_medications              int64\n",
       "num_procedures               int64\n",
       "ndc_code                    object\n",
       "max_glu_serum               object\n",
       "A1Cresult                   object\n",
       "change                      object\n",
       "readmitted                  object\n",
       "dtype: object"
      ]
     },
     "execution_count": 11,
     "metadata": {},
     "output_type": "execute_result"
    }
   ],
   "source": [
    "df.dtypes"
   ]
  },
  {
   "cell_type": "code",
   "execution_count": 12,
   "metadata": {},
   "outputs": [
    {
     "data": {
      "image/png": "[encoded data removed]",
      "text/plain": [
       "<Figure size 1080x1080 with 16 Axes>"
      ]
     },
     "metadata": {
      "needs_background": "light"
     },
     "output_type": "display_data"
    }
   ],
   "source": [
    "numerical_col=[col for col in df.columns if df[col].dtype!='object']\n",
    "df[numerical_col].hist(figsize=(15,15))\n",
    "plt.show()"
   ]
  },
  {
   "cell_type": "markdown",
   "metadata": {},
   "source": [
    "The features with a gaussian distribution are encounter_id, num_medications, num_lab_procedures and time_in_hospital."
   ]
  },
  {
   "cell_type": "markdown",
   "metadata": {},
   "source": [
    "###### Which field(s) have high cardinality and why? (HINT: ndc_code is one feature)"
   ]
  },
  {
   "cell_type": "code",
   "execution_count": 13,
   "metadata": {},
   "outputs": [
    {
     "data": {
      "text/plain": [
       "other_diagnosis_codes     19374\n",
       "primary_diagnosis_code      717\n",
       "ndc_code                    251\n",
       "medical_specialty            73\n",
       "payer_code                   18\n",
       "age                          10\n",
       "weight                       10\n",
       "race                          6\n",
       "max_glu_serum                 4\n",
       "A1Cresult                     4\n",
       "gender                        3\n",
       "readmitted                    3\n",
       "change                        2\n",
       "dtype: int64"
      ]
     },
     "execution_count": 13,
     "metadata": {},
     "output_type": "execute_result"
    }
   ],
   "source": [
    "import seaborn as sns\n",
    "cat_col=[col for col in df.columns if df[col].dtypes=='object']\n",
    "df[cat_col].nunique().sort_values(ascending=False)"
   ]
  },
  {
   "cell_type": "markdown",
   "metadata": {},
   "source": [
    "The following features have high cardinality : other_diagnosis_codes, primary_diagnosis_code, ndc_code"
   ]
  },
  {
   "cell_type": "code",
   "execution_count": 14,
   "metadata": {},
   "outputs": [
    {
     "name": "stdout",
     "output_type": "stream",
     "text": [
      "race has ['Caucasian' 'AfricanAmerican' '?' 'Other' 'Asian' 'Hispanic'] values\n",
      "\n",
      "\n",
      "gender has ['Female' 'Male' 'Unknown/Invalid'] values\n",
      "\n",
      "\n",
      "age has ['[0-10)' '[10-20)' '[20-30)' '[30-40)' '[40-50)' '[50-60)' '[60-70)'\n",
      " '[70-80)' '[80-90)' '[90-100)'] values\n",
      "\n",
      "\n",
      "weight has ['?' '[75-100)' '[50-75)' '[0-25)' '[100-125)' '[25-50)' '[125-150)'\n",
      " '[175-200)' '[150-175)' '>200'] values\n",
      "\n",
      "\n",
      "payer_code has ['?' 'MC' 'MD' 'HM' 'UN' 'BC' 'SP' 'CP' 'SI' 'DM' 'CM' 'CH' 'PO' 'WC' 'OT'\n",
      " 'OG' 'MP' 'FR'] values\n",
      "\n",
      "\n",
      "medical_specialty has ['Pediatrics-Endocrinology' '?' 'InternalMedicine'\n",
      " 'Family/GeneralPractice' 'Cardiology' 'Surgery-General' 'Orthopedics'\n",
      " 'Gastroenterology' 'Surgery-Cardiovascular/Thoracic' 'Nephrology'\n",
      " 'Orthopedics-Reconstructive' 'Psychiatry' 'Emergency/Trauma'\n",
      " 'Pulmonology' 'Surgery-Neuro' 'Obsterics&Gynecology-GynecologicOnco'\n",
      " 'ObstetricsandGynecology' 'Pediatrics' 'Hematology/Oncology'\n",
      " 'Otolaryngology' 'Surgery-Colon&Rectal' 'Pediatrics-CriticalCare'\n",
      " 'Endocrinology' 'Urology' 'Psychiatry-Child/Adolescent'\n",
      " 'Pediatrics-Pulmonology' 'Neurology' 'Anesthesiology-Pediatric'\n",
      " 'Radiology' 'Pediatrics-Hematology-Oncology' 'Psychology' 'Podiatry'\n",
      " 'Gynecology' 'Oncology' 'Pediatrics-Neurology' 'Surgery-Plastic'\n",
      " 'Surgery-Thoracic' 'Surgery-PlasticwithinHeadandNeck' 'Ophthalmology'\n",
      " 'Surgery-Pediatric' 'Pediatrics-EmergencyMedicine'\n",
      " 'PhysicalMedicineandRehabilitation' 'InfectiousDiseases' 'Anesthesiology'\n",
      " 'Rheumatology' 'AllergyandImmunology' 'Surgery-Maxillofacial'\n",
      " 'Pediatrics-InfectiousDiseases' 'Pediatrics-AllergyandImmunology'\n",
      " 'Dentistry' 'Surgeon' 'Surgery-Vascular' 'Osteopath'\n",
      " 'Psychiatry-Addictive' 'Surgery-Cardiovascular' 'PhysicianNotFound'\n",
      " 'Hematology' 'Proctology' 'Obstetrics' 'SurgicalSpecialty' 'Radiologist'\n",
      " 'Pathology' 'Dermatology' 'SportsMedicine' 'Speech' 'Hospitalist'\n",
      " 'OutreachServices' 'Cardiology-Pediatric' 'Perinatology'\n",
      " 'Neurophysiology' 'Endocrinology-Metabolism' 'DCPTEAM' 'Resident'] values\n",
      "\n",
      "\n",
      "primary_diagnosis_code has ['250.83' '276' '648' '8' '197' '414' '428' '398' '434' '250.7' '157'\n",
      " '518' '999' '410' '682' '402' '737' '572' 'V57' '189' '786' '427' '996'\n",
      " '277' '584' '462' '473' '411' '174' '486' '998' '511' '432' '626' '295'\n",
      " '196' '250.6' '618' '182' '845' '423' '808' '250.4' '722' '403' '250.11'\n",
      " '784' '707' '440' '151' '715' '997' '198' '564' '812' '38' '590' '556'\n",
      " '578' '250.32' '433' 'V58' '569' '185' '536' '255' '250.13' '599' '558'\n",
      " '574' '491' '560' '244' '250.03' '577' '730' '188' '824' '250.8' '332'\n",
      " '562' '291' '296' '510' '401' '263' '438' '70' '250.02' '493' '642' '625'\n",
      " '571' '738' '593' '250.42' '807' '456' '446' '575' '250.41' '820' '515'\n",
      " '780' '250.22' '995' '235' '250.82' '721' '787' '162' '724' '282' '514'\n",
      " 'V55' '281' '250.33' '530' '466' '435' '250.12' 'V53' '789' '566' '822'\n",
      " '191' '557' '733' '455' '711' '482' '202' '280' '553' '225' '154' '441'\n",
      " '250.81' '349' '?' '962' '592' '507' '386' '156' '200' '728' '348' '459'\n",
      " '426' '388' '607' '337' '82' '531' '596' '288' '656' '573' '492' '220'\n",
      " '516' '210' '922' '286' '885' '958' '661' '969' '250.93' '227' '112'\n",
      " '404' '823' '532' '416' '346' '535' '453' '250' '595' '211' '303'\n",
      " '250.01' '852' '218' '782' '540' '457' '285' '431' '340' '550' '54' '351'\n",
      " '601' '723' '555' '153' '443' '380' '204' '424' '241' '358' '694' '331'\n",
      " '345' '681' '447' '290' '158' '579' '436' '335' '309' '654' '805' '799'\n",
      " '292' '183' '78' '851' '458' '586' '311' '892' '305' '293' '415' '591'\n",
      " '794' '803' '79' '655' '429' '278' '658' '598' '729' '585' '444' '604'\n",
      " '727' '214' '552' '284' '680' '708' '41' '644' '481' '821' '413' '437'\n",
      " '968' '756' '632' '359' '275' '512' '781' '420' '368' '522' '294' '825'\n",
      " '135' '304' '320' '250.31' '669' '868' '496' '250.43' '826' '567' '3'\n",
      " '203' '53' '251' '565' '161' '495' '49' '250.1' '297' '663' '576' '355'\n",
      " '850' '287' '250.2' '611' '840' '350' '726' '537' '620' '180' '366' '783'\n",
      " '11' '751' '716' '250.3' '199' '464' '580' '836' '664' '283' '813' '966'\n",
      " '289' '965' '184' '480' '608' '333' '972' '212' '117' '788' '924' '959'\n",
      " '621' '238' '785' '714' '942' '250.23' '710' '47' '933' '508' '478' '844'\n",
      " '7' '736' '233' '42' '250.5' '397' '395' '201' '421' '253' '250.92' '600'\n",
      " '494' '977' '39' '659' '312' '614' '647' '652' '646' '274' '861' '425'\n",
      " '527' '451' '485' '217' '250.53' '442' '970' '193' '160' '322' '581'\n",
      " '475' '623' '374' '582' '568' '465' '801' '237' '376' '150' '461' '913'\n",
      " '226' '617' '987' '641' '298' '790' '336' '362' '228' '513' '383' '746'\n",
      " '353' '911' '506' '873' '155' '860' '534' '802' '141' 'V45' '396' '310'\n",
      " '341' '242' '719' '239' '533' '616' '519' '301' 'V66' '5' '989' '230'\n",
      " '385' '300' '853' '871' '570' '848' '463' '9' '934' '250.21' '236' '361'\n",
      " '594' '501' '810' '643' '430' '528' '205' '791' '983' '992' '490' '172'\n",
      " '171' '622' '306' '863' '864' '474' '660' '759' '356' '634' '967' '551'\n",
      " '695' '187' '732' '747' '323' '308' '370' '252' '152' '846' '164' '365'\n",
      " '718' '48' '266' '720' '94' '344' '797' '170' '878' '904' 'V56' '882'\n",
      " '843' '709' '973' '454' '686' '939' '487' '229' '991' '483' '357' '692'\n",
      " '796' '693' '935' '936' '800' '920' 'V26' '261' '307' '262' '250.9' '831'\n",
      " '145' '223' 'V71' '839' '685' 'V54' '35' '34' '179' '964' '136' '324'\n",
      " '389' '815' '334' '143' '526' '588' '192' 'V67' '394' '917' '88' '219'\n",
      " '325' '792' '717' '994' '990' '793' '207' '637' '195' '373' '847' '827'\n",
      " '31' '891' '814' 'V60' '703' '865' '352' '627' '378' '342' '886' '369'\n",
      " '745' '705' '816' '541' '986' '610' '633' '640' '753' '173' '835' '379'\n",
      " '445' '272' '382' '945' '619' '881' '250.52' '866' '405' '916' '215'\n",
      " '893' '75' '671' '928' '906' '897' '725' '867' '115' '890' '734' '521'\n",
      " '674' '470' '834' '146' '696' '524' '980' '691' '384' '142' '879'\n",
      " '250.51' '246' '208' '448' '955' '653' '149' '245' '735' '883' '854'\n",
      " '952' '838' '194' 'V43' '163' '216' '147' '354' '27' '477' '318' '880'\n",
      " '921' '377' '471' '683' '175' '602' '250.91' '982' '706' '375' '417'\n",
      " '131' '347' '870' '148' '862' '61' '817' '914' '360' '684' '314' 'V63'\n",
      " '36' '57' '240' '915' '971' '795' '988' '452' '963' '327' '731' '842'\n",
      " 'V25' '645' '665' '110' '944' '603' '923' '412' '363' '957' '976' '698'\n",
      " '299' '700' '273' '974' '97' '529' '66' '98' '605' '941' '52' '806' '84'\n",
      " '271' '837' '657' '895' '338' '523' '542' '114' '543' '372' 'V70' 'E909'\n",
      " '583' 'V07' '422' '615' '279' '500' '903' '919' '875' '381' '804' '704'\n",
      " '23' '58' '649' '832' '133' '975' '833' '391' '690' '10' 'V51'] values\n",
      "\n",
      "\n",
      "other_diagnosis_codes has ['?|?' '250.01|255' '250|V27' ... '438|412' '291|458' '590|296'] values\n",
      "\n",
      "\n",
      "ndc_code has [nan '68071-1701' '0378-1110' '0049-4110' '47918-902' '35208-001'\n",
      " '16729-001' '47918-891' '0115-1742' '0173-0863' '0115-1743' '50090-0353'\n",
      " '0378-7185' '60429-484' '47918-880' '0049-0178' '0009-3449' '0093-8342'\n",
      " '0087-6063' '42571-103' '42385-904' '0378-7187' '42291-605' '0093-9477'\n",
      " '0054-0142' '47918-898' '0173-0861' '0591-0460' '12634-756' '0143-9920'\n",
      " '0591-2719' '0093-8343' '24658-790' '0378-4012' '10631-019' '42571-104'\n",
      " '42291-607' '0591-0461' '29033-031' '42291-559' '0093-7212' '0378-0215'\n",
      " '33342-240' '0087-6060' '65862-671' '25000-134' '33261-961' '0049-4120'\n",
      " '54458-967' '35208-002' '0378-1105' '12634-757' '0143-9919' '0093-8036'\n",
      " '33342-143' '0049-0174' '53217-323' '0093-9364' '50090-1526' '65862-670'\n",
      " '0169-0081' '42291-131' '0009-0352' '0009-0341' '0093-7267' '16714-938'\n",
      " '23155-103' '10631-206' '42291-583' '0615-7982' '0615-8015' '43063-698'\n",
      " '33261-157' '0093-8034' '0087-6070' '25000-131' '51079-425' '42708-083'\n",
      " '50268-359' '0904-6689' '55111-321' '50090-1987' '0115-1744' '0378-4013'\n",
      " '50268-360' '42291-558' '33342-239' '0378-0217' '33342-141' '0378-0318'\n",
      " '0781-5422' '23155-102' '42291-582' '42385-903' '12634-789' '35356-886'\n",
      " '16729-003' '53217-320' '0615-8289' '54458-966' '0591-2720' '24658-791'\n",
      " '0904-6328' '10631-238' '0093-7254' '57664-747' '55111-320' '0378-0048'\n",
      " '23155-149' '33342-142' '51079-426' '24724-016' '42291-610' '0169-0082'\n",
      " '42708-009' '25000-101' '0378-0228' '43063-630' '42571-101' '0781-5634'\n",
      " '50090-3172' '23155-147' '0781-5420' '0143-9918' '43063-121' '43063-946'\n",
      " '0904-6691' '0093-7272' '0039-0221' '0093-8344' '0574-0242' '57664-745'\n",
      " '42385-902' '0185-4416' '50436-7073' '43547-396' '43547-395' '0378-7186'\n",
      " '24658-792' '0093-7255' '16729-002' '29033-032' '0904-6326' '65862-672'\n",
      " '0904-6690' '23155-104' '43063-697' '0054-0141' '50090-3547' '0781-5421'\n",
      " '51991-855' '0781-5503' '51655-103' '0039-0222' '0093-7256' '0169-0084'\n",
      " '0087-6064' '0378-0551' '0087-6071' '33261-372' '0039-0223' '42291-132'\n",
      " '53217-250' '0093-9433' '57237-158' '43063-587' '60429-486' '60846-884'\n",
      " '51655-381' '0054-0140' '16714-939' '53217-285' '0093-7273' '23155-233'\n",
      " '51991-853' '24724-014' '50090-2485' '42291-606' '25000-132' '25000-102'\n",
      " '42291-611' '0591-2412' '42571-102' '0093-8035' '24724-015' '60429-435'\n",
      " '0093-7271' '33261-831' '50090-2486' '68084-954' '68084-458' '33261-145'\n",
      " '0049-0170' '0228-2751' '0378-4011' '23155-235' '0591-3355' '75834-205'\n",
      " '0078-0351' '42291-637' '23155-148' '42291-130' '55111-329' '70771-1015'\n",
      " '0228-2753' '57237-159' '42571-100' '52536-067' '0591-3354' '0009-5013'\n",
      " '0574-0240' '68084-459' '51655-120' '55111-328' '57664-686' '71209-031'\n",
      " '70771-1016' '68382-721' '71209-030' '42291-636' '0574-0241' '57237-157'\n",
      " '49884-985' '33261-892' '50268-358' '43547-394' '52536-063' '60429-434'\n",
      " '23155-234' '57664-684' '68382-722' '76333-126' '60846-882' '0591-2411'\n",
      " '57664-685' '0093-7456' '0009-5014' '42291-305' '42571-105' '76333-127'\n",
      " '51991-854' '0093-7457' '0228-2752' '0093-7455' '60429-485' '23155-115'\n",
      " '0179-0205' '49884-984' '64764-302' '0781-5635' '33342-177' '43063-699'] values\n",
      "\n",
      "\n",
      "max_glu_serum has ['None' '>300' 'Norm' '>200'] values\n",
      "\n",
      "\n",
      "A1Cresult has ['None' '>7' '>8' 'Norm'] values\n",
      "\n",
      "\n",
      "change has ['No' 'Ch'] values\n",
      "\n",
      "\n",
      "readmitted has ['NO' '>30' '<30'] values\n",
      "\n",
      "\n"
     ]
    }
   ],
   "source": [
    "# Let's check if we have some dirty data in categorical columns\n",
    "for col in cat_col:\n",
    "  print('{} has {} values'.format(col, df[col].unique()))\n",
    "  print('\\n')"
   ]
  },
  {
   "cell_type": "markdown",
   "metadata": {},
   "source": [
    " As you can see we have some dirty data in the categorical columns for instance gender has three values : 'Female' 'Male' 'Unknown/Invalid', and race : 'Caucasian' 'AfricanAmerican' '?' 'Other' 'Asian' 'Hispanic'"
   ]
  },
  {
   "cell_type": "code",
   "execution_count": 15,
   "metadata": {},
   "outputs": [
    {
     "name": "stdout",
     "output_type": "stream",
     "text": [
      "Before: 143424\n",
      "After 143419\n"
     ]
    }
   ],
   "source": [
    "# Let's the number observations we have gender within the dirty data \n",
    "# filter \"unkown\" so we have only patients with a valid gender value left\n",
    "print(\"Before:\", df.shape[0])\n",
    "\n",
    "is_valid = df['gender'] != \"Unknown/Invalid\"\n",
    "df = df[is_valid]\n",
    "\n",
    "print(\"After\", df.shape[0])"
   ]
  },
  {
   "cell_type": "markdown",
   "metadata": {},
   "source": [
    "###### - d. Please describe the demographic distributions in the dataset for the age and gender fields."
   ]
  },
  {
   "cell_type": "code",
   "execution_count": 16,
   "metadata": {},
   "outputs": [
    {
     "data": {
      "image/png": "[encoded data removed]",
      "text/plain": [
       "<Figure size 720x360 with 1 Axes>"
      ]
     },
     "metadata": {
      "needs_background": "light"
     },
     "output_type": "display_data"
    }
   ],
   "source": [
    "# Age range distribution \n",
    "plt.figure(figsize=(10, 5))\n",
    "sns.countplot(x='age', data=df)\n",
    "plt.show()"
   ]
  },
  {
   "cell_type": "code",
   "execution_count": 17,
   "metadata": {},
   "outputs": [
    {
     "data": {
      "text/html": [
       "<div>\n",
       "<style scoped>\n",
       "    .dataframe tbody tr th:only-of-type {\n",
       "        vertical-align: middle;\n",
       "    }\n",
       "\n",
       "    .dataframe tbody tr th {\n",
       "        vertical-align: top;\n",
       "    }\n",
       "\n",
       "    .dataframe thead th {\n",
       "        text-align: right;\n",
       "    }\n",
       "</style>\n",
       "<table border=\"1\" class=\"dataframe\">\n",
       "  <thead>\n",
       "    <tr style=\"text-align: right;\">\n",
       "      <th></th>\n",
       "      <th>Number of Patient</th>\n",
       "      <th>Percentage of Patient</th>\n",
       "    </tr>\n",
       "  </thead>\n",
       "  <tbody>\n",
       "    <tr>\n",
       "      <th>[70-80)</th>\n",
       "      <td>36924</td>\n",
       "      <td>0.257455</td>\n",
       "    </tr>\n",
       "    <tr>\n",
       "      <th>[60-70)</th>\n",
       "      <td>32740</td>\n",
       "      <td>0.228282</td>\n",
       "    </tr>\n",
       "    <tr>\n",
       "      <th>[50-60)</th>\n",
       "      <td>25095</td>\n",
       "      <td>0.174977</td>\n",
       "    </tr>\n",
       "    <tr>\n",
       "      <th>[80-90)</th>\n",
       "      <td>23527</td>\n",
       "      <td>0.164044</td>\n",
       "    </tr>\n",
       "    <tr>\n",
       "      <th>[40-50)</th>\n",
       "      <td>13729</td>\n",
       "      <td>0.095727</td>\n",
       "    </tr>\n",
       "    <tr>\n",
       "      <th>[30-40)</th>\n",
       "      <td>4964</td>\n",
       "      <td>0.034612</td>\n",
       "    </tr>\n",
       "    <tr>\n",
       "      <th>[90-100)</th>\n",
       "      <td>3619</td>\n",
       "      <td>0.025234</td>\n",
       "    </tr>\n",
       "    <tr>\n",
       "      <th>[20-30)</th>\n",
       "      <td>1927</td>\n",
       "      <td>0.013436</td>\n",
       "    </tr>\n",
       "    <tr>\n",
       "      <th>[10-20)</th>\n",
       "      <td>733</td>\n",
       "      <td>0.005111</td>\n",
       "    </tr>\n",
       "    <tr>\n",
       "      <th>[0-10)</th>\n",
       "      <td>161</td>\n",
       "      <td>0.001123</td>\n",
       "    </tr>\n",
       "  </tbody>\n",
       "</table>\n",
       "</div>"
      ],
      "text/plain": [
       "          Number of Patient  Percentage of Patient\n",
       "[70-80)               36924               0.257455\n",
       "[60-70)               32740               0.228282\n",
       "[50-60)               25095               0.174977\n",
       "[80-90)               23527               0.164044\n",
       "[40-50)               13729               0.095727\n",
       "[30-40)                4964               0.034612\n",
       "[90-100)               3619               0.025234\n",
       "[20-30)                1927               0.013436\n",
       "[10-20)                 733               0.005111\n",
       "[0-10)                  161               0.001123"
      ]
     },
     "execution_count": 17,
     "metadata": {},
     "output_type": "execute_result"
    }
   ],
   "source": [
    "# Let's compute the number of patients and the corresponding percentage of patient\n",
    "df_age = pd.DataFrame([], columns = ['Number of Patient']) \n",
    "df_age['Number of Patient'] = df['age'].value_counts()\n",
    "df_age['Percentage of Patient'] = df['age'].value_counts(normalize=True)\n",
    "df_age"
   ]
  },
  {
   "cell_type": "code",
   "execution_count": 18,
   "metadata": {},
   "outputs": [
    {
     "data": {
      "text/html": [
       "<div>\n",
       "<style scoped>\n",
       "    .dataframe tbody tr th:only-of-type {\n",
       "        vertical-align: middle;\n",
       "    }\n",
       "\n",
       "    .dataframe tbody tr th {\n",
       "        vertical-align: top;\n",
       "    }\n",
       "\n",
       "    .dataframe thead th {\n",
       "        text-align: right;\n",
       "    }\n",
       "</style>\n",
       "<table border=\"1\" class=\"dataframe\">\n",
       "  <thead>\n",
       "    <tr style=\"text-align: right;\">\n",
       "      <th></th>\n",
       "      <th>Number of Patient</th>\n",
       "      <th>Percentage of Patient</th>\n",
       "    </tr>\n",
       "  </thead>\n",
       "  <tbody>\n",
       "    <tr>\n",
       "      <th>Female</th>\n",
       "      <td>76185</td>\n",
       "      <td>0.531206</td>\n",
       "    </tr>\n",
       "    <tr>\n",
       "      <th>Male</th>\n",
       "      <td>67234</td>\n",
       "      <td>0.468794</td>\n",
       "    </tr>\n",
       "  </tbody>\n",
       "</table>\n",
       "</div>"
      ],
      "text/plain": [
       "        Number of Patient  Percentage of Patient\n",
       "Female              76185               0.531206\n",
       "Male                67234               0.468794"
      ]
     },
     "execution_count": 18,
     "metadata": {},
     "output_type": "execute_result"
    }
   ],
   "source": [
    "# Number of patient by Gender \n",
    "df_gender = pd.DataFrame([], columns = ['Number of Patient']) \n",
    "df_gender['Number of Patient'] = df['gender'].value_counts()\n",
    "df_gender['Percentage of Patient'] = df['gender'].value_counts(normalize=True)\n",
    "df_gender"
   ]
  },
  {
   "cell_type": "code",
   "execution_count": 19,
   "metadata": {},
   "outputs": [
    {
     "data": {
      "image/png": "[encoded data removed]",
      "text/plain": [
       "<Figure size 720x360 with 1 Axes>"
      ]
     },
     "metadata": {
      "needs_background": "light"
     },
     "output_type": "display_data"
    }
   ],
   "source": [
    "# Gender distribution\n",
    "plt.figure(figsize=(10, 5))\n",
    "sns.countplot(x='gender', data=df);"
   ]
  },
  {
   "cell_type": "code",
   "execution_count": 20,
   "metadata": {},
   "outputs": [
    {
     "data": {
      "image/png": "[encoded data removed]",
      "text/plain": [
       "<Figure size 864x720 with 1 Axes>"
      ]
     },
     "metadata": {
      "needs_background": "light"
     },
     "output_type": "display_data"
    }
   ],
   "source": [
    "# distribution across both age and gender\n",
    "plt.figure(figsize=(12, 10))\n",
    "sns.countplot(x=\"age\", hue=\"gender\", data=df)\n",
    "plt.show()"
   ]
  },
  {
   "cell_type": "markdown",
   "metadata": {},
   "source": [
    "- The majority of patients are between the age group of 40 to 90 which represent of 36928 (25%) of the age group 70-80.\n",
    "\n",
    "- There more female than male patients (53% vs 46%)"
   ]
  },
  {
   "cell_type": "markdown",
   "metadata": {},
   "source": [
    "**OPTIONAL**: Use the Tensorflow Data Validation and Analysis library to complete. \n",
    "- The Tensorflow Data Validation and Analysis library(https://www.tensorflow.org/tfx/data_validation/get_started) is a useful tool for analyzing and summarizing dataset statistics. It is especially useful because it can scale to large datasets that do not fit into memory. \n",
    "- Note that there are some bugs that are still being resolved with Chrome v80 and we have moved away from using this for the project. "
   ]
  },
  {
   "cell_type": "markdown",
   "metadata": {},
   "source": [
    "**Student Response**: ??"
   ]
  },
  {
   "cell_type": "code",
   "execution_count": 21,
   "metadata": {},
   "outputs": [],
   "source": [
    "######NOTE: The visualization will only display in Chrome browser. ########\n",
    "#import tensorflow_data_validation as tfdv\n",
    "#import tensorflow_data_validation as tfdv\n",
    "#from tensorflow.python.lib.io import file_io\n",
    "#from tensorflow_transform.tf_metadata import metadata_io\n",
    "#full_data_stats = tfdv.generate_statistics_from_csv(data_location='./data/final_project_dataset.csv') \n",
    "#tfdv.visualize_statistics(full_data_stats)"
   ]
  },
  {
   "cell_type": "markdown",
   "metadata": {},
   "source": [
    "## Reduce Dimensionality of the NDC Code Feature"
   ]
  },
  {
   "cell_type": "markdown",
   "metadata": {},
   "source": [
    "**Question 3**: NDC codes are a common format to represent the wide variety of drugs that are prescribed for patient care in the United States. The challenge is that there are many codes that map to the same or similar drug. You are provided with the ndc drug lookup file https://github.com/udacity/nd320-c1-emr-data-starter/blob/master/project/data_schema_references/ndc_lookup_table.csv derived from the National Drug Codes List site(https://ndclist.com/). Please use this file to come up with a way to reduce the dimensionality of this field and create a new field in the dataset called \"generic_drug_name\" in the output dataframe. "
   ]
  },
  {
   "cell_type": "code",
   "execution_count": 22,
   "metadata": {},
   "outputs": [],
   "source": [
    "#NDC code lookup file\n",
    "ndc_code_path = \"./medication_lookup_tables/final_ndc_lookup_table\"\n",
    "ndc_code_df = pd.read_csv(ndc_code_path)"
   ]
  },
  {
   "cell_type": "code",
   "execution_count": 23,
   "metadata": {},
   "outputs": [
    {
     "data": {
      "text/html": [
       "<div>\n",
       "<style scoped>\n",
       "    .dataframe tbody tr th:only-of-type {\n",
       "        vertical-align: middle;\n",
       "    }\n",
       "\n",
       "    .dataframe tbody tr th {\n",
       "        vertical-align: top;\n",
       "    }\n",
       "\n",
       "    .dataframe thead th {\n",
       "        text-align: right;\n",
       "    }\n",
       "</style>\n",
       "<table border=\"1\" class=\"dataframe\">\n",
       "  <thead>\n",
       "    <tr style=\"text-align: right;\">\n",
       "      <th></th>\n",
       "      <th>NDC_Code</th>\n",
       "      <th>Proprietary Name</th>\n",
       "      <th>Non-proprietary Name</th>\n",
       "      <th>Dosage Form</th>\n",
       "      <th>Route Name</th>\n",
       "      <th>Company Name</th>\n",
       "      <th>Product Type</th>\n",
       "    </tr>\n",
       "  </thead>\n",
       "  <tbody>\n",
       "    <tr>\n",
       "      <th>210</th>\n",
       "      <td>0093-8034</td>\n",
       "      <td>Glyburide</td>\n",
       "      <td>Glyburide</td>\n",
       "      <td>Tablet</td>\n",
       "      <td>Oral</td>\n",
       "      <td>Teva Pharmaceuticals Usa, Inc.</td>\n",
       "      <td>Human Prescription Drug</td>\n",
       "    </tr>\n",
       "    <tr>\n",
       "      <th>71</th>\n",
       "      <td>33342-176</td>\n",
       "      <td>Pioglitazole And Metformin Hydrochloride</td>\n",
       "      <td>Pioglitazole And Metformin Hydrochloride</td>\n",
       "      <td>Tablet</td>\n",
       "      <td>Oral</td>\n",
       "      <td>Macleods Pharmaceuticals Limited</td>\n",
       "      <td>Human Prescription Drug</td>\n",
       "    </tr>\n",
       "    <tr>\n",
       "      <th>192</th>\n",
       "      <td>53217-320</td>\n",
       "      <td>Glimepiride</td>\n",
       "      <td>Glimepiride</td>\n",
       "      <td>Tablet</td>\n",
       "      <td>Oral</td>\n",
       "      <td>Aidarex Pharmaceuticals Llc</td>\n",
       "      <td>Human Prescription Drug</td>\n",
       "    </tr>\n",
       "  </tbody>\n",
       "</table>\n",
       "</div>"
      ],
      "text/plain": [
       "      NDC_Code                          Proprietary Name  \\\n",
       "210  0093-8034                                 Glyburide   \n",
       "71   33342-176  Pioglitazole And Metformin Hydrochloride   \n",
       "192  53217-320                               Glimepiride   \n",
       "\n",
       "                         Non-proprietary Name Dosage Form Route Name  \\\n",
       "210                                 Glyburide      Tablet       Oral   \n",
       "71   Pioglitazole And Metformin Hydrochloride      Tablet       Oral   \n",
       "192                               Glimepiride      Tablet       Oral   \n",
       "\n",
       "                         Company Name             Product Type  \n",
       "210    Teva Pharmaceuticals Usa, Inc.  Human Prescription Drug  \n",
       "71   Macleods Pharmaceuticals Limited  Human Prescription Drug  \n",
       "192       Aidarex Pharmaceuticals Llc  Human Prescription Drug  "
      ]
     },
     "execution_count": 23,
     "metadata": {},
     "output_type": "execute_result"
    }
   ],
   "source": [
    "\n",
    "ndc_code_df.sample(3)"
   ]
  },
  {
   "cell_type": "code",
   "execution_count": 24,
   "metadata": {},
   "outputs": [],
   "source": [
    "def reduce_dimension_ndc(df, ndc_df):\n",
    "    '''\n",
    "    df: pandas dataframe, input dataset\n",
    "    ndc_df: pandas dataframe, drug code dataset used for mapping in generic names\n",
    "    return:\n",
    "        df: pandas dataframe, output dataframe with joined generic drug name\n",
    "    '''\n",
    "    return_df = df.copy()\n",
    "    return_df = return_df.merge(\n",
    "        ndc_df[['NDC_Code', 'Proprietary Name']], left_on='ndc_code', right_on='NDC_Code')\n",
    "    return_df['generic_drug_name'] = return_df['Proprietary Name']\n",
    "    del return_df[\"NDC_Code\"]\n",
    "    del return_df[\"Proprietary Name\"]\n",
    "    return return_df"
   ]
  },
  {
   "cell_type": "code",
   "execution_count": 25,
   "metadata": {},
   "outputs": [],
   "source": [
    "#from student_utils import reduce_dimension_ndc"
   ]
  },
  {
   "cell_type": "code",
   "execution_count": 26,
   "metadata": {},
   "outputs": [],
   "source": [
    "reduce_dim_df = reduce_dimension_ndc(df, ndc_code_df)"
   ]
  },
  {
   "cell_type": "code",
   "execution_count": 27,
   "metadata": {},
   "outputs": [
    {
     "data": {
      "text/html": [
       "<div>\n",
       "<style scoped>\n",
       "    .dataframe tbody tr th:only-of-type {\n",
       "        vertical-align: middle;\n",
       "    }\n",
       "\n",
       "    .dataframe tbody tr th {\n",
       "        vertical-align: top;\n",
       "    }\n",
       "\n",
       "    .dataframe thead th {\n",
       "        text-align: right;\n",
       "    }\n",
       "</style>\n",
       "<table border=\"1\" class=\"dataframe\">\n",
       "  <thead>\n",
       "    <tr style=\"text-align: right;\">\n",
       "      <th></th>\n",
       "      <th>encounter_id</th>\n",
       "      <th>patient_nbr</th>\n",
       "      <th>race</th>\n",
       "      <th>gender</th>\n",
       "      <th>age</th>\n",
       "      <th>weight</th>\n",
       "      <th>admission_type_id</th>\n",
       "      <th>discharge_disposition_id</th>\n",
       "      <th>admission_source_id</th>\n",
       "      <th>time_in_hospital</th>\n",
       "      <th>payer_code</th>\n",
       "      <th>medical_specialty</th>\n",
       "      <th>primary_diagnosis_code</th>\n",
       "      <th>other_diagnosis_codes</th>\n",
       "      <th>number_outpatient</th>\n",
       "      <th>number_inpatient</th>\n",
       "      <th>number_emergency</th>\n",
       "      <th>num_lab_procedures</th>\n",
       "      <th>number_diagnoses</th>\n",
       "      <th>num_medications</th>\n",
       "      <th>num_procedures</th>\n",
       "      <th>ndc_code</th>\n",
       "      <th>max_glu_serum</th>\n",
       "      <th>A1Cresult</th>\n",
       "      <th>change</th>\n",
       "      <th>readmitted</th>\n",
       "      <th>generic_drug_name</th>\n",
       "    </tr>\n",
       "  </thead>\n",
       "  <tbody>\n",
       "    <tr>\n",
       "      <th>0</th>\n",
       "      <td>149190</td>\n",
       "      <td>55629189</td>\n",
       "      <td>Caucasian</td>\n",
       "      <td>Female</td>\n",
       "      <td>[10-20)</td>\n",
       "      <td>?</td>\n",
       "      <td>1</td>\n",
       "      <td>1</td>\n",
       "      <td>7</td>\n",
       "      <td>3</td>\n",
       "      <td>?</td>\n",
       "      <td>?</td>\n",
       "      <td>276</td>\n",
       "      <td>250.01|255</td>\n",
       "      <td>0</td>\n",
       "      <td>0</td>\n",
       "      <td>0</td>\n",
       "      <td>59</td>\n",
       "      <td>9</td>\n",
       "      <td>18</td>\n",
       "      <td>0</td>\n",
       "      <td>68071-1701</td>\n",
       "      <td>None</td>\n",
       "      <td>None</td>\n",
       "      <td>Ch</td>\n",
       "      <td>&gt;30</td>\n",
       "      <td>Novolin R</td>\n",
       "    </tr>\n",
       "    <tr>\n",
       "      <th>1</th>\n",
       "      <td>500364</td>\n",
       "      <td>82442376</td>\n",
       "      <td>Caucasian</td>\n",
       "      <td>Male</td>\n",
       "      <td>[30-40)</td>\n",
       "      <td>?</td>\n",
       "      <td>1</td>\n",
       "      <td>1</td>\n",
       "      <td>7</td>\n",
       "      <td>2</td>\n",
       "      <td>?</td>\n",
       "      <td>?</td>\n",
       "      <td>8</td>\n",
       "      <td>250.43|403</td>\n",
       "      <td>0</td>\n",
       "      <td>0</td>\n",
       "      <td>0</td>\n",
       "      <td>44</td>\n",
       "      <td>7</td>\n",
       "      <td>16</td>\n",
       "      <td>1</td>\n",
       "      <td>68071-1701</td>\n",
       "      <td>None</td>\n",
       "      <td>None</td>\n",
       "      <td>Ch</td>\n",
       "      <td>NO</td>\n",
       "      <td>Novolin R</td>\n",
       "    </tr>\n",
       "    <tr>\n",
       "      <th>2</th>\n",
       "      <td>16680</td>\n",
       "      <td>42519267</td>\n",
       "      <td>Caucasian</td>\n",
       "      <td>Male</td>\n",
       "      <td>[40-50)</td>\n",
       "      <td>?</td>\n",
       "      <td>1</td>\n",
       "      <td>1</td>\n",
       "      <td>7</td>\n",
       "      <td>1</td>\n",
       "      <td>?</td>\n",
       "      <td>?</td>\n",
       "      <td>197</td>\n",
       "      <td>157|250</td>\n",
       "      <td>0</td>\n",
       "      <td>0</td>\n",
       "      <td>0</td>\n",
       "      <td>51</td>\n",
       "      <td>5</td>\n",
       "      <td>8</td>\n",
       "      <td>0</td>\n",
       "      <td>68071-1701</td>\n",
       "      <td>None</td>\n",
       "      <td>None</td>\n",
       "      <td>Ch</td>\n",
       "      <td>NO</td>\n",
       "      <td>Novolin R</td>\n",
       "    </tr>\n",
       "    <tr>\n",
       "      <th>3</th>\n",
       "      <td>15738</td>\n",
       "      <td>63555939</td>\n",
       "      <td>Caucasian</td>\n",
       "      <td>Female</td>\n",
       "      <td>[90-100)</td>\n",
       "      <td>?</td>\n",
       "      <td>3</td>\n",
       "      <td>3</td>\n",
       "      <td>4</td>\n",
       "      <td>12</td>\n",
       "      <td>?</td>\n",
       "      <td>InternalMedicine</td>\n",
       "      <td>434</td>\n",
       "      <td>198|486</td>\n",
       "      <td>0</td>\n",
       "      <td>0</td>\n",
       "      <td>0</td>\n",
       "      <td>33</td>\n",
       "      <td>8</td>\n",
       "      <td>18</td>\n",
       "      <td>3</td>\n",
       "      <td>68071-1701</td>\n",
       "      <td>None</td>\n",
       "      <td>None</td>\n",
       "      <td>Ch</td>\n",
       "      <td>NO</td>\n",
       "      <td>Novolin R</td>\n",
       "    </tr>\n",
       "    <tr>\n",
       "      <th>4</th>\n",
       "      <td>28236</td>\n",
       "      <td>89869032</td>\n",
       "      <td>AfricanAmerican</td>\n",
       "      <td>Female</td>\n",
       "      <td>[40-50)</td>\n",
       "      <td>?</td>\n",
       "      <td>1</td>\n",
       "      <td>1</td>\n",
       "      <td>7</td>\n",
       "      <td>9</td>\n",
       "      <td>?</td>\n",
       "      <td>?</td>\n",
       "      <td>250.7</td>\n",
       "      <td>403|996</td>\n",
       "      <td>0</td>\n",
       "      <td>0</td>\n",
       "      <td>0</td>\n",
       "      <td>47</td>\n",
       "      <td>9</td>\n",
       "      <td>17</td>\n",
       "      <td>2</td>\n",
       "      <td>68071-1701</td>\n",
       "      <td>None</td>\n",
       "      <td>None</td>\n",
       "      <td>No</td>\n",
       "      <td>&gt;30</td>\n",
       "      <td>Novolin R</td>\n",
       "    </tr>\n",
       "  </tbody>\n",
       "</table>\n",
       "</div>"
      ],
      "text/plain": [
       "   encounter_id  patient_nbr             race  gender       age weight  \\\n",
       "0        149190     55629189        Caucasian  Female   [10-20)      ?   \n",
       "1        500364     82442376        Caucasian    Male   [30-40)      ?   \n",
       "2         16680     42519267        Caucasian    Male   [40-50)      ?   \n",
       "3         15738     63555939        Caucasian  Female  [90-100)      ?   \n",
       "4         28236     89869032  AfricanAmerican  Female   [40-50)      ?   \n",
       "\n",
       "   admission_type_id  discharge_disposition_id  admission_source_id  \\\n",
       "0                  1                         1                    7   \n",
       "1                  1                         1                    7   \n",
       "2                  1                         1                    7   \n",
       "3                  3                         3                    4   \n",
       "4                  1                         1                    7   \n",
       "\n",
       "   time_in_hospital payer_code medical_specialty primary_diagnosis_code  \\\n",
       "0                 3          ?                 ?                    276   \n",
       "1                 2          ?                 ?                      8   \n",
       "2                 1          ?                 ?                    197   \n",
       "3                12          ?  InternalMedicine                    434   \n",
       "4                 9          ?                 ?                  250.7   \n",
       "\n",
       "  other_diagnosis_codes  number_outpatient  number_inpatient  \\\n",
       "0            250.01|255                  0                 0   \n",
       "1            250.43|403                  0                 0   \n",
       "2               157|250                  0                 0   \n",
       "3               198|486                  0                 0   \n",
       "4               403|996                  0                 0   \n",
       "\n",
       "   number_emergency  num_lab_procedures  number_diagnoses  num_medications  \\\n",
       "0                 0                  59                 9               18   \n",
       "1                 0                  44                 7               16   \n",
       "2                 0                  51                 5                8   \n",
       "3                 0                  33                 8               18   \n",
       "4                 0                  47                 9               17   \n",
       "\n",
       "   num_procedures    ndc_code max_glu_serum A1Cresult change readmitted  \\\n",
       "0               0  68071-1701          None      None     Ch        >30   \n",
       "1               1  68071-1701          None      None     Ch         NO   \n",
       "2               0  68071-1701          None      None     Ch         NO   \n",
       "3               3  68071-1701          None      None     Ch         NO   \n",
       "4               2  68071-1701          None      None     No        >30   \n",
       "\n",
       "  generic_drug_name  \n",
       "0         Novolin R  \n",
       "1         Novolin R  \n",
       "2         Novolin R  \n",
       "3         Novolin R  \n",
       "4         Novolin R  "
      ]
     },
     "execution_count": 27,
     "metadata": {},
     "output_type": "execute_result"
    }
   ],
   "source": [
    "reduce_dim_df.head()"
   ]
  },
  {
   "cell_type": "code",
   "execution_count": 28,
   "metadata": {},
   "outputs": [],
   "source": [
    "# Number of unique values should be less for the new output field\n",
    "assert df['ndc_code'].nunique() > reduce_dim_df['generic_drug_name'].nunique()"
   ]
  },
  {
   "cell_type": "markdown",
   "metadata": {},
   "source": [
    "## Select First Encounter for each Patient "
   ]
  },
  {
   "cell_type": "markdown",
   "metadata": {},
   "source": [
    "**Question 4**: In order to simplify the aggregation of data for the model, we will only select the first encounter for each patient in the dataset. This is to reduce the risk of data leakage of future patient encounters and to reduce complexity of the data transformation and modeling steps. We will assume that sorting in numerical order on the encounter_id provides the time horizon for determining which encounters come before and after another."
   ]
  },
  {
   "cell_type": "code",
   "execution_count": 29,
   "metadata": {},
   "outputs": [],
   "source": [
    "def select_first_encounter(df):\n",
    "    '''\n",
    "    df: pandas dataframe, dataframe with all encounters\n",
    "    return:\n",
    "        - first_encounter_df: pandas dataframe, dataframe with only the first encounter for a given patient\n",
    "    '''\n",
    "    ## sort the df by encouter_id (lowest encouter_id is first)\n",
    "    df.sort_values('encounter_id')\n",
    "    ## get the first encouter for each patient\n",
    "    first_encounter_value = df.groupby('patient_nbr')['encounter_id'].head(1).values\n",
    "    ## return the filtered df with the first encouter for each patient\n",
    "    return df[df['encounter_id'].isin(first_encounter_value)]"
   ]
  },
  {
   "cell_type": "code",
   "execution_count": 30,
   "metadata": {},
   "outputs": [],
   "source": [
    "#from student_utils import select_first_encounter\n",
    "first_encounter_df = select_first_encounter(reduce_dim_df)"
   ]
  },
  {
   "cell_type": "code",
   "execution_count": 31,
   "metadata": {},
   "outputs": [
    {
     "name": "stdout",
     "output_type": "stream",
     "text": [
      "Number of unique patients:56131\n",
      "Number of unique encounters:56131\n",
      "Tests passed!!\n"
     ]
    }
   ],
   "source": [
    "# unique patients in transformed dataset\n",
    "unique_patients = first_encounter_df['patient_nbr'].nunique()\n",
    "print(\"Number of unique patients:{}\".format(unique_patients))\n",
    "\n",
    "# unique encounters in transformed dataset\n",
    "unique_encounters = first_encounter_df['encounter_id'].nunique()\n",
    "print(\"Number of unique encounters:{}\".format(unique_encounters))\n",
    "\n",
    "original_unique_patient_number = reduce_dim_df['patient_nbr'].nunique()\n",
    "# number of unique patients should be equal to the number of unique encounters and patients in the final dataset\n",
    "assert original_unique_patient_number == unique_patients\n",
    "assert original_unique_patient_number == unique_encounters\n",
    "print(\"Tests passed!!\")"
   ]
  },
  {
   "cell_type": "markdown",
   "metadata": {},
   "source": [
    "## Aggregate Dataset to Right Level for Modeling "
   ]
  },
  {
   "cell_type": "markdown",
   "metadata": {},
   "source": [
    "In order to provide a broad scope of the steps and to prevent students from getting stuck with data transformations, we have selected the aggregation columns and provided a function to build the dataset at the appropriate level. The 'aggregate_dataset\" function that you can find in the 'utils.py' file can take the preceding dataframe with the 'generic_drug_name' field and transform the data appropriately for the project. \n",
    "\n",
    "To make it simpler for students, we are creating dummy columns for each unique generic drug name and adding those are input features to the model. There are other options for data representation but this is out of scope for the time constraints of the course."
   ]
  },
  {
   "cell_type": "code",
   "execution_count": 32,
   "metadata": {},
   "outputs": [
    {
     "data": {
      "text/html": [
       "<div>\n",
       "<style scoped>\n",
       "    .dataframe tbody tr th:only-of-type {\n",
       "        vertical-align: middle;\n",
       "    }\n",
       "\n",
       "    .dataframe tbody tr th {\n",
       "        vertical-align: top;\n",
       "    }\n",
       "\n",
       "    .dataframe thead th {\n",
       "        text-align: right;\n",
       "    }\n",
       "</style>\n",
       "<table border=\"1\" class=\"dataframe\">\n",
       "  <thead>\n",
       "    <tr style=\"text-align: right;\">\n",
       "      <th></th>\n",
       "      <th>encounter_id</th>\n",
       "      <th>patient_nbr</th>\n",
       "      <th>race</th>\n",
       "      <th>gender</th>\n",
       "      <th>age</th>\n",
       "      <th>weight</th>\n",
       "      <th>admission_type_id</th>\n",
       "      <th>discharge_disposition_id</th>\n",
       "      <th>admission_source_id</th>\n",
       "      <th>time_in_hospital</th>\n",
       "      <th>payer_code</th>\n",
       "      <th>medical_specialty</th>\n",
       "      <th>primary_diagnosis_code</th>\n",
       "      <th>other_diagnosis_codes</th>\n",
       "      <th>number_outpatient</th>\n",
       "      <th>number_inpatient</th>\n",
       "      <th>number_emergency</th>\n",
       "      <th>num_lab_procedures</th>\n",
       "      <th>number_diagnoses</th>\n",
       "      <th>num_medications</th>\n",
       "      <th>num_procedures</th>\n",
       "      <th>ndc_code</th>\n",
       "      <th>max_glu_serum</th>\n",
       "      <th>A1Cresult</th>\n",
       "      <th>change</th>\n",
       "      <th>readmitted</th>\n",
       "      <th>generic_drug_name</th>\n",
       "    </tr>\n",
       "  </thead>\n",
       "  <tbody>\n",
       "    <tr>\n",
       "      <th>115329</th>\n",
       "      <td>174889968</td>\n",
       "      <td>48692646</td>\n",
       "      <td>Caucasian</td>\n",
       "      <td>Male</td>\n",
       "      <td>[70-80)</td>\n",
       "      <td>?</td>\n",
       "      <td>1</td>\n",
       "      <td>1</td>\n",
       "      <td>7</td>\n",
       "      <td>5</td>\n",
       "      <td>?</td>\n",
       "      <td>InternalMedicine</td>\n",
       "      <td>453</td>\n",
       "      <td>250.02|413</td>\n",
       "      <td>0</td>\n",
       "      <td>0</td>\n",
       "      <td>0</td>\n",
       "      <td>41</td>\n",
       "      <td>9</td>\n",
       "      <td>14</td>\n",
       "      <td>2</td>\n",
       "      <td>43063-697</td>\n",
       "      <td>None</td>\n",
       "      <td>None</td>\n",
       "      <td>Ch</td>\n",
       "      <td>NO</td>\n",
       "      <td>Glimepiride</td>\n",
       "    </tr>\n",
       "    <tr>\n",
       "      <th>114654</th>\n",
       "      <td>85751448</td>\n",
       "      <td>22900473</td>\n",
       "      <td>Other</td>\n",
       "      <td>Male</td>\n",
       "      <td>[70-80)</td>\n",
       "      <td>?</td>\n",
       "      <td>3</td>\n",
       "      <td>6</td>\n",
       "      <td>1</td>\n",
       "      <td>5</td>\n",
       "      <td>?</td>\n",
       "      <td>Surgery-Thoracic</td>\n",
       "      <td>414</td>\n",
       "      <td>428|285</td>\n",
       "      <td>0</td>\n",
       "      <td>0</td>\n",
       "      <td>0</td>\n",
       "      <td>46</td>\n",
       "      <td>7</td>\n",
       "      <td>34</td>\n",
       "      <td>2</td>\n",
       "      <td>0904-6326</td>\n",
       "      <td>None</td>\n",
       "      <td>None</td>\n",
       "      <td>Ch</td>\n",
       "      <td>NO</td>\n",
       "      <td>Metformin Hydrochloride</td>\n",
       "    </tr>\n",
       "    <tr>\n",
       "      <th>7123</th>\n",
       "      <td>122701926</td>\n",
       "      <td>94760019</td>\n",
       "      <td>Caucasian</td>\n",
       "      <td>Female</td>\n",
       "      <td>[50-60)</td>\n",
       "      <td>?</td>\n",
       "      <td>3</td>\n",
       "      <td>1</td>\n",
       "      <td>1</td>\n",
       "      <td>6</td>\n",
       "      <td>?</td>\n",
       "      <td>Surgery-General</td>\n",
       "      <td>553</td>\n",
       "      <td>518|997</td>\n",
       "      <td>0</td>\n",
       "      <td>0</td>\n",
       "      <td>0</td>\n",
       "      <td>9</td>\n",
       "      <td>9</td>\n",
       "      <td>13</td>\n",
       "      <td>2</td>\n",
       "      <td>68071-1701</td>\n",
       "      <td>None</td>\n",
       "      <td>None</td>\n",
       "      <td>No</td>\n",
       "      <td>&gt;30</td>\n",
       "      <td>Novolin R</td>\n",
       "    </tr>\n",
       "  </tbody>\n",
       "</table>\n",
       "</div>"
      ],
      "text/plain": [
       "        encounter_id  patient_nbr       race  gender      age weight  \\\n",
       "115329     174889968     48692646  Caucasian    Male  [70-80)      ?   \n",
       "114654      85751448     22900473      Other    Male  [70-80)      ?   \n",
       "7123       122701926     94760019  Caucasian  Female  [50-60)      ?   \n",
       "\n",
       "        admission_type_id  discharge_disposition_id  admission_source_id  \\\n",
       "115329                  1                         1                    7   \n",
       "114654                  3                         6                    1   \n",
       "7123                    3                         1                    1   \n",
       "\n",
       "        time_in_hospital payer_code medical_specialty primary_diagnosis_code  \\\n",
       "115329                 5          ?  InternalMedicine                    453   \n",
       "114654                 5          ?  Surgery-Thoracic                    414   \n",
       "7123                   6          ?   Surgery-General                    553   \n",
       "\n",
       "       other_diagnosis_codes  number_outpatient  number_inpatient  \\\n",
       "115329            250.02|413                  0                 0   \n",
       "114654               428|285                  0                 0   \n",
       "7123                 518|997                  0                 0   \n",
       "\n",
       "        number_emergency  num_lab_procedures  number_diagnoses  \\\n",
       "115329                 0                  41                 9   \n",
       "114654                 0                  46                 7   \n",
       "7123                   0                   9                 9   \n",
       "\n",
       "        num_medications  num_procedures    ndc_code max_glu_serum A1Cresult  \\\n",
       "115329               14               2   43063-697          None      None   \n",
       "114654               34               2   0904-6326          None      None   \n",
       "7123                 13               2  68071-1701          None      None   \n",
       "\n",
       "       change readmitted        generic_drug_name  \n",
       "115329     Ch         NO              Glimepiride  \n",
       "114654     Ch         NO  Metformin Hydrochloride  \n",
       "7123       No        >30                Novolin R  "
      ]
     },
     "execution_count": 32,
     "metadata": {},
     "output_type": "execute_result"
    }
   ],
   "source": [
    "first_encounter_df.sample(3)"
   ]
  },
  {
   "cell_type": "code",
   "execution_count": 33,
   "metadata": {},
   "outputs": [],
   "source": [
    "exclusion_list = ['generic_drug_name']\n",
    "grouping_field_list = [c for c in first_encounter_df.columns if c not in exclusion_list]\n",
    "agg_drug_df, ndc_col_list = aggregate_dataset(first_encounter_df, grouping_field_list, 'generic_drug_name')"
   ]
  },
  {
   "cell_type": "code",
   "execution_count": 34,
   "metadata": {},
   "outputs": [
    {
     "data": {
      "text/plain": [
       "['encounter_id',\n",
       " 'patient_nbr',\n",
       " 'race',\n",
       " 'gender',\n",
       " 'age',\n",
       " 'weight',\n",
       " 'admission_type_id',\n",
       " 'discharge_disposition_id',\n",
       " 'admission_source_id',\n",
       " 'time_in_hospital',\n",
       " 'payer_code',\n",
       " 'medical_specialty',\n",
       " 'primary_diagnosis_code',\n",
       " 'other_diagnosis_codes',\n",
       " 'number_outpatient',\n",
       " 'number_inpatient',\n",
       " 'number_emergency',\n",
       " 'num_lab_procedures',\n",
       " 'number_diagnoses',\n",
       " 'num_medications',\n",
       " 'num_procedures',\n",
       " 'ndc_code',\n",
       " 'max_glu_serum',\n",
       " 'A1Cresult',\n",
       " 'change',\n",
       " 'readmitted']"
      ]
     },
     "execution_count": 34,
     "metadata": {},
     "output_type": "execute_result"
    }
   ],
   "source": [
    "grouping_field_list"
   ]
  },
  {
   "cell_type": "code",
   "execution_count": 35,
   "metadata": {},
   "outputs": [
    {
     "data": {
      "text/plain": [
       "['Acarbose',\n",
       " 'Afrezza',\n",
       " 'Amaryl',\n",
       " 'Avandia_2MG',\n",
       " 'Avandia_4MG',\n",
       " 'Duetact',\n",
       " 'Glimepiride',\n",
       " 'Glipizide',\n",
       " 'Glipizide_And_Metformin_Hcl',\n",
       " 'Glipizide_And_Metformin_Hydrochloride',\n",
       " 'Glucophage',\n",
       " 'Glucophage_XR',\n",
       " 'Glucotrol',\n",
       " 'Glucotrol_XL',\n",
       " 'Glyburide',\n",
       " 'Glyburide_And_Metformin_Hydrochloride',\n",
       " 'Glyburide-metformin_Hydrochloride',\n",
       " 'Glynase',\n",
       " 'Glyset',\n",
       " 'Humulin_R',\n",
       " 'Metformin_Hcl',\n",
       " 'Metformin_Hydrochloride',\n",
       " 'Metformin_Hydrochloride_Extended_Release',\n",
       " 'Miglitol',\n",
       " 'Nateglinide',\n",
       " 'Novolin_R',\n",
       " 'Pioglitazole_And_Metformin_Hydrochloride',\n",
       " 'Pioglitazone',\n",
       " 'Pioglitazone_Hydrochloride_And_Glimepiride',\n",
       " 'Prandin',\n",
       " 'Repaglinide',\n",
       " 'Riomet',\n",
       " 'Riomet_Er',\n",
       " 'Starlix',\n",
       " 'Tolazamide',\n",
       " 'Tolbutamide']"
      ]
     },
     "execution_count": 35,
     "metadata": {},
     "output_type": "execute_result"
    }
   ],
   "source": [
    "ndc_col_list"
   ]
  },
  {
   "cell_type": "code",
   "execution_count": 36,
   "metadata": {},
   "outputs": [
    {
     "data": {
      "text/plain": [
       "87661"
      ]
     },
     "execution_count": 36,
     "metadata": {},
     "output_type": "execute_result"
    }
   ],
   "source": [
    "# Total drug\n",
    "len(agg_drug_df)"
   ]
  },
  {
   "cell_type": "code",
   "execution_count": 37,
   "metadata": {},
   "outputs": [
    {
     "data": {
      "text/plain": [
       "56131"
      ]
     },
     "execution_count": 37,
     "metadata": {},
     "output_type": "execute_result"
    }
   ],
   "source": [
    "# Total drug at patient level\n",
    "agg_drug_df['patient_nbr'].nunique()"
   ]
  },
  {
   "cell_type": "code",
   "execution_count": 38,
   "metadata": {},
   "outputs": [
    {
     "data": {
      "text/plain": [
       "56131"
      ]
     },
     "execution_count": 38,
     "metadata": {},
     "output_type": "execute_result"
    }
   ],
   "source": [
    "# Total drug at encoundter level\n",
    "agg_drug_df['encounter_id'].nunique()"
   ]
  },
  {
   "cell_type": "code",
   "execution_count": 39,
   "metadata": {},
   "outputs": [],
   "source": [
    "#assert len(agg_drug_df) == agg_drug_df['patient_nbr'].nunique() == agg_drug_df['encounter_id'].nunique()"
   ]
  },
  {
   "cell_type": "code",
   "execution_count": 40,
   "metadata": {},
   "outputs": [
    {
     "data": {
      "text/html": [
       "<div>\n",
       "<style scoped>\n",
       "    .dataframe tbody tr th:only-of-type {\n",
       "        vertical-align: middle;\n",
       "    }\n",
       "\n",
       "    .dataframe tbody tr th {\n",
       "        vertical-align: top;\n",
       "    }\n",
       "\n",
       "    .dataframe thead th {\n",
       "        text-align: right;\n",
       "    }\n",
       "</style>\n",
       "<table border=\"1\" class=\"dataframe\">\n",
       "  <thead>\n",
       "    <tr style=\"text-align: right;\">\n",
       "      <th></th>\n",
       "      <th>encounter_id</th>\n",
       "      <th>patient_nbr</th>\n",
       "      <th>race</th>\n",
       "      <th>gender</th>\n",
       "      <th>age</th>\n",
       "      <th>weight</th>\n",
       "      <th>admission_type_id</th>\n",
       "      <th>discharge_disposition_id</th>\n",
       "      <th>admission_source_id</th>\n",
       "      <th>time_in_hospital</th>\n",
       "      <th>payer_code</th>\n",
       "      <th>medical_specialty</th>\n",
       "      <th>primary_diagnosis_code</th>\n",
       "      <th>other_diagnosis_codes</th>\n",
       "      <th>number_outpatient</th>\n",
       "      <th>number_inpatient</th>\n",
       "      <th>number_emergency</th>\n",
       "      <th>num_lab_procedures</th>\n",
       "      <th>number_diagnoses</th>\n",
       "      <th>num_medications</th>\n",
       "      <th>num_procedures</th>\n",
       "      <th>ndc_code</th>\n",
       "      <th>max_glu_serum</th>\n",
       "      <th>A1Cresult</th>\n",
       "      <th>change</th>\n",
       "      <th>readmitted</th>\n",
       "      <th>generic_drug_name_array</th>\n",
       "      <th>Acarbose</th>\n",
       "      <th>Afrezza</th>\n",
       "      <th>Amaryl</th>\n",
       "      <th>Avandia_2MG</th>\n",
       "      <th>Avandia_4MG</th>\n",
       "      <th>Duetact</th>\n",
       "      <th>Glimepiride</th>\n",
       "      <th>Glipizide</th>\n",
       "      <th>Glipizide_And_Metformin_Hcl</th>\n",
       "      <th>Glipizide_And_Metformin_Hydrochloride</th>\n",
       "      <th>Glucophage</th>\n",
       "      <th>Glucophage_XR</th>\n",
       "      <th>Glucotrol</th>\n",
       "      <th>Glucotrol_XL</th>\n",
       "      <th>Glyburide</th>\n",
       "      <th>Glyburide_And_Metformin_Hydrochloride</th>\n",
       "      <th>Glyburide-metformin_Hydrochloride</th>\n",
       "      <th>Glynase</th>\n",
       "      <th>Glyset</th>\n",
       "      <th>Humulin_R</th>\n",
       "      <th>Metformin_Hcl</th>\n",
       "      <th>Metformin_Hydrochloride</th>\n",
       "      <th>Metformin_Hydrochloride_Extended_Release</th>\n",
       "      <th>Miglitol</th>\n",
       "      <th>Nateglinide</th>\n",
       "      <th>Novolin_R</th>\n",
       "      <th>Pioglitazole_And_Metformin_Hydrochloride</th>\n",
       "      <th>Pioglitazone</th>\n",
       "      <th>Pioglitazone_Hydrochloride_And_Glimepiride</th>\n",
       "      <th>Prandin</th>\n",
       "      <th>Repaglinide</th>\n",
       "      <th>Riomet</th>\n",
       "      <th>Riomet_Er</th>\n",
       "      <th>Starlix</th>\n",
       "      <th>Tolazamide</th>\n",
       "      <th>Tolbutamide</th>\n",
       "    </tr>\n",
       "  </thead>\n",
       "  <tbody>\n",
       "    <tr>\n",
       "      <th>0</th>\n",
       "      <td>12522</td>\n",
       "      <td>48330783</td>\n",
       "      <td>Caucasian</td>\n",
       "      <td>Female</td>\n",
       "      <td>[80-90)</td>\n",
       "      <td>?</td>\n",
       "      <td>2</td>\n",
       "      <td>1</td>\n",
       "      <td>4</td>\n",
       "      <td>13</td>\n",
       "      <td>?</td>\n",
       "      <td>?</td>\n",
       "      <td>398</td>\n",
       "      <td>427|38</td>\n",
       "      <td>0</td>\n",
       "      <td>0</td>\n",
       "      <td>0</td>\n",
       "      <td>68</td>\n",
       "      <td>8</td>\n",
       "      <td>28</td>\n",
       "      <td>2</td>\n",
       "      <td>0049-4110</td>\n",
       "      <td>None</td>\n",
       "      <td>None</td>\n",
       "      <td>Ch</td>\n",
       "      <td>NO</td>\n",
       "      <td>[Glucotrol]</td>\n",
       "      <td>0</td>\n",
       "      <td>0</td>\n",
       "      <td>0</td>\n",
       "      <td>0</td>\n",
       "      <td>0</td>\n",
       "      <td>0</td>\n",
       "      <td>0</td>\n",
       "      <td>0</td>\n",
       "      <td>0</td>\n",
       "      <td>0</td>\n",
       "      <td>0</td>\n",
       "      <td>0</td>\n",
       "      <td>1</td>\n",
       "      <td>0</td>\n",
       "      <td>0</td>\n",
       "      <td>0</td>\n",
       "      <td>0</td>\n",
       "      <td>0</td>\n",
       "      <td>0</td>\n",
       "      <td>0</td>\n",
       "      <td>0</td>\n",
       "      <td>0</td>\n",
       "      <td>0</td>\n",
       "      <td>0</td>\n",
       "      <td>0</td>\n",
       "      <td>0</td>\n",
       "      <td>0</td>\n",
       "      <td>0</td>\n",
       "      <td>0</td>\n",
       "      <td>0</td>\n",
       "      <td>0</td>\n",
       "      <td>0</td>\n",
       "      <td>0</td>\n",
       "      <td>0</td>\n",
       "      <td>0</td>\n",
       "      <td>0</td>\n",
       "    </tr>\n",
       "    <tr>\n",
       "      <th>1</th>\n",
       "      <td>12522</td>\n",
       "      <td>48330783</td>\n",
       "      <td>Caucasian</td>\n",
       "      <td>Female</td>\n",
       "      <td>[80-90)</td>\n",
       "      <td>?</td>\n",
       "      <td>2</td>\n",
       "      <td>1</td>\n",
       "      <td>4</td>\n",
       "      <td>13</td>\n",
       "      <td>?</td>\n",
       "      <td>?</td>\n",
       "      <td>398</td>\n",
       "      <td>427|38</td>\n",
       "      <td>0</td>\n",
       "      <td>0</td>\n",
       "      <td>0</td>\n",
       "      <td>68</td>\n",
       "      <td>8</td>\n",
       "      <td>28</td>\n",
       "      <td>2</td>\n",
       "      <td>47918-902</td>\n",
       "      <td>None</td>\n",
       "      <td>None</td>\n",
       "      <td>Ch</td>\n",
       "      <td>NO</td>\n",
       "      <td>[Afrezza]</td>\n",
       "      <td>0</td>\n",
       "      <td>1</td>\n",
       "      <td>0</td>\n",
       "      <td>0</td>\n",
       "      <td>0</td>\n",
       "      <td>0</td>\n",
       "      <td>0</td>\n",
       "      <td>0</td>\n",
       "      <td>0</td>\n",
       "      <td>0</td>\n",
       "      <td>0</td>\n",
       "      <td>0</td>\n",
       "      <td>0</td>\n",
       "      <td>0</td>\n",
       "      <td>0</td>\n",
       "      <td>0</td>\n",
       "      <td>0</td>\n",
       "      <td>0</td>\n",
       "      <td>0</td>\n",
       "      <td>0</td>\n",
       "      <td>0</td>\n",
       "      <td>0</td>\n",
       "      <td>0</td>\n",
       "      <td>0</td>\n",
       "      <td>0</td>\n",
       "      <td>0</td>\n",
       "      <td>0</td>\n",
       "      <td>0</td>\n",
       "      <td>0</td>\n",
       "      <td>0</td>\n",
       "      <td>0</td>\n",
       "      <td>0</td>\n",
       "      <td>0</td>\n",
       "      <td>0</td>\n",
       "      <td>0</td>\n",
       "      <td>0</td>\n",
       "    </tr>\n",
       "    <tr>\n",
       "      <th>2</th>\n",
       "      <td>15738</td>\n",
       "      <td>63555939</td>\n",
       "      <td>Caucasian</td>\n",
       "      <td>Female</td>\n",
       "      <td>[90-100)</td>\n",
       "      <td>?</td>\n",
       "      <td>3</td>\n",
       "      <td>3</td>\n",
       "      <td>4</td>\n",
       "      <td>12</td>\n",
       "      <td>?</td>\n",
       "      <td>InternalMedicine</td>\n",
       "      <td>434</td>\n",
       "      <td>198|486</td>\n",
       "      <td>0</td>\n",
       "      <td>0</td>\n",
       "      <td>0</td>\n",
       "      <td>33</td>\n",
       "      <td>8</td>\n",
       "      <td>18</td>\n",
       "      <td>3</td>\n",
       "      <td>0173-0863</td>\n",
       "      <td>None</td>\n",
       "      <td>None</td>\n",
       "      <td>Ch</td>\n",
       "      <td>NO</td>\n",
       "      <td>[Avandia 4MG]</td>\n",
       "      <td>0</td>\n",
       "      <td>0</td>\n",
       "      <td>0</td>\n",
       "      <td>0</td>\n",
       "      <td>1</td>\n",
       "      <td>0</td>\n",
       "      <td>0</td>\n",
       "      <td>0</td>\n",
       "      <td>0</td>\n",
       "      <td>0</td>\n",
       "      <td>0</td>\n",
       "      <td>0</td>\n",
       "      <td>0</td>\n",
       "      <td>0</td>\n",
       "      <td>0</td>\n",
       "      <td>0</td>\n",
       "      <td>0</td>\n",
       "      <td>0</td>\n",
       "      <td>0</td>\n",
       "      <td>0</td>\n",
       "      <td>0</td>\n",
       "      <td>0</td>\n",
       "      <td>0</td>\n",
       "      <td>0</td>\n",
       "      <td>0</td>\n",
       "      <td>0</td>\n",
       "      <td>0</td>\n",
       "      <td>0</td>\n",
       "      <td>0</td>\n",
       "      <td>0</td>\n",
       "      <td>0</td>\n",
       "      <td>0</td>\n",
       "      <td>0</td>\n",
       "      <td>0</td>\n",
       "      <td>0</td>\n",
       "      <td>0</td>\n",
       "    </tr>\n",
       "    <tr>\n",
       "      <th>3</th>\n",
       "      <td>15738</td>\n",
       "      <td>63555939</td>\n",
       "      <td>Caucasian</td>\n",
       "      <td>Female</td>\n",
       "      <td>[90-100)</td>\n",
       "      <td>?</td>\n",
       "      <td>3</td>\n",
       "      <td>3</td>\n",
       "      <td>4</td>\n",
       "      <td>12</td>\n",
       "      <td>?</td>\n",
       "      <td>InternalMedicine</td>\n",
       "      <td>434</td>\n",
       "      <td>198|486</td>\n",
       "      <td>0</td>\n",
       "      <td>0</td>\n",
       "      <td>0</td>\n",
       "      <td>33</td>\n",
       "      <td>8</td>\n",
       "      <td>18</td>\n",
       "      <td>3</td>\n",
       "      <td>68071-1701</td>\n",
       "      <td>None</td>\n",
       "      <td>None</td>\n",
       "      <td>Ch</td>\n",
       "      <td>NO</td>\n",
       "      <td>[Novolin R]</td>\n",
       "      <td>0</td>\n",
       "      <td>0</td>\n",
       "      <td>0</td>\n",
       "      <td>0</td>\n",
       "      <td>0</td>\n",
       "      <td>0</td>\n",
       "      <td>0</td>\n",
       "      <td>0</td>\n",
       "      <td>0</td>\n",
       "      <td>0</td>\n",
       "      <td>0</td>\n",
       "      <td>0</td>\n",
       "      <td>0</td>\n",
       "      <td>0</td>\n",
       "      <td>0</td>\n",
       "      <td>0</td>\n",
       "      <td>0</td>\n",
       "      <td>0</td>\n",
       "      <td>0</td>\n",
       "      <td>0</td>\n",
       "      <td>0</td>\n",
       "      <td>0</td>\n",
       "      <td>0</td>\n",
       "      <td>0</td>\n",
       "      <td>0</td>\n",
       "      <td>1</td>\n",
       "      <td>0</td>\n",
       "      <td>0</td>\n",
       "      <td>0</td>\n",
       "      <td>0</td>\n",
       "      <td>0</td>\n",
       "      <td>0</td>\n",
       "      <td>0</td>\n",
       "      <td>0</td>\n",
       "      <td>0</td>\n",
       "      <td>0</td>\n",
       "    </tr>\n",
       "    <tr>\n",
       "      <th>4</th>\n",
       "      <td>16680</td>\n",
       "      <td>42519267</td>\n",
       "      <td>Caucasian</td>\n",
       "      <td>Male</td>\n",
       "      <td>[40-50)</td>\n",
       "      <td>?</td>\n",
       "      <td>1</td>\n",
       "      <td>1</td>\n",
       "      <td>7</td>\n",
       "      <td>1</td>\n",
       "      <td>?</td>\n",
       "      <td>?</td>\n",
       "      <td>197</td>\n",
       "      <td>157|250</td>\n",
       "      <td>0</td>\n",
       "      <td>0</td>\n",
       "      <td>0</td>\n",
       "      <td>51</td>\n",
       "      <td>5</td>\n",
       "      <td>8</td>\n",
       "      <td>0</td>\n",
       "      <td>0049-4110</td>\n",
       "      <td>None</td>\n",
       "      <td>None</td>\n",
       "      <td>Ch</td>\n",
       "      <td>NO</td>\n",
       "      <td>[Glucotrol]</td>\n",
       "      <td>0</td>\n",
       "      <td>0</td>\n",
       "      <td>0</td>\n",
       "      <td>0</td>\n",
       "      <td>0</td>\n",
       "      <td>0</td>\n",
       "      <td>0</td>\n",
       "      <td>0</td>\n",
       "      <td>0</td>\n",
       "      <td>0</td>\n",
       "      <td>0</td>\n",
       "      <td>0</td>\n",
       "      <td>1</td>\n",
       "      <td>0</td>\n",
       "      <td>0</td>\n",
       "      <td>0</td>\n",
       "      <td>0</td>\n",
       "      <td>0</td>\n",
       "      <td>0</td>\n",
       "      <td>0</td>\n",
       "      <td>0</td>\n",
       "      <td>0</td>\n",
       "      <td>0</td>\n",
       "      <td>0</td>\n",
       "      <td>0</td>\n",
       "      <td>0</td>\n",
       "      <td>0</td>\n",
       "      <td>0</td>\n",
       "      <td>0</td>\n",
       "      <td>0</td>\n",
       "      <td>0</td>\n",
       "      <td>0</td>\n",
       "      <td>0</td>\n",
       "      <td>0</td>\n",
       "      <td>0</td>\n",
       "      <td>0</td>\n",
       "    </tr>\n",
       "  </tbody>\n",
       "</table>\n",
       "</div>"
      ],
      "text/plain": [
       "   encounter_id  patient_nbr       race  gender       age weight  \\\n",
       "0         12522     48330783  Caucasian  Female   [80-90)      ?   \n",
       "1         12522     48330783  Caucasian  Female   [80-90)      ?   \n",
       "2         15738     63555939  Caucasian  Female  [90-100)      ?   \n",
       "3         15738     63555939  Caucasian  Female  [90-100)      ?   \n",
       "4         16680     42519267  Caucasian    Male   [40-50)      ?   \n",
       "\n",
       "   admission_type_id  discharge_disposition_id  admission_source_id  \\\n",
       "0                  2                         1                    4   \n",
       "1                  2                         1                    4   \n",
       "2                  3                         3                    4   \n",
       "3                  3                         3                    4   \n",
       "4                  1                         1                    7   \n",
       "\n",
       "   time_in_hospital payer_code medical_specialty primary_diagnosis_code  \\\n",
       "0                13          ?                 ?                    398   \n",
       "1                13          ?                 ?                    398   \n",
       "2                12          ?  InternalMedicine                    434   \n",
       "3                12          ?  InternalMedicine                    434   \n",
       "4                 1          ?                 ?                    197   \n",
       "\n",
       "  other_diagnosis_codes  number_outpatient  number_inpatient  \\\n",
       "0                427|38                  0                 0   \n",
       "1                427|38                  0                 0   \n",
       "2               198|486                  0                 0   \n",
       "3               198|486                  0                 0   \n",
       "4               157|250                  0                 0   \n",
       "\n",
       "   number_emergency  num_lab_procedures  number_diagnoses  num_medications  \\\n",
       "0                 0                  68                 8               28   \n",
       "1                 0                  68                 8               28   \n",
       "2                 0                  33                 8               18   \n",
       "3                 0                  33                 8               18   \n",
       "4                 0                  51                 5                8   \n",
       "\n",
       "   num_procedures    ndc_code max_glu_serum A1Cresult change readmitted  \\\n",
       "0               2   0049-4110          None      None     Ch         NO   \n",
       "1               2   47918-902          None      None     Ch         NO   \n",
       "2               3   0173-0863          None      None     Ch         NO   \n",
       "3               3  68071-1701          None      None     Ch         NO   \n",
       "4               0   0049-4110          None      None     Ch         NO   \n",
       "\n",
       "  generic_drug_name_array  Acarbose  Afrezza  Amaryl  Avandia_2MG  \\\n",
       "0             [Glucotrol]         0        0       0            0   \n",
       "1               [Afrezza]         0        1       0            0   \n",
       "2           [Avandia 4MG]         0        0       0            0   \n",
       "3             [Novolin R]         0        0       0            0   \n",
       "4             [Glucotrol]         0        0       0            0   \n",
       "\n",
       "   Avandia_4MG  Duetact  Glimepiride  Glipizide  Glipizide_And_Metformin_Hcl  \\\n",
       "0            0        0            0          0                            0   \n",
       "1            0        0            0          0                            0   \n",
       "2            1        0            0          0                            0   \n",
       "3            0        0            0          0                            0   \n",
       "4            0        0            0          0                            0   \n",
       "\n",
       "   Glipizide_And_Metformin_Hydrochloride  Glucophage  Glucophage_XR  \\\n",
       "0                                      0           0              0   \n",
       "1                                      0           0              0   \n",
       "2                                      0           0              0   \n",
       "3                                      0           0              0   \n",
       "4                                      0           0              0   \n",
       "\n",
       "   Glucotrol  Glucotrol_XL  Glyburide  Glyburide_And_Metformin_Hydrochloride  \\\n",
       "0          1             0          0                                      0   \n",
       "1          0             0          0                                      0   \n",
       "2          0             0          0                                      0   \n",
       "3          0             0          0                                      0   \n",
       "4          1             0          0                                      0   \n",
       "\n",
       "   Glyburide-metformin_Hydrochloride  Glynase  Glyset  Humulin_R  \\\n",
       "0                                  0        0       0          0   \n",
       "1                                  0        0       0          0   \n",
       "2                                  0        0       0          0   \n",
       "3                                  0        0       0          0   \n",
       "4                                  0        0       0          0   \n",
       "\n",
       "   Metformin_Hcl  Metformin_Hydrochloride  \\\n",
       "0              0                        0   \n",
       "1              0                        0   \n",
       "2              0                        0   \n",
       "3              0                        0   \n",
       "4              0                        0   \n",
       "\n",
       "   Metformin_Hydrochloride_Extended_Release  Miglitol  Nateglinide  Novolin_R  \\\n",
       "0                                         0         0            0          0   \n",
       "1                                         0         0            0          0   \n",
       "2                                         0         0            0          0   \n",
       "3                                         0         0            0          1   \n",
       "4                                         0         0            0          0   \n",
       "\n",
       "   Pioglitazole_And_Metformin_Hydrochloride  Pioglitazone  \\\n",
       "0                                         0             0   \n",
       "1                                         0             0   \n",
       "2                                         0             0   \n",
       "3                                         0             0   \n",
       "4                                         0             0   \n",
       "\n",
       "   Pioglitazone_Hydrochloride_And_Glimepiride  Prandin  Repaglinide  Riomet  \\\n",
       "0                                           0        0            0       0   \n",
       "1                                           0        0            0       0   \n",
       "2                                           0        0            0       0   \n",
       "3                                           0        0            0       0   \n",
       "4                                           0        0            0       0   \n",
       "\n",
       "   Riomet_Er  Starlix  Tolazamide  Tolbutamide  \n",
       "0          0        0           0            0  \n",
       "1          0        0           0            0  \n",
       "2          0        0           0            0  \n",
       "3          0        0           0            0  \n",
       "4          0        0           0            0  "
      ]
     },
     "execution_count": 40,
     "metadata": {},
     "output_type": "execute_result"
    }
   ],
   "source": [
    "agg_drug_df.head()"
   ]
  },
  {
   "cell_type": "markdown",
   "metadata": {},
   "source": [
    "## Prepare Fields and Cast Dataset "
   ]
  },
  {
   "cell_type": "markdown",
   "metadata": {},
   "source": [
    "### Feature Selection"
   ]
  },
  {
   "cell_type": "markdown",
   "metadata": {},
   "source": [
    "**Question 5**: After you have aggregated the dataset to the right level, we can do feature selection (we will include the ndc_col_list, dummy column features too). In the block below, please select the categorical and numerical features that you will use for the model, so that we can create a dataset subset. \n",
    "\n",
    "For the payer_code and weight fields, please provide whether you think we should include/exclude the field in our model and give a justification/rationale for this based off of the statistics of the data. Feel free to use visualizations or summary statistics to support your choice."
   ]
  },
  {
   "cell_type": "code",
   "execution_count": 41,
   "metadata": {},
   "outputs": [
    {
     "data": {
      "text/plain": [
       "encounter_id    0\n",
       "patient_nbr     0\n",
       "race            0\n",
       "gender          0\n",
       "age             0\n",
       "               ..\n",
       "Riomet          0\n",
       "Riomet_Er       0\n",
       "Starlix         0\n",
       "Tolazamide      0\n",
       "Tolbutamide     0\n",
       "Length: 63, dtype: int64"
      ]
     },
     "execution_count": 41,
     "metadata": {},
     "output_type": "execute_result"
    }
   ],
   "source": [
    "# Check NaNs\n",
    "agg_drug_df.isnull().sum()"
   ]
  },
  {
   "cell_type": "code",
   "execution_count": 42,
   "metadata": {},
   "outputs": [
    {
     "data": {
      "text/plain": [
       "Series([], dtype: float64)"
      ]
     },
     "execution_count": 42,
     "metadata": {},
     "output_type": "execute_result"
    }
   ],
   "source": [
    "nan_mean=agg_drug_df.isnull().mean().sort_values(ascending=False)\n",
    "nan_mean[nan_mean>0]"
   ]
  },
  {
   "cell_type": "code",
   "execution_count": 43,
   "metadata": {},
   "outputs": [
    {
     "data": {
      "image/png": "[encoded data removed]",
      "text/plain": [
       "<Figure size 1080x1080 with 16 Axes>"
      ]
     },
     "metadata": {
      "needs_background": "light"
     },
     "output_type": "display_data"
    }
   ],
   "source": [
    "# Distribution of numerical values\n",
    "num_col=[col for col in df.columns if df[col].dtype!='object']\n",
    "agg_drug_df[num_col].hist(figsize=(15,15))\n",
    "plt.show()"
   ]
  },
  {
   "cell_type": "code",
   "execution_count": 44,
   "metadata": {},
   "outputs": [
    {
     "data": {
      "text/plain": [
       "Index(['encounter_id', 'patient_nbr', 'race', 'gender', 'age', 'weight',\n",
       "       'admission_type_id', 'discharge_disposition_id', 'admission_source_id',\n",
       "       'time_in_hospital', 'payer_code', 'medical_specialty',\n",
       "       'primary_diagnosis_code', 'other_diagnosis_codes', 'number_outpatient',\n",
       "       'number_inpatient', 'number_emergency', 'num_lab_procedures',\n",
       "       'number_diagnoses', 'num_medications', 'num_procedures', 'ndc_code',\n",
       "       'max_glu_serum', 'A1Cresult', 'change', 'readmitted',\n",
       "       'generic_drug_name_array', 'Acarbose', 'Afrezza', 'Amaryl',\n",
       "       'Avandia_2MG', 'Avandia_4MG', 'Duetact', 'Glimepiride', 'Glipizide',\n",
       "       'Glipizide_And_Metformin_Hcl', 'Glipizide_And_Metformin_Hydrochloride',\n",
       "       'Glucophage', 'Glucophage_XR', 'Glucotrol', 'Glucotrol_XL', 'Glyburide',\n",
       "       'Glyburide_And_Metformin_Hydrochloride',\n",
       "       'Glyburide-metformin_Hydrochloride', 'Glynase', 'Glyset', 'Humulin_R',\n",
       "       'Metformin_Hcl', 'Metformin_Hydrochloride',\n",
       "       'Metformin_Hydrochloride_Extended_Release', 'Miglitol', 'Nateglinide',\n",
       "       'Novolin_R', 'Pioglitazole_And_Metformin_Hydrochloride', 'Pioglitazone',\n",
       "       'Pioglitazone_Hydrochloride_And_Glimepiride', 'Prandin', 'Repaglinide',\n",
       "       'Riomet', 'Riomet_Er', 'Starlix', 'Tolazamide', 'Tolbutamide'],\n",
       "      dtype='object')"
      ]
     },
     "execution_count": 44,
     "metadata": {},
     "output_type": "execute_result"
    }
   ],
   "source": [
    "agg_drug_df.columns"
   ]
  },
  {
   "cell_type": "code",
   "execution_count": 45,
   "metadata": {},
   "outputs": [
    {
     "data": {
      "text/plain": [
       "encounter_id     int64\n",
       "patient_nbr      int64\n",
       "race            object\n",
       "gender          object\n",
       "age             object\n",
       "                 ...  \n",
       "Riomet           uint8\n",
       "Riomet_Er        uint8\n",
       "Starlix          uint8\n",
       "Tolazamide       uint8\n",
       "Tolbutamide      uint8\n",
       "Length: 63, dtype: object"
      ]
     },
     "execution_count": 45,
     "metadata": {},
     "output_type": "execute_result"
    }
   ],
   "source": [
    "agg_drug_df.dtypes"
   ]
  },
  {
   "cell_type": "code",
   "execution_count": 46,
   "metadata": {},
   "outputs": [],
   "source": [
    "def hist_features(col, bins=None):\n",
    "    if bins is None:\n",
    "        df[col].hist(bins=df[col].nunique())\n",
    "    else:\n",
    "        df[col].hist(bins=bins)"
   ]
  },
  {
   "cell_type": "code",
   "execution_count": 47,
   "metadata": {},
   "outputs": [
    {
     "name": "stdout",
     "output_type": "stream",
     "text": [
      "<class 'pandas.core.frame.DataFrame'>\n",
      "RangeIndex: 87661 entries, 0 to 87660\n",
      "Data columns (total 63 columns):\n",
      " #   Column                                      Non-Null Count  Dtype \n",
      "---  ------                                      --------------  ----- \n",
      " 0   encounter_id                                87661 non-null  int64 \n",
      " 1   patient_nbr                                 87661 non-null  int64 \n",
      " 2   race                                        87661 non-null  object\n",
      " 3   gender                                      87661 non-null  object\n",
      " 4   age                                         87661 non-null  object\n",
      " 5   weight                                      87661 non-null  object\n",
      " 6   admission_type_id                           87661 non-null  int64 \n",
      " 7   discharge_disposition_id                    87661 non-null  int64 \n",
      " 8   admission_source_id                         87661 non-null  int64 \n",
      " 9   time_in_hospital                            87661 non-null  int64 \n",
      " 10  payer_code                                  87661 non-null  object\n",
      " 11  medical_specialty                           87661 non-null  object\n",
      " 12  primary_diagnosis_code                      87661 non-null  object\n",
      " 13  other_diagnosis_codes                       87661 non-null  object\n",
      " 14  number_outpatient                           87661 non-null  int64 \n",
      " 15  number_inpatient                            87661 non-null  int64 \n",
      " 16  number_emergency                            87661 non-null  int64 \n",
      " 17  num_lab_procedures                          87661 non-null  int64 \n",
      " 18  number_diagnoses                            87661 non-null  int64 \n",
      " 19  num_medications                             87661 non-null  int64 \n",
      " 20  num_procedures                              87661 non-null  int64 \n",
      " 21  ndc_code                                    87661 non-null  object\n",
      " 22  max_glu_serum                               87661 non-null  object\n",
      " 23  A1Cresult                                   87661 non-null  object\n",
      " 24  change                                      87661 non-null  object\n",
      " 25  readmitted                                  87661 non-null  object\n",
      " 26  generic_drug_name_array                     87661 non-null  object\n",
      " 27  Acarbose                                    87661 non-null  uint8 \n",
      " 28  Afrezza                                     87661 non-null  uint8 \n",
      " 29  Amaryl                                      87661 non-null  uint8 \n",
      " 30  Avandia_2MG                                 87661 non-null  uint8 \n",
      " 31  Avandia_4MG                                 87661 non-null  uint8 \n",
      " 32  Duetact                                     87661 non-null  uint8 \n",
      " 33  Glimepiride                                 87661 non-null  uint8 \n",
      " 34  Glipizide                                   87661 non-null  uint8 \n",
      " 35  Glipizide_And_Metformin_Hcl                 87661 non-null  uint8 \n",
      " 36  Glipizide_And_Metformin_Hydrochloride       87661 non-null  uint8 \n",
      " 37  Glucophage                                  87661 non-null  uint8 \n",
      " 38  Glucophage_XR                               87661 non-null  uint8 \n",
      " 39  Glucotrol                                   87661 non-null  uint8 \n",
      " 40  Glucotrol_XL                                87661 non-null  uint8 \n",
      " 41  Glyburide                                   87661 non-null  uint8 \n",
      " 42  Glyburide_And_Metformin_Hydrochloride       87661 non-null  uint8 \n",
      " 43  Glyburide-metformin_Hydrochloride           87661 non-null  uint8 \n",
      " 44  Glynase                                     87661 non-null  uint8 \n",
      " 45  Glyset                                      87661 non-null  uint8 \n",
      " 46  Humulin_R                                   87661 non-null  uint8 \n",
      " 47  Metformin_Hcl                               87661 non-null  uint8 \n",
      " 48  Metformin_Hydrochloride                     87661 non-null  uint8 \n",
      " 49  Metformin_Hydrochloride_Extended_Release    87661 non-null  uint8 \n",
      " 50  Miglitol                                    87661 non-null  uint8 \n",
      " 51  Nateglinide                                 87661 non-null  uint8 \n",
      " 52  Novolin_R                                   87661 non-null  uint8 \n",
      " 53  Pioglitazole_And_Metformin_Hydrochloride    87661 non-null  uint8 \n",
      " 54  Pioglitazone                                87661 non-null  uint8 \n",
      " 55  Pioglitazone_Hydrochloride_And_Glimepiride  87661 non-null  uint8 \n",
      " 56  Prandin                                     87661 non-null  uint8 \n",
      " 57  Repaglinide                                 87661 non-null  uint8 \n",
      " 58  Riomet                                      87661 non-null  uint8 \n",
      " 59  Riomet_Er                                   87661 non-null  uint8 \n",
      " 60  Starlix                                     87661 non-null  uint8 \n",
      " 61  Tolazamide                                  87661 non-null  uint8 \n",
      " 62  Tolbutamide                                 87661 non-null  uint8 \n",
      "dtypes: int64(13), object(14), uint8(36)\n",
      "memory usage: 21.1+ MB\n"
     ]
    }
   ],
   "source": [
    "# Info agg_drug_df\n",
    "agg_drug_df.info()"
   ]
  },
  {
   "cell_type": "code",
   "execution_count": 48,
   "metadata": {},
   "outputs": [
    {
     "data": {
      "image/png": "[encoded data removed]",
      "text/plain": [
       "<Figure size 432x288 with 1 Axes>"
      ]
     },
     "metadata": {
      "needs_background": "light"
     },
     "output_type": "display_data"
    }
   ],
   "source": [
    "hist_features('encounter_id')"
   ]
  },
  {
   "cell_type": "code",
   "execution_count": 49,
   "metadata": {},
   "outputs": [
    {
     "data": {
      "image/png": "[encoded data removed]",
      "text/plain": [
       "<Figure size 432x288 with 1 Axes>"
      ]
     },
     "metadata": {
      "needs_background": "light"
     },
     "output_type": "display_data"
    }
   ],
   "source": [
    "hist_features('race')"
   ]
  },
  {
   "cell_type": "code",
   "execution_count": 50,
   "metadata": {},
   "outputs": [
    {
     "data": {
      "image/png": "[encoded data removed]",
      "text/plain": [
       "<Figure size 432x288 with 1 Axes>"
      ]
     },
     "metadata": {
      "needs_background": "light"
     },
     "output_type": "display_data"
    }
   ],
   "source": [
    "hist_features('gender')"
   ]
  },
  {
   "cell_type": "code",
   "execution_count": 51,
   "metadata": {},
   "outputs": [
    {
     "data": {
      "image/png": "[encoded data removed]",
      "text/plain": [
       "<Figure size 432x288 with 1 Axes>"
      ]
     },
     "metadata": {
      "needs_background": "light"
     },
     "output_type": "display_data"
    }
   ],
   "source": [
    "hist_features('age')"
   ]
  },
  {
   "cell_type": "code",
   "execution_count": 52,
   "metadata": {},
   "outputs": [
    {
     "data": {
      "image/png": "[encoded data removed]",
      "text/plain": [
       "<Figure size 432x288 with 1 Axes>"
      ]
     },
     "metadata": {
      "needs_background": "light"
     },
     "output_type": "display_data"
    }
   ],
   "source": [
    "hist_features('num_medications')"
   ]
  },
  {
   "cell_type": "code",
   "execution_count": 53,
   "metadata": {},
   "outputs": [
    {
     "data": {
      "image/png": "[encoded data removed]",
      "text/plain": [
       "<Figure size 432x288 with 1 Axes>"
      ]
     },
     "metadata": {
      "needs_background": "light"
     },
     "output_type": "display_data"
    }
   ],
   "source": [
    "hist_features('change')"
   ]
  },
  {
   "cell_type": "code",
   "execution_count": 54,
   "metadata": {},
   "outputs": [
    {
     "data": {
      "image/png": "[encoded data removed]",
      "text/plain": [
       "<Figure size 432x288 with 1 Axes>"
      ]
     },
     "metadata": {
      "needs_background": "light"
     },
     "output_type": "display_data"
    }
   ],
   "source": [
    "hist_features('payer_code')"
   ]
  },
  {
   "cell_type": "code",
   "execution_count": 55,
   "metadata": {},
   "outputs": [
    {
     "data": {
      "image/png": "[encoded data removed]",
      "text/plain": [
       "<Figure size 432x288 with 1 Axes>"
      ]
     },
     "metadata": {
      "needs_background": "light"
     },
     "output_type": "display_data"
    }
   ],
   "source": [
    "hist_features('primary_diagnosis_code')"
   ]
  },
  {
   "cell_type": "markdown",
   "metadata": {},
   "source": [
    " Question 5 - Student response: At the following the features to be included"
   ]
  },
  {
   "cell_type": "markdown",
   "metadata": {},
   "source": [
    "- race - include, as different races may have different nutritional patterns which could have an effect\n",
    "- gender - include, as some functions of the body are different for males and females\n",
    "- age - include, as age definitely has an effect on how the body reacts to drugs\n",
    "- time_in_hospital - PREDICTOR_FIELD\n",
    "- primary_diagnosis_code - include, the distribution resembles normal (if codes properly re-arranges on the graph)\n",
    "- other_diagnosis_codes - include\n",
    "- num_lab_procedures - include, normal distribution\n",
    "- num_medications - include, normal distribution"
   ]
  },
  {
   "cell_type": "code",
   "execution_count": 56,
   "metadata": {},
   "outputs": [],
   "source": [
    "'''\n",
    "Please update the list to include the features you think are appropriate for the model \n",
    "and the field that we will be using to train the model. There are three required demographic features for the model \n",
    "and I have inserted a list with them already in the categorical list. \n",
    "These will be required for later steps when analyzing data splits and model biases.\n",
    "'''\n",
    "required_demo_col_list = ['race', 'gender', 'age']\n",
    "student_categorical_col_list = [ \"primary_diagnosis_code\", \"other_diagnosis_codes\"] + required_demo_col_list + ndc_col_list\n",
    "student_numerical_col_list = [ \"num_lab_procedures\", \"num_medications\"]\n",
    "PREDICTOR_FIELD = 'time_in_hospital'"
   ]
  },
  {
   "cell_type": "code",
   "execution_count": 57,
   "metadata": {},
   "outputs": [],
   "source": [
    "def select_model_features(df, categorical_col_list, numerical_col_list, PREDICTOR_FIELD, grouping_key='patient_nbr'):\n",
    "    selected_col_list = [grouping_key] + [PREDICTOR_FIELD] + categorical_col_list + numerical_col_list   \n",
    "    return agg_drug_df[selected_col_list]\n"
   ]
  },
  {
   "cell_type": "code",
   "execution_count": 58,
   "metadata": {},
   "outputs": [],
   "source": [
    "selected_features_df = select_model_features(agg_drug_df, student_categorical_col_list, student_numerical_col_list,\n",
    "                                            PREDICTOR_FIELD)"
   ]
  },
  {
   "cell_type": "markdown",
   "metadata": {},
   "source": [
    "### Preprocess Dataset - Casting and Imputing  "
   ]
  },
  {
   "cell_type": "markdown",
   "metadata": {},
   "source": [
    "We will cast and impute the dataset before splitting so that we do not have to repeat these steps across the splits in the next step. For imputing, there can be deeper analysis into which features to impute and how to impute but for the sake of time, we are taking a general strategy of imputing zero for only numerical features. \n",
    "\n",
    "OPTIONAL: What are some potential issues with this approach? Can you recommend a better way and also implement it?"
   ]
  },
  {
   "cell_type": "code",
   "execution_count": 59,
   "metadata": {},
   "outputs": [],
   "source": [
    "processed_df = preprocess_df(selected_features_df, student_categorical_col_list, \n",
    "        student_numerical_col_list, PREDICTOR_FIELD, categorical_impute_value='nan', numerical_impute_value=0)"
   ]
  },
  {
   "cell_type": "code",
   "execution_count": 60,
   "metadata": {},
   "outputs": [
    {
     "data": {
      "text/html": [
       "<div>\n",
       "<style scoped>\n",
       "    .dataframe tbody tr th:only-of-type {\n",
       "        vertical-align: middle;\n",
       "    }\n",
       "\n",
       "    .dataframe tbody tr th {\n",
       "        vertical-align: top;\n",
       "    }\n",
       "\n",
       "    .dataframe thead th {\n",
       "        text-align: right;\n",
       "    }\n",
       "</style>\n",
       "<table border=\"1\" class=\"dataframe\">\n",
       "  <thead>\n",
       "    <tr style=\"text-align: right;\">\n",
       "      <th></th>\n",
       "      <th>patient_nbr</th>\n",
       "      <th>time_in_hospital</th>\n",
       "      <th>primary_diagnosis_code</th>\n",
       "      <th>other_diagnosis_codes</th>\n",
       "      <th>race</th>\n",
       "      <th>gender</th>\n",
       "      <th>age</th>\n",
       "      <th>Acarbose</th>\n",
       "      <th>Afrezza</th>\n",
       "      <th>Amaryl</th>\n",
       "      <th>Avandia_2MG</th>\n",
       "      <th>Avandia_4MG</th>\n",
       "      <th>Duetact</th>\n",
       "      <th>Glimepiride</th>\n",
       "      <th>Glipizide</th>\n",
       "      <th>Glipizide_And_Metformin_Hcl</th>\n",
       "      <th>Glipizide_And_Metformin_Hydrochloride</th>\n",
       "      <th>Glucophage</th>\n",
       "      <th>Glucophage_XR</th>\n",
       "      <th>Glucotrol</th>\n",
       "      <th>Glucotrol_XL</th>\n",
       "      <th>Glyburide</th>\n",
       "      <th>Glyburide_And_Metformin_Hydrochloride</th>\n",
       "      <th>Glyburide-metformin_Hydrochloride</th>\n",
       "      <th>Glynase</th>\n",
       "      <th>Glyset</th>\n",
       "      <th>Humulin_R</th>\n",
       "      <th>Metformin_Hcl</th>\n",
       "      <th>Metformin_Hydrochloride</th>\n",
       "      <th>Metformin_Hydrochloride_Extended_Release</th>\n",
       "      <th>Miglitol</th>\n",
       "      <th>Nateglinide</th>\n",
       "      <th>Novolin_R</th>\n",
       "      <th>Pioglitazole_And_Metformin_Hydrochloride</th>\n",
       "      <th>Pioglitazone</th>\n",
       "      <th>Pioglitazone_Hydrochloride_And_Glimepiride</th>\n",
       "      <th>Prandin</th>\n",
       "      <th>Repaglinide</th>\n",
       "      <th>Riomet</th>\n",
       "      <th>Riomet_Er</th>\n",
       "      <th>Starlix</th>\n",
       "      <th>Tolazamide</th>\n",
       "      <th>Tolbutamide</th>\n",
       "      <th>num_lab_procedures</th>\n",
       "      <th>num_medications</th>\n",
       "    </tr>\n",
       "  </thead>\n",
       "  <tbody>\n",
       "    <tr>\n",
       "      <th>0</th>\n",
       "      <td>48330783</td>\n",
       "      <td>13.0</td>\n",
       "      <td>398</td>\n",
       "      <td>427|38</td>\n",
       "      <td>Caucasian</td>\n",
       "      <td>Female</td>\n",
       "      <td>[80-90)</td>\n",
       "      <td>0</td>\n",
       "      <td>0</td>\n",
       "      <td>0</td>\n",
       "      <td>0</td>\n",
       "      <td>0</td>\n",
       "      <td>0</td>\n",
       "      <td>0</td>\n",
       "      <td>0</td>\n",
       "      <td>0</td>\n",
       "      <td>0</td>\n",
       "      <td>0</td>\n",
       "      <td>0</td>\n",
       "      <td>1</td>\n",
       "      <td>0</td>\n",
       "      <td>0</td>\n",
       "      <td>0</td>\n",
       "      <td>0</td>\n",
       "      <td>0</td>\n",
       "      <td>0</td>\n",
       "      <td>0</td>\n",
       "      <td>0</td>\n",
       "      <td>0</td>\n",
       "      <td>0</td>\n",
       "      <td>0</td>\n",
       "      <td>0</td>\n",
       "      <td>0</td>\n",
       "      <td>0</td>\n",
       "      <td>0</td>\n",
       "      <td>0</td>\n",
       "      <td>0</td>\n",
       "      <td>0</td>\n",
       "      <td>0</td>\n",
       "      <td>0</td>\n",
       "      <td>0</td>\n",
       "      <td>0</td>\n",
       "      <td>0</td>\n",
       "      <td>68</td>\n",
       "      <td>28</td>\n",
       "    </tr>\n",
       "    <tr>\n",
       "      <th>1</th>\n",
       "      <td>48330783</td>\n",
       "      <td>13.0</td>\n",
       "      <td>398</td>\n",
       "      <td>427|38</td>\n",
       "      <td>Caucasian</td>\n",
       "      <td>Female</td>\n",
       "      <td>[80-90)</td>\n",
       "      <td>0</td>\n",
       "      <td>1</td>\n",
       "      <td>0</td>\n",
       "      <td>0</td>\n",
       "      <td>0</td>\n",
       "      <td>0</td>\n",
       "      <td>0</td>\n",
       "      <td>0</td>\n",
       "      <td>0</td>\n",
       "      <td>0</td>\n",
       "      <td>0</td>\n",
       "      <td>0</td>\n",
       "      <td>0</td>\n",
       "      <td>0</td>\n",
       "      <td>0</td>\n",
       "      <td>0</td>\n",
       "      <td>0</td>\n",
       "      <td>0</td>\n",
       "      <td>0</td>\n",
       "      <td>0</td>\n",
       "      <td>0</td>\n",
       "      <td>0</td>\n",
       "      <td>0</td>\n",
       "      <td>0</td>\n",
       "      <td>0</td>\n",
       "      <td>0</td>\n",
       "      <td>0</td>\n",
       "      <td>0</td>\n",
       "      <td>0</td>\n",
       "      <td>0</td>\n",
       "      <td>0</td>\n",
       "      <td>0</td>\n",
       "      <td>0</td>\n",
       "      <td>0</td>\n",
       "      <td>0</td>\n",
       "      <td>0</td>\n",
       "      <td>68</td>\n",
       "      <td>28</td>\n",
       "    </tr>\n",
       "    <tr>\n",
       "      <th>2</th>\n",
       "      <td>63555939</td>\n",
       "      <td>12.0</td>\n",
       "      <td>434</td>\n",
       "      <td>198|486</td>\n",
       "      <td>Caucasian</td>\n",
       "      <td>Female</td>\n",
       "      <td>[90-100)</td>\n",
       "      <td>0</td>\n",
       "      <td>0</td>\n",
       "      <td>0</td>\n",
       "      <td>0</td>\n",
       "      <td>1</td>\n",
       "      <td>0</td>\n",
       "      <td>0</td>\n",
       "      <td>0</td>\n",
       "      <td>0</td>\n",
       "      <td>0</td>\n",
       "      <td>0</td>\n",
       "      <td>0</td>\n",
       "      <td>0</td>\n",
       "      <td>0</td>\n",
       "      <td>0</td>\n",
       "      <td>0</td>\n",
       "      <td>0</td>\n",
       "      <td>0</td>\n",
       "      <td>0</td>\n",
       "      <td>0</td>\n",
       "      <td>0</td>\n",
       "      <td>0</td>\n",
       "      <td>0</td>\n",
       "      <td>0</td>\n",
       "      <td>0</td>\n",
       "      <td>0</td>\n",
       "      <td>0</td>\n",
       "      <td>0</td>\n",
       "      <td>0</td>\n",
       "      <td>0</td>\n",
       "      <td>0</td>\n",
       "      <td>0</td>\n",
       "      <td>0</td>\n",
       "      <td>0</td>\n",
       "      <td>0</td>\n",
       "      <td>0</td>\n",
       "      <td>33</td>\n",
       "      <td>18</td>\n",
       "    </tr>\n",
       "    <tr>\n",
       "      <th>3</th>\n",
       "      <td>63555939</td>\n",
       "      <td>12.0</td>\n",
       "      <td>434</td>\n",
       "      <td>198|486</td>\n",
       "      <td>Caucasian</td>\n",
       "      <td>Female</td>\n",
       "      <td>[90-100)</td>\n",
       "      <td>0</td>\n",
       "      <td>0</td>\n",
       "      <td>0</td>\n",
       "      <td>0</td>\n",
       "      <td>0</td>\n",
       "      <td>0</td>\n",
       "      <td>0</td>\n",
       "      <td>0</td>\n",
       "      <td>0</td>\n",
       "      <td>0</td>\n",
       "      <td>0</td>\n",
       "      <td>0</td>\n",
       "      <td>0</td>\n",
       "      <td>0</td>\n",
       "      <td>0</td>\n",
       "      <td>0</td>\n",
       "      <td>0</td>\n",
       "      <td>0</td>\n",
       "      <td>0</td>\n",
       "      <td>0</td>\n",
       "      <td>0</td>\n",
       "      <td>0</td>\n",
       "      <td>0</td>\n",
       "      <td>0</td>\n",
       "      <td>0</td>\n",
       "      <td>1</td>\n",
       "      <td>0</td>\n",
       "      <td>0</td>\n",
       "      <td>0</td>\n",
       "      <td>0</td>\n",
       "      <td>0</td>\n",
       "      <td>0</td>\n",
       "      <td>0</td>\n",
       "      <td>0</td>\n",
       "      <td>0</td>\n",
       "      <td>0</td>\n",
       "      <td>33</td>\n",
       "      <td>18</td>\n",
       "    </tr>\n",
       "    <tr>\n",
       "      <th>4</th>\n",
       "      <td>42519267</td>\n",
       "      <td>1.0</td>\n",
       "      <td>197</td>\n",
       "      <td>157|250</td>\n",
       "      <td>Caucasian</td>\n",
       "      <td>Male</td>\n",
       "      <td>[40-50)</td>\n",
       "      <td>0</td>\n",
       "      <td>0</td>\n",
       "      <td>0</td>\n",
       "      <td>0</td>\n",
       "      <td>0</td>\n",
       "      <td>0</td>\n",
       "      <td>0</td>\n",
       "      <td>0</td>\n",
       "      <td>0</td>\n",
       "      <td>0</td>\n",
       "      <td>0</td>\n",
       "      <td>0</td>\n",
       "      <td>1</td>\n",
       "      <td>0</td>\n",
       "      <td>0</td>\n",
       "      <td>0</td>\n",
       "      <td>0</td>\n",
       "      <td>0</td>\n",
       "      <td>0</td>\n",
       "      <td>0</td>\n",
       "      <td>0</td>\n",
       "      <td>0</td>\n",
       "      <td>0</td>\n",
       "      <td>0</td>\n",
       "      <td>0</td>\n",
       "      <td>0</td>\n",
       "      <td>0</td>\n",
       "      <td>0</td>\n",
       "      <td>0</td>\n",
       "      <td>0</td>\n",
       "      <td>0</td>\n",
       "      <td>0</td>\n",
       "      <td>0</td>\n",
       "      <td>0</td>\n",
       "      <td>0</td>\n",
       "      <td>0</td>\n",
       "      <td>51</td>\n",
       "      <td>8</td>\n",
       "    </tr>\n",
       "  </tbody>\n",
       "</table>\n",
       "</div>"
      ],
      "text/plain": [
       "   patient_nbr  time_in_hospital primary_diagnosis_code other_diagnosis_codes  \\\n",
       "0     48330783              13.0                    398                427|38   \n",
       "1     48330783              13.0                    398                427|38   \n",
       "2     63555939              12.0                    434               198|486   \n",
       "3     63555939              12.0                    434               198|486   \n",
       "4     42519267               1.0                    197               157|250   \n",
       "\n",
       "        race  gender       age Acarbose Afrezza Amaryl Avandia_2MG  \\\n",
       "0  Caucasian  Female   [80-90)        0       0      0           0   \n",
       "1  Caucasian  Female   [80-90)        0       1      0           0   \n",
       "2  Caucasian  Female  [90-100)        0       0      0           0   \n",
       "3  Caucasian  Female  [90-100)        0       0      0           0   \n",
       "4  Caucasian    Male   [40-50)        0       0      0           0   \n",
       "\n",
       "  Avandia_4MG Duetact Glimepiride Glipizide Glipizide_And_Metformin_Hcl  \\\n",
       "0           0       0           0         0                           0   \n",
       "1           0       0           0         0                           0   \n",
       "2           1       0           0         0                           0   \n",
       "3           0       0           0         0                           0   \n",
       "4           0       0           0         0                           0   \n",
       "\n",
       "  Glipizide_And_Metformin_Hydrochloride Glucophage Glucophage_XR Glucotrol  \\\n",
       "0                                     0          0             0         1   \n",
       "1                                     0          0             0         0   \n",
       "2                                     0          0             0         0   \n",
       "3                                     0          0             0         0   \n",
       "4                                     0          0             0         1   \n",
       "\n",
       "  Glucotrol_XL Glyburide Glyburide_And_Metformin_Hydrochloride  \\\n",
       "0            0         0                                     0   \n",
       "1            0         0                                     0   \n",
       "2            0         0                                     0   \n",
       "3            0         0                                     0   \n",
       "4            0         0                                     0   \n",
       "\n",
       "  Glyburide-metformin_Hydrochloride Glynase Glyset Humulin_R Metformin_Hcl  \\\n",
       "0                                 0       0      0         0             0   \n",
       "1                                 0       0      0         0             0   \n",
       "2                                 0       0      0         0             0   \n",
       "3                                 0       0      0         0             0   \n",
       "4                                 0       0      0         0             0   \n",
       "\n",
       "  Metformin_Hydrochloride Metformin_Hydrochloride_Extended_Release Miglitol  \\\n",
       "0                       0                                        0        0   \n",
       "1                       0                                        0        0   \n",
       "2                       0                                        0        0   \n",
       "3                       0                                        0        0   \n",
       "4                       0                                        0        0   \n",
       "\n",
       "  Nateglinide Novolin_R Pioglitazole_And_Metformin_Hydrochloride Pioglitazone  \\\n",
       "0           0         0                                        0            0   \n",
       "1           0         0                                        0            0   \n",
       "2           0         0                                        0            0   \n",
       "3           0         1                                        0            0   \n",
       "4           0         0                                        0            0   \n",
       "\n",
       "  Pioglitazone_Hydrochloride_And_Glimepiride Prandin Repaglinide Riomet  \\\n",
       "0                                          0       0           0      0   \n",
       "1                                          0       0           0      0   \n",
       "2                                          0       0           0      0   \n",
       "3                                          0       0           0      0   \n",
       "4                                          0       0           0      0   \n",
       "\n",
       "  Riomet_Er Starlix Tolazamide Tolbutamide  num_lab_procedures  \\\n",
       "0         0       0          0           0                  68   \n",
       "1         0       0          0           0                  68   \n",
       "2         0       0          0           0                  33   \n",
       "3         0       0          0           0                  33   \n",
       "4         0       0          0           0                  51   \n",
       "\n",
       "   num_medications  \n",
       "0               28  \n",
       "1               28  \n",
       "2               18  \n",
       "3               18  \n",
       "4                8  "
      ]
     },
     "execution_count": 60,
     "metadata": {},
     "output_type": "execute_result"
    }
   ],
   "source": [
    "processed_df.head()"
   ]
  },
  {
   "cell_type": "code",
   "execution_count": 61,
   "metadata": {},
   "outputs": [
    {
     "data": {
      "text/plain": [
       "(87661, 45)"
      ]
     },
     "execution_count": 61,
     "metadata": {},
     "output_type": "execute_result"
    }
   ],
   "source": [
    "# Shape \n",
    "processed_df.shape"
   ]
  },
  {
   "cell_type": "markdown",
   "metadata": {},
   "source": [
    "## Split Dataset into Train, Validation, and Test Partitions"
   ]
  },
  {
   "cell_type": "markdown",
   "metadata": {},
   "source": [
    "**Question 6**: In order to prepare the data for being trained and evaluated by a deep learning model, we will split the dataset into three partitions, with the validation partition used for optimizing the model hyperparameters during training. One of the key parts is that we need to be sure that the data does not accidently leak across partitions.\n",
    "\n",
    "Please complete the function below to split the input dataset into three partitions(train, validation, test) with the following requirements.\n",
    "- Approximately 60%/20%/20%  train/validation/test split\n",
    "- Randomly sample different patients into each data partition\n",
    "- **IMPORTANT** Make sure that a patient's data is not in more than one partition, so that we can avoid possible data leakage.\n",
    "- Make sure that the total number of unique patients across the splits is equal to the total number of unique patients in the original dataset\n",
    "- Total number of rows in original dataset = sum of rows across all three dataset partitions"
   ]
  },
  {
   "cell_type": "code",
   "execution_count": 62,
   "metadata": {},
   "outputs": [],
   "source": [
    "from student_utils import patient_dataset_splitter\n",
    "d_train, d_val, d_test = patient_dataset_splitter(processed_df, 'patient_nbr')"
   ]
  },
  {
   "cell_type": "code",
   "execution_count": 63,
   "metadata": {},
   "outputs": [],
   "source": [
    "d_train, d_val, d_test = patient_dataset_splitter(processed_df, 'patient_nbr')"
   ]
  },
  {
   "cell_type": "code",
   "execution_count": 64,
   "metadata": {},
   "outputs": [
    {
     "name": "stdout",
     "output_type": "stream",
     "text": [
      "Test passed for number of total rows equal!\n"
     ]
    }
   ],
   "source": [
    "assert len(d_train) + len(d_val) + len(d_test) == len(processed_df)\n",
    "print(\"Test passed for number of total rows equal!\")"
   ]
  },
  {
   "cell_type": "code",
   "execution_count": 65,
   "metadata": {},
   "outputs": [],
   "source": [
    "#assert (d_train['patient_nbr'].nunique() + d_val['patient_nbr'].nunique() + d_test['patient_nbr'].nunique()) == agg_drug_df['patient_nbr'].nunique()\n",
    "#print(\"Test passed for number of unique patients being equal!\")"
   ]
  },
  {
   "cell_type": "code",
   "execution_count": 66,
   "metadata": {},
   "outputs": [
    {
     "data": {
      "text/plain": [
       "(87661, 45)"
      ]
     },
     "execution_count": 66,
     "metadata": {},
     "output_type": "execute_result"
    }
   ],
   "source": [
    "# Shape \n",
    "processed_df.shape"
   ]
  },
  {
   "cell_type": "code",
   "execution_count": 67,
   "metadata": {},
   "outputs": [
    {
     "name": "stdout",
     "output_type": "stream",
     "text": [
      "Train/Validation/Test number of records: 52596/17532/17533\n"
     ]
    }
   ],
   "source": [
    "print(f'Train/Validation/Test number of records: {len(d_train)}/{len(d_val)}/{len(d_test)}')"
   ]
  },
  {
   "cell_type": "markdown",
   "metadata": {},
   "source": [
    "###### Question 6  Student Responsse "
   ]
  },
  {
   "cell_type": "markdown",
   "metadata": {},
   "source": [
    "Data split between train/validation/test sets approx. 60%/20%/20% with number of records: 32562/10854/10855"
   ]
  },
  {
   "cell_type": "markdown",
   "metadata": {},
   "source": [
    "## Demographic Representation Analysis of Split"
   ]
  },
  {
   "cell_type": "markdown",
   "metadata": {},
   "source": [
    "After the split, we should check to see the distribution of key features/groups and make sure that there is representative samples across the partitions. The show_group_stats_viz function in the utils.py file can be used to group and visualize different groups and dataframe partitions."
   ]
  },
  {
   "cell_type": "markdown",
   "metadata": {},
   "source": [
    "### Label Distribution Across Partitions"
   ]
  },
  {
   "cell_type": "markdown",
   "metadata": {},
   "source": [
    "Below you can see the distributution of the label across your splits. Are the histogram distribution shapes similar across partitions?"
   ]
  },
  {
   "cell_type": "code",
   "execution_count": 68,
   "metadata": {},
   "outputs": [
    {
     "name": "stdout",
     "output_type": "stream",
     "text": [
      "time_in_hospital\n",
      "1.0     10810\n",
      "2.0     14087\n",
      "3.0     15437\n",
      "4.0     12225\n",
      "5.0      9041\n",
      "6.0      6692\n",
      "7.0      5288\n",
      "8.0      3992\n",
      "9.0      2790\n",
      "10.0     2062\n",
      "11.0     1735\n",
      "12.0     1364\n",
      "13.0     1189\n",
      "14.0      949\n",
      "dtype: int64\n",
      "AxesSubplot(0.125,0.125;0.775x0.755)\n"
     ]
    },
    {
     "data": {
      "image/png": "[encoded data removed]",
      "text/plain": [
       "<Figure size 432x288 with 1 Axes>"
      ]
     },
     "metadata": {
      "needs_background": "light"
     },
     "output_type": "display_data"
    }
   ],
   "source": [
    "show_group_stats_viz(processed_df, PREDICTOR_FIELD)"
   ]
  },
  {
   "cell_type": "code",
   "execution_count": 69,
   "metadata": {},
   "outputs": [
    {
     "name": "stdout",
     "output_type": "stream",
     "text": [
      "time_in_hospital\n",
      "1.0     6486\n",
      "2.0     8452\n",
      "3.0     9262\n",
      "4.0     7335\n",
      "5.0     5425\n",
      "6.0     4015\n",
      "7.0     3173\n",
      "8.0     2395\n",
      "9.0     1674\n",
      "10.0    1237\n",
      "11.0    1041\n",
      "12.0     818\n",
      "13.0     713\n",
      "14.0     570\n",
      "dtype: int64\n",
      "AxesSubplot(0.125,0.125;0.775x0.755)\n"
     ]
    },
    {
     "data": {
      "image/png": "[encoded data removed]",
      "text/plain": [
       "<Figure size 432x288 with 1 Axes>"
      ]
     },
     "metadata": {
      "needs_background": "light"
     },
     "output_type": "display_data"
    }
   ],
   "source": [
    "show_group_stats_viz(d_train, PREDICTOR_FIELD)"
   ]
  },
  {
   "cell_type": "code",
   "execution_count": 70,
   "metadata": {},
   "outputs": [
    {
     "name": "stdout",
     "output_type": "stream",
     "text": [
      "time_in_hospital\n",
      "1.0     2162\n",
      "2.0     2818\n",
      "3.0     3088\n",
      "4.0     2445\n",
      "5.0     1808\n",
      "6.0     1339\n",
      "7.0     1058\n",
      "8.0      798\n",
      "9.0      558\n",
      "10.0     412\n",
      "11.0     347\n",
      "12.0     273\n",
      "13.0     238\n",
      "14.0     189\n",
      "dtype: int64\n",
      "AxesSubplot(0.125,0.125;0.775x0.755)\n"
     ]
    },
    {
     "data": {
      "image/png": "[encoded data removed]",
      "text/plain": [
       "<Figure size 432x288 with 1 Axes>"
      ]
     },
     "metadata": {
      "needs_background": "light"
     },
     "output_type": "display_data"
    }
   ],
   "source": [
    "show_group_stats_viz(d_test, PREDICTOR_FIELD)"
   ]
  },
  {
   "cell_type": "markdown",
   "metadata": {},
   "source": [
    "## Demographic Group Analysis"
   ]
  },
  {
   "cell_type": "markdown",
   "metadata": {},
   "source": [
    "We should check that our partitions/splits of the dataset are similar in terms of their demographic profiles. Below you can see how we might visualize and analyze the full dataset vs. the partitions."
   ]
  },
  {
   "cell_type": "code",
   "execution_count": 71,
   "metadata": {},
   "outputs": [
    {
     "name": "stdout",
     "output_type": "stream",
     "text": [
      "gender\n",
      "Female    29582\n",
      "Male      26549\n",
      "dtype: int64\n",
      "AxesSubplot(0.125,0.125;0.775x0.755)\n"
     ]
    },
    {
     "data": {
      "image/png": "[encoded data removed]",
      "text/plain": [
       "<Figure size 432x288 with 1 Axes>"
      ]
     },
     "metadata": {
      "needs_background": "light"
     },
     "output_type": "display_data"
    }
   ],
   "source": [
    "# Full dataset before splitting\n",
    "patient_demo_features = ['race', 'gender', 'age', 'patient_nbr']\n",
    "patient_group_analysis_df = processed_df[patient_demo_features].groupby('patient_nbr').head(1).reset_index(drop=True)\n",
    "show_group_stats_viz(patient_group_analysis_df, 'gender')"
   ]
  },
  {
   "cell_type": "code",
   "execution_count": 72,
   "metadata": {},
   "outputs": [
    {
     "name": "stdout",
     "output_type": "stream",
     "text": [
      "gender\n",
      "Female    27397\n",
      "Male      25199\n",
      "dtype: int64\n",
      "AxesSubplot(0.125,0.125;0.775x0.755)\n"
     ]
    },
    {
     "data": {
      "image/png": "[encoded data removed]",
      "text/plain": [
       "<Figure size 432x288 with 1 Axes>"
      ]
     },
     "metadata": {
      "needs_background": "light"
     },
     "output_type": "display_data"
    }
   ],
   "source": [
    "# Training partition\n",
    "show_group_stats_viz(d_train, 'gender')"
   ]
  },
  {
   "cell_type": "code",
   "execution_count": 73,
   "metadata": {},
   "outputs": [
    {
     "name": "stdout",
     "output_type": "stream",
     "text": [
      "gender\n",
      "Female    9154\n",
      "Male      8379\n",
      "dtype: int64\n",
      "AxesSubplot(0.125,0.125;0.775x0.755)\n"
     ]
    },
    {
     "data": {
      "image/png": "[encoded data removed]",
      "text/plain": [
       "<Figure size 432x288 with 1 Axes>"
      ]
     },
     "metadata": {
      "needs_background": "light"
     },
     "output_type": "display_data"
    }
   ],
   "source": [
    "# Test partition\n",
    "show_group_stats_viz(d_test, 'gender')"
   ]
  },
  {
   "cell_type": "markdown",
   "metadata": {},
   "source": [
    "## Convert Dataset Splits to TF Dataset"
   ]
  },
  {
   "cell_type": "markdown",
   "metadata": {},
   "source": [
    "We have provided you the function to convert the Pandas dataframe to TF tensors using the TF Dataset API. \n",
    "Please note that this is not a scalable method and for larger datasets, the 'make_csv_dataset' method is recommended -https://www.tensorflow.org/api_docs/python/tf/data/experimental/make_csv_dataset."
   ]
  },
  {
   "cell_type": "code",
   "execution_count": 74,
   "metadata": {},
   "outputs": [
    {
     "name": "stderr",
     "output_type": "stream",
     "text": [
      "2022-01-19 23:03:16.733973: I tensorflow/core/platform/cpu_feature_guard.cc:151] This TensorFlow binary is optimized with oneAPI Deep Neural Network Library (oneDNN) to use the following CPU instructions in performance-critical operations:  AVX2 FMA\n",
      "To enable them in other operations, rebuild TensorFlow with the appropriate compiler flags.\n"
     ]
    }
   ],
   "source": [
    "# Convert dataset from Pandas dataframes to TF dataset \n",
    "batch_size = 128\n",
    "diabetes_train_ds = df_to_dataset(d_train, PREDICTOR_FIELD, batch_size=batch_size)\n",
    "diabetes_val_ds = df_to_dataset(d_val, PREDICTOR_FIELD, batch_size=batch_size)\n",
    "diabetes_test_ds = df_to_dataset(d_test, PREDICTOR_FIELD, batch_size=batch_size)"
   ]
  },
  {
   "cell_type": "code",
   "execution_count": 75,
   "metadata": {},
   "outputs": [],
   "source": [
    "# We use this sample of the dataset to show transformations later\n",
    "diabetes_batch = next(iter(diabetes_train_ds))[0]\n",
    "def demo(feature_column, example_batch):\n",
    "    feature_layer = layers.DenseFeatures(feature_column)\n",
    "    print(feature_layer(example_batch))"
   ]
  },
  {
   "cell_type": "markdown",
   "metadata": {},
   "source": [
    "# 4. Create Categorical Features with TF Feature Columns"
   ]
  },
  {
   "cell_type": "markdown",
   "metadata": {},
   "source": [
    "## Build Vocabulary for Categorical Features"
   ]
  },
  {
   "cell_type": "markdown",
   "metadata": {},
   "source": [
    "Before we can create the TF categorical features, we must first create the vocab files with the unique values for a given field that are from the **training** dataset. Below we have provided a function that you can use that only requires providing the pandas train dataset partition and the list of the categorical columns in a list format. The output variable 'vocab_file_list' will be a list of the file paths that can be used in the next step for creating the categorical features."
   ]
  },
  {
   "cell_type": "code",
   "execution_count": 77,
   "metadata": {},
   "outputs": [
    {
     "data": {
      "text/plain": [
       "['primary_diagnosis_code',\n",
       " 'other_diagnosis_codes',\n",
       " 'race',\n",
       " 'gender',\n",
       " 'age',\n",
       " 'Acarbose',\n",
       " 'Afrezza',\n",
       " 'Amaryl',\n",
       " 'Avandia_2MG',\n",
       " 'Avandia_4MG',\n",
       " 'Duetact',\n",
       " 'Glimepiride',\n",
       " 'Glipizide',\n",
       " 'Glipizide_And_Metformin_Hcl',\n",
       " 'Glipizide_And_Metformin_Hydrochloride',\n",
       " 'Glucophage',\n",
       " 'Glucophage_XR',\n",
       " 'Glucotrol',\n",
       " 'Glucotrol_XL',\n",
       " 'Glyburide',\n",
       " 'Glyburide_And_Metformin_Hydrochloride',\n",
       " 'Glyburide-metformin_Hydrochloride',\n",
       " 'Glynase',\n",
       " 'Glyset',\n",
       " 'Humulin_R',\n",
       " 'Metformin_Hcl',\n",
       " 'Metformin_Hydrochloride',\n",
       " 'Metformin_Hydrochloride_Extended_Release',\n",
       " 'Miglitol',\n",
       " 'Nateglinide',\n",
       " 'Novolin_R',\n",
       " 'Pioglitazole_And_Metformin_Hydrochloride',\n",
       " 'Pioglitazone',\n",
       " 'Pioglitazone_Hydrochloride_And_Glimepiride',\n",
       " 'Prandin',\n",
       " 'Repaglinide',\n",
       " 'Riomet',\n",
       " 'Riomet_Er',\n",
       " 'Starlix',\n",
       " 'Tolazamide',\n",
       " 'Tolbutamide']"
      ]
     },
     "execution_count": 77,
     "metadata": {},
     "output_type": "execute_result"
    }
   ],
   "source": [
    "student_categorical_col_list"
   ]
  },
  {
   "cell_type": "code",
   "execution_count": 78,
   "metadata": {},
   "outputs": [],
   "source": [
    "import os\n",
    "os.mkdir('./diabetes_vocab/')"
   ]
  },
  {
   "cell_type": "code",
   "execution_count": 79,
   "metadata": {},
   "outputs": [],
   "source": [
    "vocab_file_list = build_vocab_files(d_train, student_categorical_col_list)"
   ]
  },
  {
   "cell_type": "markdown",
   "metadata": {},
   "source": [
    "## Create Categorical Features with Tensorflow Feature Column API"
   ]
  },
  {
   "cell_type": "markdown",
   "metadata": {},
   "source": [
    "**Question 7**: Using the vocab file list from above that was derived fromt the features you selected earlier, please create categorical features with the Tensorflow Feature Column API, https://www.tensorflow.org/api_docs/python/tf/feature_column. Below is a function to help guide you."
   ]
  },
  {
   "cell_type": "code",
   "execution_count": 80,
   "metadata": {},
   "outputs": [
    {
     "name": "stdout",
     "output_type": "stream",
     "text": [
      "INFO:tensorflow:vocabulary_size = 624 in primary_diagnosis_code is inferred from the number of elements in the vocabulary_file ./diabetes_vocab/primary_diagnosis_code_vocab.txt.\n",
      "### primary_diagnosis_code: #lines: 624, embedding (categorical)\n",
      "INFO:tensorflow:vocabulary_size = 10825 in other_diagnosis_codes is inferred from the number of elements in the vocabulary_file ./diabetes_vocab/other_diagnosis_codes_vocab.txt.\n",
      "### other_diagnosis_codes: #lines: 10825, embedding (categorical)\n",
      "INFO:tensorflow:vocabulary_size = 7 in race is inferred from the number of elements in the vocabulary_file ./diabetes_vocab/race_vocab.txt.\n",
      "### race: #lines: 7, indicator (categorical)\n",
      "INFO:tensorflow:vocabulary_size = 3 in gender is inferred from the number of elements in the vocabulary_file ./diabetes_vocab/gender_vocab.txt.\n",
      "### gender: #lines: 3, indicator (categorical)\n",
      "INFO:tensorflow:vocabulary_size = 11 in age is inferred from the number of elements in the vocabulary_file ./diabetes_vocab/age_vocab.txt.\n",
      "### age: #lines: 11, embedding (categorical)\n",
      "INFO:tensorflow:vocabulary_size = 3 in Acarbose is inferred from the number of elements in the vocabulary_file ./diabetes_vocab/Acarbose_vocab.txt.\n",
      "### Acarbose: #lines: 3, indicator (categorical)\n",
      "INFO:tensorflow:vocabulary_size = 3 in Afrezza is inferred from the number of elements in the vocabulary_file ./diabetes_vocab/Afrezza_vocab.txt.\n",
      "### Afrezza: #lines: 3, indicator (categorical)\n",
      "INFO:tensorflow:vocabulary_size = 3 in Amaryl is inferred from the number of elements in the vocabulary_file ./diabetes_vocab/Amaryl_vocab.txt.\n",
      "### Amaryl: #lines: 3, indicator (categorical)\n",
      "INFO:tensorflow:vocabulary_size = 3 in Avandia_2MG is inferred from the number of elements in the vocabulary_file ./diabetes_vocab/Avandia_2MG_vocab.txt.\n",
      "### Avandia_2MG: #lines: 3, indicator (categorical)\n",
      "INFO:tensorflow:vocabulary_size = 3 in Avandia_4MG is inferred from the number of elements in the vocabulary_file ./diabetes_vocab/Avandia_4MG_vocab.txt.\n",
      "### Avandia_4MG: #lines: 3, indicator (categorical)\n",
      "INFO:tensorflow:vocabulary_size = 2 in Duetact is inferred from the number of elements in the vocabulary_file ./diabetes_vocab/Duetact_vocab.txt.\n",
      "### Duetact: #lines: 2, indicator (categorical)\n",
      "INFO:tensorflow:vocabulary_size = 3 in Glimepiride is inferred from the number of elements in the vocabulary_file ./diabetes_vocab/Glimepiride_vocab.txt.\n",
      "### Glimepiride: #lines: 3, indicator (categorical)\n",
      "INFO:tensorflow:vocabulary_size = 3 in Glipizide is inferred from the number of elements in the vocabulary_file ./diabetes_vocab/Glipizide_vocab.txt.\n",
      "### Glipizide: #lines: 3, indicator (categorical)\n",
      "INFO:tensorflow:vocabulary_size = 2 in Glipizide_And_Metformin_Hcl is inferred from the number of elements in the vocabulary_file ./diabetes_vocab/Glipizide_And_Metformin_Hcl_vocab.txt.\n",
      "### Glipizide_And_Metformin_Hcl: #lines: 2, indicator (categorical)\n",
      "INFO:tensorflow:vocabulary_size = 3 in Glipizide_And_Metformin_Hydrochloride is inferred from the number of elements in the vocabulary_file ./diabetes_vocab/Glipizide_And_Metformin_Hydrochloride_vocab.txt.\n",
      "### Glipizide_And_Metformin_Hydrochloride: #lines: 3, indicator (categorical)\n",
      "INFO:tensorflow:vocabulary_size = 3 in Glucophage is inferred from the number of elements in the vocabulary_file ./diabetes_vocab/Glucophage_vocab.txt.\n",
      "### Glucophage: #lines: 3, indicator (categorical)\n",
      "INFO:tensorflow:vocabulary_size = 3 in Glucophage_XR is inferred from the number of elements in the vocabulary_file ./diabetes_vocab/Glucophage_XR_vocab.txt.\n",
      "### Glucophage_XR: #lines: 3, indicator (categorical)\n",
      "INFO:tensorflow:vocabulary_size = 3 in Glucotrol is inferred from the number of elements in the vocabulary_file ./diabetes_vocab/Glucotrol_vocab.txt.\n",
      "### Glucotrol: #lines: 3, indicator (categorical)\n",
      "INFO:tensorflow:vocabulary_size = 3 in Glucotrol_XL is inferred from the number of elements in the vocabulary_file ./diabetes_vocab/Glucotrol_XL_vocab.txt.\n",
      "### Glucotrol_XL: #lines: 3, indicator (categorical)\n",
      "INFO:tensorflow:vocabulary_size = 3 in Glyburide is inferred from the number of elements in the vocabulary_file ./diabetes_vocab/Glyburide_vocab.txt.\n",
      "### Glyburide: #lines: 3, indicator (categorical)\n",
      "INFO:tensorflow:vocabulary_size = 3 in Glyburide_And_Metformin_Hydrochloride is inferred from the number of elements in the vocabulary_file ./diabetes_vocab/Glyburide_And_Metformin_Hydrochloride_vocab.txt.\n",
      "### Glyburide_And_Metformin_Hydrochloride: #lines: 3, indicator (categorical)\n",
      "INFO:tensorflow:vocabulary_size = 3 in Glyburide-metformin_Hydrochloride is inferred from the number of elements in the vocabulary_file ./diabetes_vocab/Glyburide-metformin_Hydrochloride_vocab.txt.\n",
      "### Glyburide-metformin_Hydrochloride: #lines: 3, indicator (categorical)\n",
      "INFO:tensorflow:vocabulary_size = 3 in Glynase is inferred from the number of elements in the vocabulary_file ./diabetes_vocab/Glynase_vocab.txt.\n",
      "### Glynase: #lines: 3, indicator (categorical)\n",
      "INFO:tensorflow:vocabulary_size = 3 in Glyset is inferred from the number of elements in the vocabulary_file ./diabetes_vocab/Glyset_vocab.txt.\n",
      "### Glyset: #lines: 3, indicator (categorical)\n",
      "INFO:tensorflow:vocabulary_size = 3 in Humulin_R is inferred from the number of elements in the vocabulary_file ./diabetes_vocab/Humulin_R_vocab.txt.\n",
      "### Humulin_R: #lines: 3, indicator (categorical)\n",
      "INFO:tensorflow:vocabulary_size = 3 in Metformin_Hcl is inferred from the number of elements in the vocabulary_file ./diabetes_vocab/Metformin_Hcl_vocab.txt.\n",
      "### Metformin_Hcl: #lines: 3, indicator (categorical)\n",
      "INFO:tensorflow:vocabulary_size = 3 in Metformin_Hydrochloride is inferred from the number of elements in the vocabulary_file ./diabetes_vocab/Metformin_Hydrochloride_vocab.txt.\n",
      "### Metformin_Hydrochloride: #lines: 3, indicator (categorical)\n",
      "INFO:tensorflow:vocabulary_size = 3 in Metformin_Hydrochloride_Extended_Release is inferred from the number of elements in the vocabulary_file ./diabetes_vocab/Metformin_Hydrochloride_Extended_Release_vocab.txt.\n",
      "### Metformin_Hydrochloride_Extended_Release: #lines: 3, indicator (categorical)\n",
      "INFO:tensorflow:vocabulary_size = 3 in Miglitol is inferred from the number of elements in the vocabulary_file ./diabetes_vocab/Miglitol_vocab.txt.\n",
      "### Miglitol: #lines: 3, indicator (categorical)\n",
      "INFO:tensorflow:vocabulary_size = 3 in Nateglinide is inferred from the number of elements in the vocabulary_file ./diabetes_vocab/Nateglinide_vocab.txt.\n",
      "### Nateglinide: #lines: 3, indicator (categorical)\n",
      "INFO:tensorflow:vocabulary_size = 3 in Novolin_R is inferred from the number of elements in the vocabulary_file ./diabetes_vocab/Novolin_R_vocab.txt.\n",
      "### Novolin_R: #lines: 3, indicator (categorical)\n",
      "INFO:tensorflow:vocabulary_size = 2 in Pioglitazole_And_Metformin_Hydrochloride is inferred from the number of elements in the vocabulary_file ./diabetes_vocab/Pioglitazole_And_Metformin_Hydrochloride_vocab.txt.\n",
      "### Pioglitazole_And_Metformin_Hydrochloride: #lines: 2, indicator (categorical)\n",
      "INFO:tensorflow:vocabulary_size = 3 in Pioglitazone is inferred from the number of elements in the vocabulary_file ./diabetes_vocab/Pioglitazone_vocab.txt.\n",
      "### Pioglitazone: #lines: 3, indicator (categorical)\n",
      "INFO:tensorflow:vocabulary_size = 3 in Pioglitazone_Hydrochloride_And_Glimepiride is inferred from the number of elements in the vocabulary_file ./diabetes_vocab/Pioglitazone_Hydrochloride_And_Glimepiride_vocab.txt.\n",
      "### Pioglitazone_Hydrochloride_And_Glimepiride: #lines: 3, indicator (categorical)\n",
      "INFO:tensorflow:vocabulary_size = 3 in Prandin is inferred from the number of elements in the vocabulary_file ./diabetes_vocab/Prandin_vocab.txt.\n",
      "### Prandin: #lines: 3, indicator (categorical)\n",
      "INFO:tensorflow:vocabulary_size = 3 in Repaglinide is inferred from the number of elements in the vocabulary_file ./diabetes_vocab/Repaglinide_vocab.txt.\n",
      "### Repaglinide: #lines: 3, indicator (categorical)\n",
      "INFO:tensorflow:vocabulary_size = 3 in Riomet is inferred from the number of elements in the vocabulary_file ./diabetes_vocab/Riomet_vocab.txt.\n",
      "### Riomet: #lines: 3, indicator (categorical)\n",
      "INFO:tensorflow:vocabulary_size = 3 in Riomet_Er is inferred from the number of elements in the vocabulary_file ./diabetes_vocab/Riomet_Er_vocab.txt.\n",
      "### Riomet_Er: #lines: 3, indicator (categorical)\n",
      "INFO:tensorflow:vocabulary_size = 3 in Starlix is inferred from the number of elements in the vocabulary_file ./diabetes_vocab/Starlix_vocab.txt.\n",
      "### Starlix: #lines: 3, indicator (categorical)\n",
      "INFO:tensorflow:vocabulary_size = 3 in Tolazamide is inferred from the number of elements in the vocabulary_file ./diabetes_vocab/Tolazamide_vocab.txt.\n",
      "### Tolazamide: #lines: 3, indicator (categorical)\n",
      "INFO:tensorflow:vocabulary_size = 3 in Tolbutamide is inferred from the number of elements in the vocabulary_file ./diabetes_vocab/Tolbutamide_vocab.txt.\n",
      "### Tolbutamide: #lines: 3, indicator (categorical)\n"
     ]
    }
   ],
   "source": [
    "from student_utils import create_tf_categorical_feature_cols\n",
    "tf_cat_col_list = create_tf_categorical_feature_cols(student_categorical_col_list)"
   ]
  },
  {
   "cell_type": "code",
   "execution_count": 81,
   "metadata": {},
   "outputs": [
    {
     "name": "stdout",
     "output_type": "stream",
     "text": [
      "Example categorical field:\n",
      "EmbeddingColumn(categorical_column=VocabularyFileCategoricalColumn(key='primary_diagnosis_code', vocabulary_file='./diabetes_vocab/primary_diagnosis_code_vocab.txt', vocabulary_size=624, num_oov_buckets=0, dtype=tf.string, default_value=-1, file_format=None), dimension=10, combiner='mean', initializer=<tensorflow.python.ops.init_ops.TruncatedNormal object at 0x7feb7bdfdb10>, ckpt_to_load_from=None, tensor_name_in_ckpt=None, max_norm=None, trainable=True, use_safe_embedding_lookup=True)\n",
      "tf.Tensor(\n",
      "[[-0.18609793  0.09344763  0.26022696 ...  0.00946887  0.42783067\n",
      "   0.39223874]\n",
      " [-0.40081617 -0.27465406 -0.06644782 ... -0.24886116 -0.20356473\n",
      "  -0.31869644]\n",
      " [-0.15122741  0.18784085 -0.17445071 ... -0.23338896  0.13905936\n",
      "   0.22481908]\n",
      " ...\n",
      " [ 0.17402923  0.62673634 -0.14773145 ...  0.38522857  0.1365184\n",
      "   0.36644533]\n",
      " [-0.3878012   0.2903506  -0.22099939 ... -0.24306452 -0.42289725\n",
      "  -0.12535359]\n",
      " [ 0.04962659  0.10020849  0.41910478 ... -0.16557628  0.25266498\n",
      "  -0.21515428]], shape=(128, 10), dtype=float32)\n"
     ]
    }
   ],
   "source": [
    "test_cat_var1 = tf_cat_col_list[0]\n",
    "print(\"Example categorical field:\\n{}\".format(test_cat_var1))\n",
    "demo(test_cat_var1, diabetes_batch)"
   ]
  },
  {
   "cell_type": "markdown",
   "metadata": {},
   "source": [
    "# 5. Create Numerical Features with TF Feature Columns"
   ]
  },
  {
   "cell_type": "markdown",
   "metadata": {},
   "source": [
    "**Question 8**: Using the TF Feature Column API(https://www.tensorflow.org/api_docs/python/tf/feature_column/), please create normalized Tensorflow numeric features for the model. Try to use the z-score normalizer function below to help as well as the 'calculate_stats_from_train_data' function."
   ]
  },
  {
   "cell_type": "code",
   "execution_count": 83,
   "metadata": {},
   "outputs": [],
   "source": [
    "from student_utils import create_tf_numeric_feature"
   ]
  },
  {
   "cell_type": "markdown",
   "metadata": {},
   "source": [
    "For simplicity the create_tf_numerical_feature_cols function below uses the same normalizer function across all features(z-score normalization) but if you have time feel free to analyze and adapt the normalizer based off the statistical distributions. You may find this as a good resource in determining which transformation fits best for the data https://developers.google.com/machine-learning/data-prep/transform/normalization.\n"
   ]
  },
  {
   "cell_type": "code",
   "execution_count": 84,
   "metadata": {},
   "outputs": [],
   "source": [
    "def calculate_stats_from_train_data(df, col):\n",
    "    mean = df[col].describe()['mean']\n",
    "    std = df[col].describe()['std']\n",
    "    return mean, std\n",
    "\n",
    "def create_tf_numerical_feature_cols(numerical_col_list, train_df):\n",
    "    tf_numeric_col_list = []\n",
    "    for c in numerical_col_list:\n",
    "        mean, std = calculate_stats_from_train_data(train_df, c)\n",
    "        tf_numeric_feature = create_tf_numeric_feature(c, mean, std)\n",
    "        tf_numeric_col_list.append(tf_numeric_feature)\n",
    "    return tf_numeric_col_list"
   ]
  },
  {
   "cell_type": "code",
   "execution_count": 85,
   "metadata": {},
   "outputs": [
    {
     "name": "stdout",
     "output_type": "stream",
     "text": [
      "### num_lab_procedures: #mean/std: 43.92077344284736/19.912697021502293, numeric (normalized)\n",
      "### num_medications: #mean/std: 17.434443683930336/8.758340407901409, numeric (normalized)\n"
     ]
    }
   ],
   "source": [
    "tf_cont_col_list = create_tf_numerical_feature_cols(student_numerical_col_list, d_train)"
   ]
  },
  {
   "cell_type": "code",
   "execution_count": 86,
   "metadata": {},
   "outputs": [
    {
     "name": "stdout",
     "output_type": "stream",
     "text": [
      "Example continuous field:\n",
      "NumericColumn(key='num_lab_procedures', shape=(1,), default_value=(0,), dtype=tf.float64, normalizer_fn=functools.partial(<function normalize_numeric_with_zscore at 0x7febdcd32710>, mean=43.92077344284736, std=19.912697021502293))\n",
      "\n",
      "tf.Tensor(\n",
      "[[-1.7894737 ]\n",
      " [ 0.        ]\n",
      " [ 0.57894737]\n",
      " [-0.57894737]\n",
      " [ 0.36842105]\n",
      " [ 1.6315789 ]\n",
      " [ 0.2631579 ]\n",
      " [-0.47368422]\n",
      " [-0.2631579 ]\n",
      " [-2.1578948 ]\n",
      " [ 0.68421054]\n",
      " [ 0.47368422]\n",
      " [-2.2105262 ]\n",
      " [-0.21052632]\n",
      " [ 0.2631579 ]\n",
      " [ 0.05263158]\n",
      " [-0.05263158]\n",
      " [-0.15789473]\n",
      " [ 0.15789473]\n",
      " [-0.2631579 ]\n",
      " [ 0.68421054]\n",
      " [ 1.0526316 ]\n",
      " [ 0.84210527]\n",
      " [-0.47368422]\n",
      " [-0.94736844]\n",
      " [ 0.7894737 ]\n",
      " [-0.8947368 ]\n",
      " [ 1.2105263 ]\n",
      " [ 0.8947368 ]\n",
      " [ 1.4210526 ]\n",
      " [-2.2105262 ]\n",
      " [ 2.2105262 ]\n",
      " [-2.2105262 ]\n",
      " [ 0.36842105]\n",
      " [-1.1052631 ]\n",
      " [-2.1578948 ]\n",
      " [ 0.6315789 ]\n",
      " [-0.94736844]\n",
      " [ 1.2105263 ]\n",
      " [ 1.5263158 ]\n",
      " [-0.47368422]\n",
      " [ 0.84210527]\n",
      " [ 1.0526316 ]\n",
      " [ 1.1578947 ]\n",
      " [ 0.05263158]\n",
      " [-0.05263158]\n",
      " [ 1.9473684 ]\n",
      " [ 0.05263158]\n",
      " [-0.15789473]\n",
      " [-0.10526316]\n",
      " [ 1.1578947 ]\n",
      " [ 0.15789473]\n",
      " [ 1.5263158 ]\n",
      " [-2.2105262 ]\n",
      " [ 1.1052631 ]\n",
      " [-2.2105262 ]\n",
      " [ 0.8947368 ]\n",
      " [ 0.        ]\n",
      " [ 0.68421054]\n",
      " [ 0.47368422]\n",
      " [ 0.15789473]\n",
      " [ 1.4736842 ]\n",
      " [ 0.47368422]\n",
      " [ 1.5263158 ]\n",
      " [ 1.0526316 ]\n",
      " [ 0.6315789 ]\n",
      " [-1.1578947 ]\n",
      " [ 0.68421054]\n",
      " [-1.2631578 ]\n",
      " [ 1.7368422 ]\n",
      " [-2.2105262 ]\n",
      " [-1.9473684 ]\n",
      " [-0.15789473]\n",
      " [ 0.94736844]\n",
      " [ 0.5263158 ]\n",
      " [ 1.6842105 ]\n",
      " [ 1.4736842 ]\n",
      " [ 1.4210526 ]\n",
      " [ 0.31578946]\n",
      " [ 0.        ]\n",
      " [-0.68421054]\n",
      " [-0.05263158]\n",
      " [ 0.05263158]\n",
      " [ 1.2631578 ]\n",
      " [ 0.05263158]\n",
      " [ 1.2105263 ]\n",
      " [-2.2105262 ]\n",
      " [-2.2105262 ]\n",
      " [-0.36842105]\n",
      " [ 1.6315789 ]\n",
      " [ 0.42105263]\n",
      " [ 1.1052631 ]\n",
      " [-0.6315789 ]\n",
      " [-0.42105263]\n",
      " [-1.7894737 ]\n",
      " [-0.8947368 ]\n",
      " [ 1.1578947 ]\n",
      " [ 0.7894737 ]\n",
      " [-0.10526316]\n",
      " [ 0.7894737 ]\n",
      " [ 0.05263158]\n",
      " [ 1.8421053 ]\n",
      " [ 0.6315789 ]\n",
      " [-0.31578946]\n",
      " [ 0.        ]\n",
      " [ 0.57894737]\n",
      " [ 0.05263158]\n",
      " [ 0.8947368 ]\n",
      " [-1.        ]\n",
      " [ 1.6842105 ]\n",
      " [-0.7894737 ]\n",
      " [-0.47368422]\n",
      " [-0.94736844]\n",
      " [-1.8421053 ]\n",
      " [ 2.5263157 ]\n",
      " [-0.21052632]\n",
      " [-0.21052632]\n",
      " [-0.7368421 ]\n",
      " [-0.42105263]\n",
      " [-0.6315789 ]\n",
      " [-1.3157895 ]\n",
      " [-0.31578946]\n",
      " [ 0.        ]\n",
      " [-1.0526316 ]\n",
      " [ 0.42105263]\n",
      " [ 0.5263158 ]\n",
      " [-0.42105263]\n",
      " [ 1.4736842 ]], shape=(128, 1), dtype=float32)\n"
     ]
    }
   ],
   "source": [
    "test_cont_var1 = tf_cont_col_list[0]\n",
    "print(\"Example continuous field:\\n{}\\n\".format(test_cont_var1))\n",
    "demo(test_cont_var1, diabetes_batch)"
   ]
  },
  {
   "cell_type": "markdown",
   "metadata": {},
   "source": [
    "###### Question 8 Student Reponse : "
   ]
  },
  {
   "cell_type": "markdown",
   "metadata": {},
   "source": [
    "Numeric Features created, using 'normalize_numeric_with_zscore' function:"
   ]
  },
  {
   "cell_type": "markdown",
   "metadata": {},
   "source": [
    "- num_lab_procedures\n",
    "- num_medications"
   ]
  },
  {
   "cell_type": "markdown",
   "metadata": {},
   "source": [
    "# 6. Build Deep Learning Regression Model with Sequential API and TF Probability Layers"
   ]
  },
  {
   "cell_type": "markdown",
   "metadata": {},
   "source": [
    "## Use DenseFeatures to combine features for model"
   ]
  },
  {
   "cell_type": "markdown",
   "metadata": {},
   "source": [
    "Now that we have prepared categorical and numerical features using Tensorflow's Feature Column API, we can combine them into a dense vector representation for the model. Below we will create this new input layer, which we will call 'claim_feature_layer'."
   ]
  },
  {
   "cell_type": "code",
   "execution_count": 87,
   "metadata": {},
   "outputs": [],
   "source": [
    "claim_feature_columns = tf_cat_col_list + tf_cont_col_list\n",
    "claim_feature_layer = tf.keras.layers.DenseFeatures(claim_feature_columns)"
   ]
  },
  {
   "cell_type": "markdown",
   "metadata": {},
   "source": [
    "## Build Sequential API Model from DenseFeatures and TF Probability Layers"
   ]
  },
  {
   "cell_type": "markdown",
   "metadata": {},
   "source": [
    "Below we have provided some boilerplate code for building a model that connects the Sequential API, DenseFeatures, and Tensorflow Probability layers into a deep learning model. There are many opportunities to further optimize and explore different architectures through benchmarking and testing approaches in various research papers, loss and evaluation metrics, learning curves, hyperparameter tuning, TF probability layers, etc. Feel free to modify and explore as you wish."
   ]
  },
  {
   "cell_type": "markdown",
   "metadata": {},
   "source": [
    "**OPTIONAL**: Come up with a more optimal neural network architecture and hyperparameters. Share the process in discovering the architecture and hyperparameters."
   ]
  },
  {
   "cell_type": "code",
   "execution_count": 88,
   "metadata": {},
   "outputs": [],
   "source": [
    "def build_sequential_model(feature_layer):\n",
    "    model = tf.keras.Sequential([\n",
    "        feature_layer,\n",
    "        tf.keras.layers.Dense(150, activation='relu'),\n",
    "        tf.keras.layers.Dense(75, activation='relu'),\n",
    "        tfp.layers.DenseVariational(1+1, posterior_mean_field, prior_trainable),\n",
    "        tfp.layers.DistributionLambda(\n",
    "            lambda t:tfp.distributions.Normal(loc=t[..., :1],\n",
    "                                             scale=1e-3 + tf.math.softplus(0.01 * t[...,1:])\n",
    "                                             )\n",
    "        ),\n",
    "    ])\n",
    "    return model\n",
    "\n",
    "def build_diabetes_model(train_ds, val_ds,  feature_layer,  epochs=5, loss_metric='mse'):\n",
    "    model = build_sequential_model(feature_layer)\n",
    "    model.compile(optimizer='rmsprop', loss=loss_metric, metrics=[loss_metric])\n",
    "    early_stop = tf.keras.callbacks.EarlyStopping(monitor=loss_metric, patience=3)     \n",
    "    history = model.fit(train_ds, validation_data=val_ds,\n",
    "                        callbacks=[early_stop],\n",
    "                        epochs=epochs)\n",
    "    return model, history "
   ]
  },
  {
   "cell_type": "code",
   "execution_count": 89,
   "metadata": {},
   "outputs": [
    {
     "name": "stdout",
     "output_type": "stream",
     "text": [
      "Epoch 1/10\n",
      "WARNING:tensorflow:Layers in a Sequential model should only have a single input tensor, but we receive a <class 'dict'> input: {'patient_nbr': <tf.Tensor 'IteratorGetNext:41' shape=(None,) dtype=int64>, 'primary_diagnosis_code': <tf.Tensor 'IteratorGetNext:42' shape=(None,) dtype=string>, 'other_diagnosis_codes': <tf.Tensor 'IteratorGetNext:40' shape=(None,) dtype=string>, 'race': <tf.Tensor 'IteratorGetNext:43' shape=(None,) dtype=string>, 'gender': <tf.Tensor 'IteratorGetNext:37' shape=(None,) dtype=string>, 'age': <tf.Tensor 'IteratorGetNext:36' shape=(None,) dtype=string>, 'Acarbose': <tf.Tensor 'IteratorGetNext:0' shape=(None,) dtype=string>, 'Afrezza': <tf.Tensor 'IteratorGetNext:1' shape=(None,) dtype=string>, 'Amaryl': <tf.Tensor 'IteratorGetNext:2' shape=(None,) dtype=string>, 'Avandia_2MG': <tf.Tensor 'IteratorGetNext:3' shape=(None,) dtype=string>, 'Avandia_4MG': <tf.Tensor 'IteratorGetNext:4' shape=(None,) dtype=string>, 'Duetact': <tf.Tensor 'IteratorGetNext:5' shape=(None,) dtype=string>, 'Glimepiride': <tf.Tensor 'IteratorGetNext:6' shape=(None,) dtype=string>, 'Glipizide': <tf.Tensor 'IteratorGetNext:7' shape=(None,) dtype=string>, 'Glipizide_And_Metformin_Hcl': <tf.Tensor 'IteratorGetNext:8' shape=(None,) dtype=string>, 'Glipizide_And_Metformin_Hydrochloride': <tf.Tensor 'IteratorGetNext:9' shape=(None,) dtype=string>, 'Glucophage': <tf.Tensor 'IteratorGetNext:10' shape=(None,) dtype=string>, 'Glucophage_XR': <tf.Tensor 'IteratorGetNext:11' shape=(None,) dtype=string>, 'Glucotrol': <tf.Tensor 'IteratorGetNext:12' shape=(None,) dtype=string>, 'Glucotrol_XL': <tf.Tensor 'IteratorGetNext:13' shape=(None,) dtype=string>, 'Glyburide': <tf.Tensor 'IteratorGetNext:14' shape=(None,) dtype=string>, 'Glyburide_And_Metformin_Hydrochloride': <tf.Tensor 'IteratorGetNext:16' shape=(None,) dtype=string>, 'Glyburide-metformin_Hydrochloride': <tf.Tensor 'IteratorGetNext:15' shape=(None,) dtype=string>, 'Glynase': <tf.Tensor 'IteratorGetNext:17' shape=(None,) dtype=string>, 'Glyset': <tf.Tensor 'IteratorGetNext:18' shape=(None,) dtype=string>, 'Humulin_R': <tf.Tensor 'IteratorGetNext:19' shape=(None,) dtype=string>, 'Metformin_Hcl': <tf.Tensor 'IteratorGetNext:20' shape=(None,) dtype=string>, 'Metformin_Hydrochloride': <tf.Tensor 'IteratorGetNext:21' shape=(None,) dtype=string>, 'Metformin_Hydrochloride_Extended_Release': <tf.Tensor 'IteratorGetNext:22' shape=(None,) dtype=string>, 'Miglitol': <tf.Tensor 'IteratorGetNext:23' shape=(None,) dtype=string>, 'Nateglinide': <tf.Tensor 'IteratorGetNext:24' shape=(None,) dtype=string>, 'Novolin_R': <tf.Tensor 'IteratorGetNext:25' shape=(None,) dtype=string>, 'Pioglitazole_And_Metformin_Hydrochloride': <tf.Tensor 'IteratorGetNext:26' shape=(None,) dtype=string>, 'Pioglitazone': <tf.Tensor 'IteratorGetNext:27' shape=(None,) dtype=string>, 'Pioglitazone_Hydrochloride_And_Glimepiride': <tf.Tensor 'IteratorGetNext:28' shape=(None,) dtype=string>, 'Prandin': <tf.Tensor 'IteratorGetNext:29' shape=(None,) dtype=string>, 'Repaglinide': <tf.Tensor 'IteratorGetNext:30' shape=(None,) dtype=string>, 'Riomet': <tf.Tensor 'IteratorGetNext:31' shape=(None,) dtype=string>, 'Riomet_Er': <tf.Tensor 'IteratorGetNext:32' shape=(None,) dtype=string>, 'Starlix': <tf.Tensor 'IteratorGetNext:33' shape=(None,) dtype=string>, 'Tolazamide': <tf.Tensor 'IteratorGetNext:34' shape=(None,) dtype=string>, 'Tolbutamide': <tf.Tensor 'IteratorGetNext:35' shape=(None,) dtype=string>, 'num_lab_procedures': <tf.Tensor 'IteratorGetNext:38' shape=(None,) dtype=int64>, 'num_medications': <tf.Tensor 'IteratorGetNext:39' shape=(None,) dtype=int64>}\n",
      "Consider rewriting this model with the Functional API.\n"
     ]
    },
    {
     "name": "stderr",
     "output_type": "stream",
     "text": [
      "2022-01-19 23:51:22.318569: W tensorflow/python/util/util.cc:368] Sets are not currently considered sequences, but this may change in the future, so consider avoiding using them.\n"
     ]
    },
    {
     "name": "stdout",
     "output_type": "stream",
     "text": [
      "WARNING:tensorflow:Layers in a Sequential model should only have a single input tensor, but we receive a <class 'dict'> input: {'patient_nbr': <tf.Tensor 'IteratorGetNext:41' shape=(None,) dtype=int64>, 'primary_diagnosis_code': <tf.Tensor 'IteratorGetNext:42' shape=(None,) dtype=string>, 'other_diagnosis_codes': <tf.Tensor 'IteratorGetNext:40' shape=(None,) dtype=string>, 'race': <tf.Tensor 'IteratorGetNext:43' shape=(None,) dtype=string>, 'gender': <tf.Tensor 'IteratorGetNext:37' shape=(None,) dtype=string>, 'age': <tf.Tensor 'IteratorGetNext:36' shape=(None,) dtype=string>, 'Acarbose': <tf.Tensor 'IteratorGetNext:0' shape=(None,) dtype=string>, 'Afrezza': <tf.Tensor 'IteratorGetNext:1' shape=(None,) dtype=string>, 'Amaryl': <tf.Tensor 'IteratorGetNext:2' shape=(None,) dtype=string>, 'Avandia_2MG': <tf.Tensor 'IteratorGetNext:3' shape=(None,) dtype=string>, 'Avandia_4MG': <tf.Tensor 'IteratorGetNext:4' shape=(None,) dtype=string>, 'Duetact': <tf.Tensor 'IteratorGetNext:5' shape=(None,) dtype=string>, 'Glimepiride': <tf.Tensor 'IteratorGetNext:6' shape=(None,) dtype=string>, 'Glipizide': <tf.Tensor 'IteratorGetNext:7' shape=(None,) dtype=string>, 'Glipizide_And_Metformin_Hcl': <tf.Tensor 'IteratorGetNext:8' shape=(None,) dtype=string>, 'Glipizide_And_Metformin_Hydrochloride': <tf.Tensor 'IteratorGetNext:9' shape=(None,) dtype=string>, 'Glucophage': <tf.Tensor 'IteratorGetNext:10' shape=(None,) dtype=string>, 'Glucophage_XR': <tf.Tensor 'IteratorGetNext:11' shape=(None,) dtype=string>, 'Glucotrol': <tf.Tensor 'IteratorGetNext:12' shape=(None,) dtype=string>, 'Glucotrol_XL': <tf.Tensor 'IteratorGetNext:13' shape=(None,) dtype=string>, 'Glyburide': <tf.Tensor 'IteratorGetNext:14' shape=(None,) dtype=string>, 'Glyburide_And_Metformin_Hydrochloride': <tf.Tensor 'IteratorGetNext:16' shape=(None,) dtype=string>, 'Glyburide-metformin_Hydrochloride': <tf.Tensor 'IteratorGetNext:15' shape=(None,) dtype=string>, 'Glynase': <tf.Tensor 'IteratorGetNext:17' shape=(None,) dtype=string>, 'Glyset': <tf.Tensor 'IteratorGetNext:18' shape=(None,) dtype=string>, 'Humulin_R': <tf.Tensor 'IteratorGetNext:19' shape=(None,) dtype=string>, 'Metformin_Hcl': <tf.Tensor 'IteratorGetNext:20' shape=(None,) dtype=string>, 'Metformin_Hydrochloride': <tf.Tensor 'IteratorGetNext:21' shape=(None,) dtype=string>, 'Metformin_Hydrochloride_Extended_Release': <tf.Tensor 'IteratorGetNext:22' shape=(None,) dtype=string>, 'Miglitol': <tf.Tensor 'IteratorGetNext:23' shape=(None,) dtype=string>, 'Nateglinide': <tf.Tensor 'IteratorGetNext:24' shape=(None,) dtype=string>, 'Novolin_R': <tf.Tensor 'IteratorGetNext:25' shape=(None,) dtype=string>, 'Pioglitazole_And_Metformin_Hydrochloride': <tf.Tensor 'IteratorGetNext:26' shape=(None,) dtype=string>, 'Pioglitazone': <tf.Tensor 'IteratorGetNext:27' shape=(None,) dtype=string>, 'Pioglitazone_Hydrochloride_And_Glimepiride': <tf.Tensor 'IteratorGetNext:28' shape=(None,) dtype=string>, 'Prandin': <tf.Tensor 'IteratorGetNext:29' shape=(None,) dtype=string>, 'Repaglinide': <tf.Tensor 'IteratorGetNext:30' shape=(None,) dtype=string>, 'Riomet': <tf.Tensor 'IteratorGetNext:31' shape=(None,) dtype=string>, 'Riomet_Er': <tf.Tensor 'IteratorGetNext:32' shape=(None,) dtype=string>, 'Starlix': <tf.Tensor 'IteratorGetNext:33' shape=(None,) dtype=string>, 'Tolazamide': <tf.Tensor 'IteratorGetNext:34' shape=(None,) dtype=string>, 'Tolbutamide': <tf.Tensor 'IteratorGetNext:35' shape=(None,) dtype=string>, 'num_lab_procedures': <tf.Tensor 'IteratorGetNext:38' shape=(None,) dtype=int64>, 'num_medications': <tf.Tensor 'IteratorGetNext:39' shape=(None,) dtype=int64>}\n",
      "Consider rewriting this model with the Functional API.\n",
      "408/411 [============================>.] - ETA: 0s - loss: 28.3406 - mse: 28.1214WARNING:tensorflow:Layers in a Sequential model should only have a single input tensor, but we receive a <class 'dict'> input: {'patient_nbr': <tf.Tensor 'IteratorGetNext:41' shape=(None,) dtype=int64>, 'primary_diagnosis_code': <tf.Tensor 'IteratorGetNext:42' shape=(None,) dtype=string>, 'other_diagnosis_codes': <tf.Tensor 'IteratorGetNext:40' shape=(None,) dtype=string>, 'race': <tf.Tensor 'IteratorGetNext:43' shape=(None,) dtype=string>, 'gender': <tf.Tensor 'IteratorGetNext:37' shape=(None,) dtype=string>, 'age': <tf.Tensor 'IteratorGetNext:36' shape=(None,) dtype=string>, 'Acarbose': <tf.Tensor 'IteratorGetNext:0' shape=(None,) dtype=string>, 'Afrezza': <tf.Tensor 'IteratorGetNext:1' shape=(None,) dtype=string>, 'Amaryl': <tf.Tensor 'IteratorGetNext:2' shape=(None,) dtype=string>, 'Avandia_2MG': <tf.Tensor 'IteratorGetNext:3' shape=(None,) dtype=string>, 'Avandia_4MG': <tf.Tensor 'IteratorGetNext:4' shape=(None,) dtype=string>, 'Duetact': <tf.Tensor 'IteratorGetNext:5' shape=(None,) dtype=string>, 'Glimepiride': <tf.Tensor 'IteratorGetNext:6' shape=(None,) dtype=string>, 'Glipizide': <tf.Tensor 'IteratorGetNext:7' shape=(None,) dtype=string>, 'Glipizide_And_Metformin_Hcl': <tf.Tensor 'IteratorGetNext:8' shape=(None,) dtype=string>, 'Glipizide_And_Metformin_Hydrochloride': <tf.Tensor 'IteratorGetNext:9' shape=(None,) dtype=string>, 'Glucophage': <tf.Tensor 'IteratorGetNext:10' shape=(None,) dtype=string>, 'Glucophage_XR': <tf.Tensor 'IteratorGetNext:11' shape=(None,) dtype=string>, 'Glucotrol': <tf.Tensor 'IteratorGetNext:12' shape=(None,) dtype=string>, 'Glucotrol_XL': <tf.Tensor 'IteratorGetNext:13' shape=(None,) dtype=string>, 'Glyburide': <tf.Tensor 'IteratorGetNext:14' shape=(None,) dtype=string>, 'Glyburide_And_Metformin_Hydrochloride': <tf.Tensor 'IteratorGetNext:16' shape=(None,) dtype=string>, 'Glyburide-metformin_Hydrochloride': <tf.Tensor 'IteratorGetNext:15' shape=(None,) dtype=string>, 'Glynase': <tf.Tensor 'IteratorGetNext:17' shape=(None,) dtype=string>, 'Glyset': <tf.Tensor 'IteratorGetNext:18' shape=(None,) dtype=string>, 'Humulin_R': <tf.Tensor 'IteratorGetNext:19' shape=(None,) dtype=string>, 'Metformin_Hcl': <tf.Tensor 'IteratorGetNext:20' shape=(None,) dtype=string>, 'Metformin_Hydrochloride': <tf.Tensor 'IteratorGetNext:21' shape=(None,) dtype=string>, 'Metformin_Hydrochloride_Extended_Release': <tf.Tensor 'IteratorGetNext:22' shape=(None,) dtype=string>, 'Miglitol': <tf.Tensor 'IteratorGetNext:23' shape=(None,) dtype=string>, 'Nateglinide': <tf.Tensor 'IteratorGetNext:24' shape=(None,) dtype=string>, 'Novolin_R': <tf.Tensor 'IteratorGetNext:25' shape=(None,) dtype=string>, 'Pioglitazole_And_Metformin_Hydrochloride': <tf.Tensor 'IteratorGetNext:26' shape=(None,) dtype=string>, 'Pioglitazone': <tf.Tensor 'IteratorGetNext:27' shape=(None,) dtype=string>, 'Pioglitazone_Hydrochloride_And_Glimepiride': <tf.Tensor 'IteratorGetNext:28' shape=(None,) dtype=string>, 'Prandin': <tf.Tensor 'IteratorGetNext:29' shape=(None,) dtype=string>, 'Repaglinide': <tf.Tensor 'IteratorGetNext:30' shape=(None,) dtype=string>, 'Riomet': <tf.Tensor 'IteratorGetNext:31' shape=(None,) dtype=string>, 'Riomet_Er': <tf.Tensor 'IteratorGetNext:32' shape=(None,) dtype=string>, 'Starlix': <tf.Tensor 'IteratorGetNext:33' shape=(None,) dtype=string>, 'Tolazamide': <tf.Tensor 'IteratorGetNext:34' shape=(None,) dtype=string>, 'Tolbutamide': <tf.Tensor 'IteratorGetNext:35' shape=(None,) dtype=string>, 'num_lab_procedures': <tf.Tensor 'IteratorGetNext:38' shape=(None,) dtype=int64>, 'num_medications': <tf.Tensor 'IteratorGetNext:39' shape=(None,) dtype=int64>}\n",
      "Consider rewriting this model with the Functional API.\n",
      "411/411 [==============================] - 11s 15ms/step - loss: 28.2127 - mse: 27.9857 - val_loss: 23.4286 - val_mse: 22.9461\n",
      "Epoch 2/10\n",
      "411/411 [==============================] - 6s 11ms/step - loss: 17.5924 - mse: 16.8610 - val_loss: 14.7370 - val_mse: 13.9380\n",
      "Epoch 3/10\n",
      "411/411 [==============================] - 6s 11ms/step - loss: 13.7132 - mse: 12.8395 - val_loss: 12.3771 - val_mse: 11.6072\n",
      "Epoch 4/10\n",
      "411/411 [==============================] - 6s 11ms/step - loss: 12.0451 - mse: 11.1423 - val_loss: 10.4437 - val_mse: 9.7025\n",
      "Epoch 5/10\n",
      "411/411 [==============================] - 5s 11ms/step - loss: 10.8891 - mse: 9.8886 - val_loss: 10.4404 - val_mse: 9.6093\n",
      "Epoch 6/10\n",
      "411/411 [==============================] - 6s 12ms/step - loss: 10.1772 - mse: 9.3427 - val_loss: 10.5758 - val_mse: 9.6839\n",
      "Epoch 7/10\n",
      "411/411 [==============================] - 6s 11ms/step - loss: 9.5992 - mse: 8.6576 - val_loss: 10.1390 - val_mse: 9.2938\n",
      "Epoch 8/10\n",
      "411/411 [==============================] - 6s 12ms/step - loss: 9.4136 - mse: 8.4841 - val_loss: 9.2624 - val_mse: 8.3679\n",
      "Epoch 9/10\n",
      "411/411 [==============================] - 6s 11ms/step - loss: 9.1327 - mse: 8.3527 - val_loss: 8.9382 - val_mse: 8.0505\n",
      "Epoch 10/10\n",
      "411/411 [==============================] - 6s 11ms/step - loss: 8.9240 - mse: 7.9607 - val_loss: 8.5275 - val_mse: 7.5715\n"
     ]
    }
   ],
   "source": [
    "diabetes_model, history = build_diabetes_model(diabetes_train_ds, diabetes_val_ds,  claim_feature_layer,  epochs=10)"
   ]
  },
  {
   "cell_type": "markdown",
   "metadata": {},
   "source": [
    "## Show Model Uncertainty Range with TF Probability"
   ]
  },
  {
   "cell_type": "markdown",
   "metadata": {},
   "source": [
    "**Question 9**: Now that we have trained a model with TF Probability layers, we can extract the mean and standard deviation for each prediction. Please fill in the answer for the m and s variables below. The code for getting the predictions is provided for you below."
   ]
  },
  {
   "cell_type": "code",
   "execution_count": 90,
   "metadata": {},
   "outputs": [
    {
     "name": "stdout",
     "output_type": "stream",
     "text": [
      "WARNING:tensorflow:Layers in a Sequential model should only have a single input tensor, but we receive a <class 'dict'> input: {'primary_diagnosis_code': 27476        42\n",
      "60506       972\n",
      "23816       V57\n",
      "84272       456\n",
      "43549       531\n",
      "          ...  \n",
      "4264        345\n",
      "60204    250.13\n",
      "57285       428\n",
      "3665        428\n",
      "66797       415\n",
      "Name: primary_diagnosis_code, Length: 17533, dtype: object, 'other_diagnosis_codes': 27476       136|250\n",
      "60506    250.02|287\n",
      "23816       V45|438\n",
      "84272       285|599\n",
      "43549       285|250\n",
      "            ...    \n",
      "4264        414|250\n",
      "60204         401|?\n",
      "57285       599|403\n",
      "3665        496|250\n",
      "66797       276|V43\n",
      "Name: other_diagnosis_codes, Length: 17533, dtype: object, 'race': 27476    AfricanAmerican\n",
      "60506          Caucasian\n",
      "23816          Caucasian\n",
      "84272           Hispanic\n",
      "43549          Caucasian\n",
      "              ...       \n",
      "4264     AfricanAmerican\n",
      "60204          Caucasian\n",
      "57285          Caucasian\n",
      "3665           Caucasian\n",
      "66797          Caucasian\n",
      "Name: race, Length: 17533, dtype: object, 'gender': 27476    Female\n",
      "60506    Female\n",
      "23816      Male\n",
      "84272    Female\n",
      "43549    Female\n",
      "          ...  \n",
      "4264     Female\n",
      "60204      Male\n",
      "57285    Female\n",
      "3665       Male\n",
      "66797    Female\n",
      "Name: gender, Length: 17533, dtype: object, 'age': 27476    [40-50)\n",
      "60506    [80-90)\n",
      "23816    [70-80)\n",
      "84272    [60-70)\n",
      "43549    [70-80)\n",
      "          ...   \n",
      "4264     [50-60)\n",
      "60204    [20-30)\n",
      "57285    [80-90)\n",
      "3665     [50-60)\n",
      "66797    [70-80)\n",
      "Name: age, Length: 17533, dtype: object, 'Acarbose': 27476    0\n",
      "60506    0\n",
      "23816    0\n",
      "84272    0\n",
      "43549    0\n",
      "        ..\n",
      "4264     0\n",
      "60204    0\n",
      "57285    0\n",
      "3665     0\n",
      "66797    0\n",
      "Name: Acarbose, Length: 17533, dtype: object, 'Afrezza': 27476    0\n",
      "60506    0\n",
      "23816    0\n",
      "84272    1\n",
      "43549    0\n",
      "        ..\n",
      "4264     0\n",
      "60204    0\n",
      "57285    0\n",
      "3665     0\n",
      "66797    0\n",
      "Name: Afrezza, Length: 17533, dtype: object, 'Amaryl': 27476    0\n",
      "60506    0\n",
      "23816    0\n",
      "84272    0\n",
      "43549    0\n",
      "        ..\n",
      "4264     0\n",
      "60204    0\n",
      "57285    0\n",
      "3665     0\n",
      "66797    0\n",
      "Name: Amaryl, Length: 17533, dtype: object, 'Avandia_2MG': 27476    0\n",
      "60506    0\n",
      "23816    0\n",
      "84272    0\n",
      "43549    0\n",
      "        ..\n",
      "4264     0\n",
      "60204    0\n",
      "57285    0\n",
      "3665     0\n",
      "66797    0\n",
      "Name: Avandia_2MG, Length: 17533, dtype: object, 'Avandia_4MG': 27476    0\n",
      "60506    0\n",
      "23816    0\n",
      "84272    0\n",
      "43549    0\n",
      "        ..\n",
      "4264     0\n",
      "60204    0\n",
      "57285    0\n",
      "3665     0\n",
      "66797    0\n",
      "Name: Avandia_4MG, Length: 17533, dtype: object, 'Duetact': 27476    0\n",
      "60506    0\n",
      "23816    0\n",
      "84272    0\n",
      "43549    0\n",
      "        ..\n",
      "4264     0\n",
      "60204    0\n",
      "57285    0\n",
      "3665     0\n",
      "66797    0\n",
      "Name: Duetact, Length: 17533, dtype: object, 'Glimepiride': 27476    0\n",
      "60506    0\n",
      "23816    0\n",
      "84272    0\n",
      "43549    0\n",
      "        ..\n",
      "4264     0\n",
      "60204    0\n",
      "57285    0\n",
      "3665     0\n",
      "66797    0\n",
      "Name: Glimepiride, Length: 17533, dtype: object, 'Glipizide': 27476    0\n",
      "60506    0\n",
      "23816    0\n",
      "84272    0\n",
      "43549    0\n",
      "        ..\n",
      "4264     0\n",
      "60204    0\n",
      "57285    0\n",
      "3665     0\n",
      "66797    0\n",
      "Name: Glipizide, Length: 17533, dtype: object, 'Glipizide_And_Metformin_Hcl': 27476    0\n",
      "60506    0\n",
      "23816    0\n",
      "84272    0\n",
      "43549    0\n",
      "        ..\n",
      "4264     0\n",
      "60204    0\n",
      "57285    0\n",
      "3665     0\n",
      "66797    0\n",
      "Name: Glipizide_And_Metformin_Hcl, Length: 17533, dtype: object, 'Glipizide_And_Metformin_Hydrochloride': 27476    0\n",
      "60506    0\n",
      "23816    0\n",
      "84272    0\n",
      "43549    0\n",
      "        ..\n",
      "4264     0\n",
      "60204    0\n",
      "57285    0\n",
      "3665     0\n",
      "66797    0\n",
      "Name: Glipizide_And_Metformin_Hydrochloride, Length: 17533, dtype: object, 'Glucophage': 27476    0\n",
      "60506    0\n",
      "23816    0\n",
      "84272    0\n",
      "43549    0\n",
      "        ..\n",
      "4264     0\n",
      "60204    0\n",
      "57285    0\n",
      "3665     0\n",
      "66797    0\n",
      "Name: Glucophage, Length: 17533, dtype: object, 'Glucophage_XR': 27476    0\n",
      "60506    0\n",
      "23816    0\n",
      "84272    0\n",
      "43549    0\n",
      "        ..\n",
      "4264     0\n",
      "60204    0\n",
      "57285    0\n",
      "3665     0\n",
      "66797    0\n",
      "Name: Glucophage_XR, Length: 17533, dtype: object, 'Glucotrol': 27476    0\n",
      "60506    0\n",
      "23816    0\n",
      "84272    0\n",
      "43549    0\n",
      "        ..\n",
      "4264     1\n",
      "60204    0\n",
      "57285    0\n",
      "3665     0\n",
      "66797    0\n",
      "Name: Glucotrol, Length: 17533, dtype: object, 'Glucotrol_XL': 27476    0\n",
      "60506    0\n",
      "23816    0\n",
      "84272    0\n",
      "43549    0\n",
      "        ..\n",
      "4264     0\n",
      "60204    0\n",
      "57285    0\n",
      "3665     0\n",
      "66797    0\n",
      "Name: Glucotrol_XL, Length: 17533, dtype: object, 'Glyburide': 27476    0\n",
      "60506    0\n",
      "23816    0\n",
      "84272    0\n",
      "43549    0\n",
      "        ..\n",
      "4264     0\n",
      "60204    0\n",
      "57285    1\n",
      "3665     0\n",
      "66797    0\n",
      "Name: Glyburide, Length: 17533, dtype: object, 'Glyburide_And_Metformin_Hydrochloride': 27476    0\n",
      "60506    0\n",
      "23816    0\n",
      "84272    0\n",
      "43549    0\n",
      "        ..\n",
      "4264     0\n",
      "60204    0\n",
      "57285    0\n",
      "3665     0\n",
      "66797    0\n",
      "Name: Glyburide_And_Metformin_Hydrochloride, Length: 17533, dtype: object, 'Glyburide-metformin_Hydrochloride': 27476    0\n",
      "60506    0\n",
      "23816    0\n",
      "84272    0\n",
      "43549    0\n",
      "        ..\n",
      "4264     0\n",
      "60204    0\n",
      "57285    0\n",
      "3665     0\n",
      "66797    0\n",
      "Name: Glyburide-metformin_Hydrochloride, Length: 17533, dtype: object, 'Glynase': 27476    0\n",
      "60506    0\n",
      "23816    1\n",
      "84272    0\n",
      "43549    0\n",
      "        ..\n",
      "4264     0\n",
      "60204    0\n",
      "57285    0\n",
      "3665     0\n",
      "66797    0\n",
      "Name: Glynase, Length: 17533, dtype: object, 'Glyset': 27476    0\n",
      "60506    0\n",
      "23816    0\n",
      "84272    0\n",
      "43549    0\n",
      "        ..\n",
      "4264     0\n",
      "60204    0\n",
      "57285    0\n",
      "3665     0\n",
      "66797    0\n",
      "Name: Glyset, Length: 17533, dtype: object, 'Humulin_R': 27476    0\n",
      "60506    0\n",
      "23816    0\n",
      "84272    0\n",
      "43549    0\n",
      "        ..\n",
      "4264     0\n",
      "60204    0\n",
      "57285    0\n",
      "3665     0\n",
      "66797    0\n",
      "Name: Humulin_R, Length: 17533, dtype: object, 'Metformin_Hcl': 27476    0\n",
      "60506    0\n",
      "23816    0\n",
      "84272    0\n",
      "43549    0\n",
      "        ..\n",
      "4264     0\n",
      "60204    0\n",
      "57285    0\n",
      "3665     0\n",
      "66797    0\n",
      "Name: Metformin_Hcl, Length: 17533, dtype: object, 'Metformin_Hydrochloride': 27476    0\n",
      "60506    0\n",
      "23816    0\n",
      "84272    0\n",
      "43549    1\n",
      "        ..\n",
      "4264     0\n",
      "60204    0\n",
      "57285    0\n",
      "3665     1\n",
      "66797    0\n",
      "Name: Metformin_Hydrochloride, Length: 17533, dtype: object, 'Metformin_Hydrochloride_Extended_Release': 27476    0\n",
      "60506    0\n",
      "23816    0\n",
      "84272    0\n",
      "43549    0\n",
      "        ..\n",
      "4264     0\n",
      "60204    0\n",
      "57285    0\n",
      "3665     0\n",
      "66797    0\n",
      "Name: Metformin_Hydrochloride_Extended_Release, Length: 17533, dtype: object, 'Miglitol': 27476    0\n",
      "60506    0\n",
      "23816    0\n",
      "84272    0\n",
      "43549    0\n",
      "        ..\n",
      "4264     0\n",
      "60204    0\n",
      "57285    0\n",
      "3665     0\n",
      "66797    0\n",
      "Name: Miglitol, Length: 17533, dtype: object, 'Nateglinide': 27476    0\n",
      "60506    0\n",
      "23816    0\n",
      "84272    0\n",
      "43549    0\n",
      "        ..\n",
      "4264     0\n",
      "60204    0\n",
      "57285    0\n",
      "3665     0\n",
      "66797    1\n",
      "Name: Nateglinide, Length: 17533, dtype: object, 'Novolin_R': 27476    0\n",
      "60506    1\n",
      "23816    0\n",
      "84272    0\n",
      "43549    0\n",
      "        ..\n",
      "4264     0\n",
      "60204    1\n",
      "57285    0\n",
      "3665     0\n",
      "66797    0\n",
      "Name: Novolin_R, Length: 17533, dtype: object, 'Pioglitazole_And_Metformin_Hydrochloride': 27476    0\n",
      "60506    0\n",
      "23816    0\n",
      "84272    0\n",
      "43549    0\n",
      "        ..\n",
      "4264     0\n",
      "60204    0\n",
      "57285    0\n",
      "3665     0\n",
      "66797    0\n",
      "Name: Pioglitazole_And_Metformin_Hydrochloride, Length: 17533, dtype: object, 'Pioglitazone': 27476    1\n",
      "60506    0\n",
      "23816    0\n",
      "84272    0\n",
      "43549    0\n",
      "        ..\n",
      "4264     0\n",
      "60204    0\n",
      "57285    0\n",
      "3665     0\n",
      "66797    0\n",
      "Name: Pioglitazone, Length: 17533, dtype: object, 'Pioglitazone_Hydrochloride_And_Glimepiride': 27476    0\n",
      "60506    0\n",
      "23816    0\n",
      "84272    0\n",
      "43549    0\n",
      "        ..\n",
      "4264     0\n",
      "60204    0\n",
      "57285    0\n",
      "3665     0\n",
      "66797    0\n",
      "Name: Pioglitazone_Hydrochloride_And_Glimepiride, Length: 17533, dtype: object, 'Prandin': 27476    0\n",
      "60506    0\n",
      "23816    0\n",
      "84272    0\n",
      "43549    0\n",
      "        ..\n",
      "4264     0\n",
      "60204    0\n",
      "57285    0\n",
      "3665     0\n",
      "66797    0\n",
      "Name: Prandin, Length: 17533, dtype: object, 'Repaglinide': 27476    0\n",
      "60506    0\n",
      "23816    0\n",
      "84272    0\n",
      "43549    0\n",
      "        ..\n",
      "4264     0\n",
      "60204    0\n",
      "57285    0\n",
      "3665     0\n",
      "66797    0\n",
      "Name: Repaglinide, Length: 17533, dtype: object, 'Riomet': 27476    0\n",
      "60506    0\n",
      "23816    0\n",
      "84272    0\n",
      "43549    0\n",
      "        ..\n",
      "4264     0\n",
      "60204    0\n",
      "57285    0\n",
      "3665     0\n",
      "66797    0\n",
      "Name: Riomet, Length: 17533, dtype: object, 'Riomet_Er': 27476    0\n",
      "60506    0\n",
      "23816    0\n",
      "84272    0\n",
      "43549    0\n",
      "        ..\n",
      "4264     0\n",
      "60204    0\n",
      "57285    0\n",
      "3665     0\n",
      "66797    0\n",
      "Name: Riomet_Er, Length: 17533, dtype: object, 'Starlix': 27476    0\n",
      "60506    0\n",
      "23816    0\n",
      "84272    0\n",
      "43549    0\n",
      "        ..\n",
      "4264     0\n",
      "60204    0\n",
      "57285    0\n",
      "3665     0\n",
      "66797    0\n",
      "Name: Starlix, Length: 17533, dtype: object, 'Tolazamide': 27476    0\n",
      "60506    0\n",
      "23816    0\n",
      "84272    0\n",
      "43549    0\n",
      "        ..\n",
      "4264     0\n",
      "60204    0\n",
      "57285    0\n",
      "3665     0\n",
      "66797    0\n",
      "Name: Tolazamide, Length: 17533, dtype: object, 'Tolbutamide': 27476    0\n",
      "60506    0\n",
      "23816    0\n",
      "84272    0\n",
      "43549    0\n",
      "        ..\n",
      "4264     0\n",
      "60204    0\n",
      "57285    0\n",
      "3665     0\n",
      "66797    0\n",
      "Name: Tolbutamide, Length: 17533, dtype: object, 'num_lab_procedures': 27476    16\n",
      "60506    64\n",
      "23816    58\n",
      "84272    48\n",
      "43549    40\n",
      "         ..\n",
      "4264     58\n",
      "60204    61\n",
      "57285    64\n",
      "3665     32\n",
      "66797    44\n",
      "Name: num_lab_procedures, Length: 17533, dtype: int64, 'num_medications': 27476    20\n",
      "60506    13\n",
      "23816    17\n",
      "84272    11\n",
      "43549     9\n",
      "         ..\n",
      "4264     10\n",
      "60204     6\n",
      "57285    22\n",
      "3665     18\n",
      "66797    19\n",
      "Name: num_medications, Length: 17533, dtype: int64}\n",
      "Consider rewriting this model with the Functional API.\n",
      "WARNING:tensorflow:Layers in a Sequential model should only have a single input tensor, but we receive a <class 'dict'> input: {'patient_nbr': <tf.Tensor 'IteratorGetNext:41' shape=(None,) dtype=int64>, 'primary_diagnosis_code': <tf.Tensor 'IteratorGetNext:42' shape=(None,) dtype=string>, 'other_diagnosis_codes': <tf.Tensor 'IteratorGetNext:40' shape=(None,) dtype=string>, 'race': <tf.Tensor 'IteratorGetNext:43' shape=(None,) dtype=string>, 'gender': <tf.Tensor 'IteratorGetNext:37' shape=(None,) dtype=string>, 'age': <tf.Tensor 'IteratorGetNext:36' shape=(None,) dtype=string>, 'Acarbose': <tf.Tensor 'IteratorGetNext:0' shape=(None,) dtype=string>, 'Afrezza': <tf.Tensor 'IteratorGetNext:1' shape=(None,) dtype=string>, 'Amaryl': <tf.Tensor 'IteratorGetNext:2' shape=(None,) dtype=string>, 'Avandia_2MG': <tf.Tensor 'IteratorGetNext:3' shape=(None,) dtype=string>, 'Avandia_4MG': <tf.Tensor 'IteratorGetNext:4' shape=(None,) dtype=string>, 'Duetact': <tf.Tensor 'IteratorGetNext:5' shape=(None,) dtype=string>, 'Glimepiride': <tf.Tensor 'IteratorGetNext:6' shape=(None,) dtype=string>, 'Glipizide': <tf.Tensor 'IteratorGetNext:7' shape=(None,) dtype=string>, 'Glipizide_And_Metformin_Hcl': <tf.Tensor 'IteratorGetNext:8' shape=(None,) dtype=string>, 'Glipizide_And_Metformin_Hydrochloride': <tf.Tensor 'IteratorGetNext:9' shape=(None,) dtype=string>, 'Glucophage': <tf.Tensor 'IteratorGetNext:10' shape=(None,) dtype=string>, 'Glucophage_XR': <tf.Tensor 'IteratorGetNext:11' shape=(None,) dtype=string>, 'Glucotrol': <tf.Tensor 'IteratorGetNext:12' shape=(None,) dtype=string>, 'Glucotrol_XL': <tf.Tensor 'IteratorGetNext:13' shape=(None,) dtype=string>, 'Glyburide': <tf.Tensor 'IteratorGetNext:14' shape=(None,) dtype=string>, 'Glyburide_And_Metformin_Hydrochloride': <tf.Tensor 'IteratorGetNext:16' shape=(None,) dtype=string>, 'Glyburide-metformin_Hydrochloride': <tf.Tensor 'IteratorGetNext:15' shape=(None,) dtype=string>, 'Glynase': <tf.Tensor 'IteratorGetNext:17' shape=(None,) dtype=string>, 'Glyset': <tf.Tensor 'IteratorGetNext:18' shape=(None,) dtype=string>, 'Humulin_R': <tf.Tensor 'IteratorGetNext:19' shape=(None,) dtype=string>, 'Metformin_Hcl': <tf.Tensor 'IteratorGetNext:20' shape=(None,) dtype=string>, 'Metformin_Hydrochloride': <tf.Tensor 'IteratorGetNext:21' shape=(None,) dtype=string>, 'Metformin_Hydrochloride_Extended_Release': <tf.Tensor 'IteratorGetNext:22' shape=(None,) dtype=string>, 'Miglitol': <tf.Tensor 'IteratorGetNext:23' shape=(None,) dtype=string>, 'Nateglinide': <tf.Tensor 'IteratorGetNext:24' shape=(None,) dtype=string>, 'Novolin_R': <tf.Tensor 'IteratorGetNext:25' shape=(None,) dtype=string>, 'Pioglitazole_And_Metformin_Hydrochloride': <tf.Tensor 'IteratorGetNext:26' shape=(None,) dtype=string>, 'Pioglitazone': <tf.Tensor 'IteratorGetNext:27' shape=(None,) dtype=string>, 'Pioglitazone_Hydrochloride_And_Glimepiride': <tf.Tensor 'IteratorGetNext:28' shape=(None,) dtype=string>, 'Prandin': <tf.Tensor 'IteratorGetNext:29' shape=(None,) dtype=string>, 'Repaglinide': <tf.Tensor 'IteratorGetNext:30' shape=(None,) dtype=string>, 'Riomet': <tf.Tensor 'IteratorGetNext:31' shape=(None,) dtype=string>, 'Riomet_Er': <tf.Tensor 'IteratorGetNext:32' shape=(None,) dtype=string>, 'Starlix': <tf.Tensor 'IteratorGetNext:33' shape=(None,) dtype=string>, 'Tolazamide': <tf.Tensor 'IteratorGetNext:34' shape=(None,) dtype=string>, 'Tolbutamide': <tf.Tensor 'IteratorGetNext:35' shape=(None,) dtype=string>, 'num_lab_procedures': <tf.Tensor 'IteratorGetNext:38' shape=(None,) dtype=int64>, 'num_medications': <tf.Tensor 'IteratorGetNext:39' shape=(None,) dtype=int64>}\n",
      "Consider rewriting this model with the Functional API.\n"
     ]
    }
   ],
   "source": [
    "feature_list = student_categorical_col_list + student_numerical_col_list\n",
    "diabetes_x_tst = dict(d_test[feature_list])\n",
    "diabetes_yhat = diabetes_model(diabetes_x_tst)\n",
    "preds = diabetes_model.predict(diabetes_test_ds)"
   ]
  },
  {
   "cell_type": "code",
   "execution_count": 91,
   "metadata": {},
   "outputs": [],
   "source": [
    "from student_utils import get_mean_std_from_preds\n",
    "m, s = get_mean_std_from_preds(diabetes_yhat)"
   ]
  },
  {
   "cell_type": "code",
   "execution_count": 92,
   "metadata": {},
   "outputs": [
    {
     "name": "stdout",
     "output_type": "stream",
     "text": [
      "Test set predictions, shape: (17533, 1), (17533, 1)\n",
      "Mean:\n",
      " [[ 3.8445802]\n",
      " [ 6.3437247]\n",
      " [12.156642 ]\n",
      " ...\n",
      " [ 7.808317 ]\n",
      " [ 3.3084164]\n",
      " [ 7.673325 ]]\n",
      "STD:\n",
      " [[0.6900516 ]\n",
      " [0.68562704]\n",
      " [0.67748153]\n",
      " ...\n",
      " [0.6828953 ]\n",
      " [0.6909844 ]\n",
      " [0.68244815]]\n"
     ]
    }
   ],
   "source": [
    "print(f'Test set predictions, shape: {m.shape}, {s.shape}')\n",
    "print(f'Mean:\\n {m}')\n",
    "print(f'STD:\\n {s}')"
   ]
  },
  {
   "cell_type": "markdown",
   "metadata": {},
   "source": [
    "## Show Prediction Output "
   ]
  },
  {
   "cell_type": "code",
   "execution_count": 93,
   "metadata": {},
   "outputs": [],
   "source": [
    "prob_outputs = {\n",
    "    \"pred\": preds.flatten(),\n",
    "    \"actual_value\": d_test['time_in_hospital'].values,\n",
    "    \"pred_mean\": m.numpy().flatten(),\n",
    "    \"pred_std\": s.numpy().flatten()\n",
    "}\n",
    "prob_output_df = pd.DataFrame(prob_outputs)"
   ]
  },
  {
   "cell_type": "code",
   "execution_count": 94,
   "metadata": {},
   "outputs": [
    {
     "data": {
      "text/html": [
       "<div>\n",
       "<style scoped>\n",
       "    .dataframe tbody tr th:only-of-type {\n",
       "        vertical-align: middle;\n",
       "    }\n",
       "\n",
       "    .dataframe tbody tr th {\n",
       "        vertical-align: top;\n",
       "    }\n",
       "\n",
       "    .dataframe thead th {\n",
       "        text-align: right;\n",
       "    }\n",
       "</style>\n",
       "<table border=\"1\" class=\"dataframe\">\n",
       "  <thead>\n",
       "    <tr style=\"text-align: right;\">\n",
       "      <th></th>\n",
       "      <th>pred</th>\n",
       "      <th>actual_value</th>\n",
       "      <th>pred_mean</th>\n",
       "      <th>pred_std</th>\n",
       "    </tr>\n",
       "  </thead>\n",
       "  <tbody>\n",
       "    <tr>\n",
       "      <th>0</th>\n",
       "      <td>4.890988</td>\n",
       "      <td>2.0</td>\n",
       "      <td>3.844580</td>\n",
       "      <td>0.690052</td>\n",
       "    </tr>\n",
       "    <tr>\n",
       "      <th>1</th>\n",
       "      <td>3.715338</td>\n",
       "      <td>3.0</td>\n",
       "      <td>6.343725</td>\n",
       "      <td>0.685627</td>\n",
       "    </tr>\n",
       "    <tr>\n",
       "      <th>2</th>\n",
       "      <td>6.965985</td>\n",
       "      <td>6.0</td>\n",
       "      <td>12.156642</td>\n",
       "      <td>0.677482</td>\n",
       "    </tr>\n",
       "    <tr>\n",
       "      <th>3</th>\n",
       "      <td>13.568733</td>\n",
       "      <td>4.0</td>\n",
       "      <td>4.585217</td>\n",
       "      <td>0.687339</td>\n",
       "    </tr>\n",
       "    <tr>\n",
       "      <th>4</th>\n",
       "      <td>4.368909</td>\n",
       "      <td>4.0</td>\n",
       "      <td>2.924471</td>\n",
       "      <td>0.689389</td>\n",
       "    </tr>\n",
       "  </tbody>\n",
       "</table>\n",
       "</div>"
      ],
      "text/plain": [
       "        pred  actual_value  pred_mean  pred_std\n",
       "0   4.890988           2.0   3.844580  0.690052\n",
       "1   3.715338           3.0   6.343725  0.685627\n",
       "2   6.965985           6.0  12.156642  0.677482\n",
       "3  13.568733           4.0   4.585217  0.687339\n",
       "4   4.368909           4.0   2.924471  0.689389"
      ]
     },
     "execution_count": 94,
     "metadata": {},
     "output_type": "execute_result"
    }
   ],
   "source": [
    "prob_output_df.head()"
   ]
  },
  {
   "cell_type": "markdown",
   "metadata": {},
   "source": [
    "## Convert Regression Output to Classification Output for Patient Selection"
   ]
  },
  {
   "cell_type": "markdown",
   "metadata": {},
   "source": [
    "**Question 10**: Given the output predictions, convert it to a binary label for whether the patient meets the time criteria or does not (HINT: use the mean prediction numpy array). The expected output is a numpy array with a 1 or 0 based off if the prediction meets or doesnt meet the criteria."
   ]
  },
  {
   "cell_type": "code",
   "execution_count": 95,
   "metadata": {},
   "outputs": [
    {
     "name": "stdout",
     "output_type": "stream",
     "text": [
      "### Transformed to numpy: <class 'numpy.ndarray'>, shape: (17533,)\n"
     ]
    }
   ],
   "source": [
    "from student_utils import get_student_binary_prediction\n",
    "student_binary_prediction = get_student_binary_prediction(prob_output_df, 'pred_mean')"
   ]
  },
  {
   "cell_type": "code",
   "execution_count": 96,
   "metadata": {},
   "outputs": [
    {
     "data": {
      "text/plain": [
       "array([0, 1, 1, 0, 0, 1, 0, 1, 1, 0, 1, 1, 0, 0, 1])"
      ]
     },
     "execution_count": 96,
     "metadata": {},
     "output_type": "execute_result"
    }
   ],
   "source": [
    "student_binary_prediction[:15]"
   ]
  },
  {
   "cell_type": "markdown",
   "metadata": {},
   "source": [
    "###### Question 10 Student Response:"
   ]
  },
  {
   "cell_type": "markdown",
   "metadata": {},
   "source": [
    "Binary predictions extracted from mean predictions and threshold of 5 days hospital stay or more."
   ]
  },
  {
   "cell_type": "markdown",
   "metadata": {},
   "source": [
    "### Add Binary Prediction to Test Dataframe"
   ]
  },
  {
   "cell_type": "markdown",
   "metadata": {},
   "source": [
    "Using the student_binary_prediction output that is a numpy array with binary labels, we can use this to add to a dataframe to better visualize and also to prepare the data for the Aequitas toolkit. The Aequitas toolkit requires that the predictions be mapped to a binary label for the predictions (called 'score' field) and the actual value (called 'label_value')."
   ]
  },
  {
   "cell_type": "code",
   "execution_count": 97,
   "metadata": {},
   "outputs": [],
   "source": [
    "def add_pred_to_test(test_df, pred_np, demo_col_list):\n",
    "    for c in demo_col_list:\n",
    "        test_df[c] = test_df[c].astype(str)\n",
    "    test_df['score'] = pred_np\n",
    "    test_df['label_value'] = test_df['time_in_hospital'].apply(lambda x: 1 if x >=5 else 0)\n",
    "    return test_df\n",
    "\n",
    "pred_test_df = add_pred_to_test(d_test, student_binary_prediction, ['race', 'gender'])"
   ]
  },
  {
   "cell_type": "code",
   "execution_count": 98,
   "metadata": {},
   "outputs": [
    {
     "data": {
      "text/html": [
       "<div>\n",
       "<style scoped>\n",
       "    .dataframe tbody tr th:only-of-type {\n",
       "        vertical-align: middle;\n",
       "    }\n",
       "\n",
       "    .dataframe tbody tr th {\n",
       "        vertical-align: top;\n",
       "    }\n",
       "\n",
       "    .dataframe thead th {\n",
       "        text-align: right;\n",
       "    }\n",
       "</style>\n",
       "<table border=\"1\" class=\"dataframe\">\n",
       "  <thead>\n",
       "    <tr style=\"text-align: right;\">\n",
       "      <th></th>\n",
       "      <th>patient_nbr</th>\n",
       "      <th>gender</th>\n",
       "      <th>race</th>\n",
       "      <th>time_in_hospital</th>\n",
       "      <th>score</th>\n",
       "      <th>label_value</th>\n",
       "    </tr>\n",
       "  </thead>\n",
       "  <tbody>\n",
       "    <tr>\n",
       "      <th>27476</th>\n",
       "      <td>28745505</td>\n",
       "      <td>Female</td>\n",
       "      <td>AfricanAmerican</td>\n",
       "      <td>2.0</td>\n",
       "      <td>0</td>\n",
       "      <td>0</td>\n",
       "    </tr>\n",
       "    <tr>\n",
       "      <th>60506</th>\n",
       "      <td>95297031</td>\n",
       "      <td>Female</td>\n",
       "      <td>Caucasian</td>\n",
       "      <td>3.0</td>\n",
       "      <td>1</td>\n",
       "      <td>0</td>\n",
       "    </tr>\n",
       "    <tr>\n",
       "      <th>23816</th>\n",
       "      <td>3471210</td>\n",
       "      <td>Male</td>\n",
       "      <td>Caucasian</td>\n",
       "      <td>6.0</td>\n",
       "      <td>1</td>\n",
       "      <td>1</td>\n",
       "    </tr>\n",
       "    <tr>\n",
       "      <th>84272</th>\n",
       "      <td>126287816</td>\n",
       "      <td>Female</td>\n",
       "      <td>Hispanic</td>\n",
       "      <td>4.0</td>\n",
       "      <td>0</td>\n",
       "      <td>0</td>\n",
       "    </tr>\n",
       "    <tr>\n",
       "      <th>43549</th>\n",
       "      <td>100031517</td>\n",
       "      <td>Female</td>\n",
       "      <td>Caucasian</td>\n",
       "      <td>4.0</td>\n",
       "      <td>0</td>\n",
       "      <td>0</td>\n",
       "    </tr>\n",
       "  </tbody>\n",
       "</table>\n",
       "</div>"
      ],
      "text/plain": [
       "       patient_nbr  gender             race  time_in_hospital  score  \\\n",
       "27476     28745505  Female  AfricanAmerican               2.0      0   \n",
       "60506     95297031  Female        Caucasian               3.0      1   \n",
       "23816      3471210    Male        Caucasian               6.0      1   \n",
       "84272    126287816  Female         Hispanic               4.0      0   \n",
       "43549    100031517  Female        Caucasian               4.0      0   \n",
       "\n",
       "       label_value  \n",
       "27476            0  \n",
       "60506            0  \n",
       "23816            1  \n",
       "84272            0  \n",
       "43549            0  "
      ]
     },
     "execution_count": 98,
     "metadata": {},
     "output_type": "execute_result"
    }
   ],
   "source": [
    "pred_test_df[['patient_nbr', 'gender', 'race', 'time_in_hospital', 'score', 'label_value']].head()"
   ]
  },
  {
   "cell_type": "markdown",
   "metadata": {},
   "source": [
    "## Model Evaluation Metrics "
   ]
  },
  {
   "cell_type": "markdown",
   "metadata": {},
   "source": [
    "**Question 11**: Now it is time to use the newly created binary labels in the 'pred_test_df' dataframe to evaluate the model with some common classification metrics. Please create a report summary of the performance of the model and be sure to give the ROC AUC, F1 score(weighted), class precision and recall scores. "
   ]
  },
  {
   "cell_type": "markdown",
   "metadata": {},
   "source": [
    "For the report please be sure to include the following three parts:\n",
    "- With a non-technical audience in mind, explain the precision-recall tradeoff in regard to how you have optimized your model.\n",
    "\n",
    "- What are some areas of improvement for future iterations?"
   ]
  },
  {
   "cell_type": "code",
   "execution_count": 99,
   "metadata": {},
   "outputs": [
    {
     "name": "stdout",
     "output_type": "stream",
     "text": [
      "F1: 0.7407418056043971\n",
      "              precision    recall  f1-score   support\n",
      "\n",
      "           0       0.82      0.73      0.77     10513\n",
      "           1       0.65      0.75      0.70      7020\n",
      "\n",
      "    accuracy                           0.74     17533\n",
      "   macro avg       0.73      0.74      0.73     17533\n",
      "weighted avg       0.75      0.74      0.74     17533\n",
      "\n"
     ]
    }
   ],
   "source": [
    "# AUC, F1, precision and recall\n",
    "# Summary\n",
    "from sklearn.metrics import brier_score_loss, accuracy_score, f1_score, classification_report, roc_auc_score, roc_curve\n",
    "\n",
    "#F1\n",
    "f1 = f1_score(pred_test_df['label_value'], pred_test_df['score'], average='weighted')\n",
    "print(f'F1: {f1}')\n",
    "\n",
    "class_report = classification_report(pred_test_df['label_value'], pred_test_df['score'])\n",
    "print(class_report)"
   ]
  },
  {
   "cell_type": "code",
   "execution_count": 100,
   "metadata": {},
   "outputs": [
    {
     "data": {
      "image/png": "[encoded data removed]",
      "text/plain": [
       "<Figure size 432x288 with 1 Axes>"
      ]
     },
     "metadata": {
      "needs_background": "light"
     },
     "output_type": "display_data"
    }
   ],
   "source": [
    "# ROC Curve \n",
    "roc = roc_curve(pred_test_df['label_value'], pred_test_df['score'])\n",
    "plt.plot(roc[0], roc[1])\n",
    "plt.show()"
   ]
  },
  {
   "cell_type": "code",
   "execution_count": 101,
   "metadata": {},
   "outputs": [
    {
     "name": "stdout",
     "output_type": "stream",
     "text": [
      "AUC: 0.7409014697039047\n"
     ]
    }
   ],
   "source": [
    "#AUC - area under the ROC curve\n",
    "auc = roc_auc_score(pred_test_df['label_value'], pred_test_df['score'])\n",
    "print(f'AUC: {auc}')"
   ]
  },
  {
   "cell_type": "markdown",
   "metadata": {},
   "source": [
    "# 7. Evaluating Potential Model Biases with Aequitas Toolkit"
   ]
  },
  {
   "cell_type": "markdown",
   "metadata": {},
   "source": [
    "## Prepare Data For Aequitas Bias Toolkit "
   ]
  },
  {
   "cell_type": "markdown",
   "metadata": {},
   "source": [
    "Using the gender and race fields, we will prepare the data for the Aequitas Toolkit."
   ]
  },
  {
   "cell_type": "code",
   "execution_count": 103,
   "metadata": {},
   "outputs": [],
   "source": [
    "# Aequitas\n",
    "from aequitas.preprocessing import preprocess_input_df\n",
    "from aequitas.group import Group\n",
    "from aequitas.plotting import Plot\n",
    "from aequitas.bias import Bias\n",
    "from aequitas.fairness import Fairness\n",
    "\n",
    "ae_subset_df = pred_test_df[['race', 'gender', 'score', 'label_value']]\n",
    "ae_df, _ = preprocess_input_df(ae_subset_df)\n",
    "g = Group()\n",
    "xtab, _ = g.get_crosstabs(ae_df)\n",
    "absolute_metrics = g.list_absolute_metrics(xtab)\n",
    "clean_xtab = xtab.fillna(-1)\n",
    "aqp = Plot()\n",
    "b = Bias()\n"
   ]
  },
  {
   "cell_type": "markdown",
   "metadata": {},
   "source": [
    "## Reference Group Selection"
   ]
  },
  {
   "cell_type": "markdown",
   "metadata": {},
   "source": [
    "Below we have chosen the reference group for our analysis but feel free to select another one."
   ]
  },
  {
   "cell_type": "code",
   "execution_count": 104,
   "metadata": {},
   "outputs": [
    {
     "name": "stdout",
     "output_type": "stream",
     "text": [
      "get_disparity_predefined_group()\n"
     ]
    }
   ],
   "source": [
    "# test reference group with Caucasian Male\n",
    "bdf = b.get_disparity_predefined_groups(clean_xtab, \n",
    "                    original_df=ae_df, \n",
    "                    ref_groups_dict={'race':'Caucasian', 'gender':'Male'\n",
    "                                     }, \n",
    "                    alpha=0.05, \n",
    "                    check_significance=False)\n",
    "\n",
    "\n",
    "f = Fairness()\n",
    "fdf = f.get_group_value_fairness(bdf)"
   ]
  },
  {
   "cell_type": "markdown",
   "metadata": {},
   "source": [
    "## Race and Gender Bias Analysis for Patient Selection"
   ]
  },
  {
   "cell_type": "markdown",
   "metadata": {},
   "source": [
    "**Question 12**: For the gender and race fields, please plot two metrics that are important for patient selection below and state whether there is a significant bias in your model across any of the groups along with justification for your statement."
   ]
  },
  {
   "cell_type": "code",
   "execution_count": 105,
   "metadata": {},
   "outputs": [
    {
     "data": {
      "text/html": [
       "<div>\n",
       "<style scoped>\n",
       "    .dataframe tbody tr th:only-of-type {\n",
       "        vertical-align: middle;\n",
       "    }\n",
       "\n",
       "    .dataframe tbody tr th {\n",
       "        vertical-align: top;\n",
       "    }\n",
       "\n",
       "    .dataframe thead th {\n",
       "        text-align: right;\n",
       "    }\n",
       "</style>\n",
       "<table border=\"1\" class=\"dataframe\">\n",
       "  <thead>\n",
       "    <tr style=\"text-align: right;\">\n",
       "      <th></th>\n",
       "      <th>model_id</th>\n",
       "      <th>score_threshold</th>\n",
       "      <th>k</th>\n",
       "      <th>attribute_name</th>\n",
       "      <th>attribute_value</th>\n",
       "      <th>pp</th>\n",
       "      <th>pn</th>\n",
       "      <th>fp</th>\n",
       "      <th>fn</th>\n",
       "      <th>tn</th>\n",
       "      <th>tp</th>\n",
       "      <th>group_label_pos</th>\n",
       "      <th>group_label_neg</th>\n",
       "      <th>group_size</th>\n",
       "      <th>total_entities</th>\n",
       "    </tr>\n",
       "  </thead>\n",
       "  <tbody>\n",
       "    <tr>\n",
       "      <th>0</th>\n",
       "      <td>0</td>\n",
       "      <td>binary 0/1</td>\n",
       "      <td>8142</td>\n",
       "      <td>race</td>\n",
       "      <td>?</td>\n",
       "      <td>223</td>\n",
       "      <td>266</td>\n",
       "      <td>86</td>\n",
       "      <td>39</td>\n",
       "      <td>227</td>\n",
       "      <td>137</td>\n",
       "      <td>176</td>\n",
       "      <td>313</td>\n",
       "      <td>489</td>\n",
       "      <td>17533</td>\n",
       "    </tr>\n",
       "    <tr>\n",
       "      <th>1</th>\n",
       "      <td>0</td>\n",
       "      <td>binary 0/1</td>\n",
       "      <td>8142</td>\n",
       "      <td>race</td>\n",
       "      <td>AfricanAmerican</td>\n",
       "      <td>1414</td>\n",
       "      <td>1751</td>\n",
       "      <td>499</td>\n",
       "      <td>325</td>\n",
       "      <td>1426</td>\n",
       "      <td>915</td>\n",
       "      <td>1240</td>\n",
       "      <td>1925</td>\n",
       "      <td>3165</td>\n",
       "      <td>17533</td>\n",
       "    </tr>\n",
       "    <tr>\n",
       "      <th>2</th>\n",
       "      <td>0</td>\n",
       "      <td>binary 0/1</td>\n",
       "      <td>8142</td>\n",
       "      <td>race</td>\n",
       "      <td>Asian</td>\n",
       "      <td>54</td>\n",
       "      <td>74</td>\n",
       "      <td>18</td>\n",
       "      <td>9</td>\n",
       "      <td>65</td>\n",
       "      <td>36</td>\n",
       "      <td>45</td>\n",
       "      <td>83</td>\n",
       "      <td>128</td>\n",
       "      <td>17533</td>\n",
       "    </tr>\n",
       "    <tr>\n",
       "      <th>3</th>\n",
       "      <td>0</td>\n",
       "      <td>binary 0/1</td>\n",
       "      <td>8142</td>\n",
       "      <td>race</td>\n",
       "      <td>Caucasian</td>\n",
       "      <td>6183</td>\n",
       "      <td>6901</td>\n",
       "      <td>2160</td>\n",
       "      <td>1302</td>\n",
       "      <td>5599</td>\n",
       "      <td>4023</td>\n",
       "      <td>5325</td>\n",
       "      <td>7759</td>\n",
       "      <td>13084</td>\n",
       "      <td>17533</td>\n",
       "    </tr>\n",
       "    <tr>\n",
       "      <th>4</th>\n",
       "      <td>0</td>\n",
       "      <td>binary 0/1</td>\n",
       "      <td>8142</td>\n",
       "      <td>race</td>\n",
       "      <td>Hispanic</td>\n",
       "      <td>135</td>\n",
       "      <td>237</td>\n",
       "      <td>47</td>\n",
       "      <td>33</td>\n",
       "      <td>204</td>\n",
       "      <td>88</td>\n",
       "      <td>121</td>\n",
       "      <td>251</td>\n",
       "      <td>372</td>\n",
       "      <td>17533</td>\n",
       "    </tr>\n",
       "    <tr>\n",
       "      <th>5</th>\n",
       "      <td>0</td>\n",
       "      <td>binary 0/1</td>\n",
       "      <td>8142</td>\n",
       "      <td>race</td>\n",
       "      <td>Other</td>\n",
       "      <td>133</td>\n",
       "      <td>162</td>\n",
       "      <td>44</td>\n",
       "      <td>24</td>\n",
       "      <td>138</td>\n",
       "      <td>89</td>\n",
       "      <td>113</td>\n",
       "      <td>182</td>\n",
       "      <td>295</td>\n",
       "      <td>17533</td>\n",
       "    </tr>\n",
       "    <tr>\n",
       "      <th>6</th>\n",
       "      <td>0</td>\n",
       "      <td>binary 0/1</td>\n",
       "      <td>8142</td>\n",
       "      <td>gender</td>\n",
       "      <td>Female</td>\n",
       "      <td>4320</td>\n",
       "      <td>4834</td>\n",
       "      <td>1497</td>\n",
       "      <td>928</td>\n",
       "      <td>3906</td>\n",
       "      <td>2823</td>\n",
       "      <td>3751</td>\n",
       "      <td>5403</td>\n",
       "      <td>9154</td>\n",
       "      <td>17533</td>\n",
       "    </tr>\n",
       "    <tr>\n",
       "      <th>7</th>\n",
       "      <td>0</td>\n",
       "      <td>binary 0/1</td>\n",
       "      <td>8142</td>\n",
       "      <td>gender</td>\n",
       "      <td>Male</td>\n",
       "      <td>3822</td>\n",
       "      <td>4557</td>\n",
       "      <td>1357</td>\n",
       "      <td>804</td>\n",
       "      <td>3753</td>\n",
       "      <td>2465</td>\n",
       "      <td>3269</td>\n",
       "      <td>5110</td>\n",
       "      <td>8379</td>\n",
       "      <td>17533</td>\n",
       "    </tr>\n",
       "  </tbody>\n",
       "</table>\n",
       "</div>"
      ],
      "text/plain": [
       "   model_id score_threshold     k attribute_name  attribute_value    pp    pn  \\\n",
       "0         0      binary 0/1  8142           race                ?   223   266   \n",
       "1         0      binary 0/1  8142           race  AfricanAmerican  1414  1751   \n",
       "2         0      binary 0/1  8142           race            Asian    54    74   \n",
       "3         0      binary 0/1  8142           race        Caucasian  6183  6901   \n",
       "4         0      binary 0/1  8142           race         Hispanic   135   237   \n",
       "5         0      binary 0/1  8142           race            Other   133   162   \n",
       "6         0      binary 0/1  8142         gender           Female  4320  4834   \n",
       "7         0      binary 0/1  8142         gender             Male  3822  4557   \n",
       "\n",
       "     fp    fn    tn    tp  group_label_pos  group_label_neg  group_size  \\\n",
       "0    86    39   227   137              176              313         489   \n",
       "1   499   325  1426   915             1240             1925        3165   \n",
       "2    18     9    65    36               45               83         128   \n",
       "3  2160  1302  5599  4023             5325             7759       13084   \n",
       "4    47    33   204    88              121              251         372   \n",
       "5    44    24   138    89              113              182         295   \n",
       "6  1497   928  3906  2823             3751             5403        9154   \n",
       "7  1357   804  3753  2465             3269             5110        8379   \n",
       "\n",
       "   total_entities  \n",
       "0           17533  \n",
       "1           17533  \n",
       "2           17533  \n",
       "3           17533  \n",
       "4           17533  \n",
       "5           17533  \n",
       "6           17533  \n",
       "7           17533  "
      ]
     },
     "execution_count": 105,
     "metadata": {},
     "output_type": "execute_result"
    }
   ],
   "source": [
    "# Plot two metrics\n",
    "\n",
    "# Is there significant bias in your model for either race or gender?\n",
    "absolute_metrics = g.list_absolute_metrics(xtab)\n",
    "xtab[[col for col in xtab.columns if col not in absolute_metrics]]"
   ]
  },
  {
   "cell_type": "code",
   "execution_count": 106,
   "metadata": {},
   "outputs": [
    {
     "data": {
      "text/html": [
       "<div>\n",
       "<style scoped>\n",
       "    .dataframe tbody tr th:only-of-type {\n",
       "        vertical-align: middle;\n",
       "    }\n",
       "\n",
       "    .dataframe tbody tr th {\n",
       "        vertical-align: top;\n",
       "    }\n",
       "\n",
       "    .dataframe thead th {\n",
       "        text-align: right;\n",
       "    }\n",
       "</style>\n",
       "<table border=\"1\" class=\"dataframe\">\n",
       "  <thead>\n",
       "    <tr style=\"text-align: right;\">\n",
       "      <th></th>\n",
       "      <th>attribute_name</th>\n",
       "      <th>attribute_value</th>\n",
       "      <th>tpr</th>\n",
       "      <th>tnr</th>\n",
       "      <th>for</th>\n",
       "      <th>fdr</th>\n",
       "      <th>fpr</th>\n",
       "      <th>fnr</th>\n",
       "      <th>npv</th>\n",
       "      <th>precision</th>\n",
       "      <th>ppr</th>\n",
       "      <th>pprev</th>\n",
       "      <th>prev</th>\n",
       "    </tr>\n",
       "  </thead>\n",
       "  <tbody>\n",
       "    <tr>\n",
       "      <th>0</th>\n",
       "      <td>race</td>\n",
       "      <td>?</td>\n",
       "      <td>0.78</td>\n",
       "      <td>0.73</td>\n",
       "      <td>0.15</td>\n",
       "      <td>0.39</td>\n",
       "      <td>0.27</td>\n",
       "      <td>0.22</td>\n",
       "      <td>0.85</td>\n",
       "      <td>0.61</td>\n",
       "      <td>0.03</td>\n",
       "      <td>0.46</td>\n",
       "      <td>0.36</td>\n",
       "    </tr>\n",
       "    <tr>\n",
       "      <th>1</th>\n",
       "      <td>race</td>\n",
       "      <td>AfricanAmerican</td>\n",
       "      <td>0.74</td>\n",
       "      <td>0.74</td>\n",
       "      <td>0.19</td>\n",
       "      <td>0.35</td>\n",
       "      <td>0.26</td>\n",
       "      <td>0.26</td>\n",
       "      <td>0.81</td>\n",
       "      <td>0.65</td>\n",
       "      <td>0.17</td>\n",
       "      <td>0.45</td>\n",
       "      <td>0.39</td>\n",
       "    </tr>\n",
       "    <tr>\n",
       "      <th>2</th>\n",
       "      <td>race</td>\n",
       "      <td>Asian</td>\n",
       "      <td>0.80</td>\n",
       "      <td>0.78</td>\n",
       "      <td>0.12</td>\n",
       "      <td>0.33</td>\n",
       "      <td>0.22</td>\n",
       "      <td>0.20</td>\n",
       "      <td>0.88</td>\n",
       "      <td>0.67</td>\n",
       "      <td>0.01</td>\n",
       "      <td>0.42</td>\n",
       "      <td>0.35</td>\n",
       "    </tr>\n",
       "    <tr>\n",
       "      <th>3</th>\n",
       "      <td>race</td>\n",
       "      <td>Caucasian</td>\n",
       "      <td>0.76</td>\n",
       "      <td>0.72</td>\n",
       "      <td>0.19</td>\n",
       "      <td>0.35</td>\n",
       "      <td>0.28</td>\n",
       "      <td>0.24</td>\n",
       "      <td>0.81</td>\n",
       "      <td>0.65</td>\n",
       "      <td>0.76</td>\n",
       "      <td>0.47</td>\n",
       "      <td>0.41</td>\n",
       "    </tr>\n",
       "    <tr>\n",
       "      <th>4</th>\n",
       "      <td>race</td>\n",
       "      <td>Hispanic</td>\n",
       "      <td>0.73</td>\n",
       "      <td>0.81</td>\n",
       "      <td>0.14</td>\n",
       "      <td>0.35</td>\n",
       "      <td>0.19</td>\n",
       "      <td>0.27</td>\n",
       "      <td>0.86</td>\n",
       "      <td>0.65</td>\n",
       "      <td>0.02</td>\n",
       "      <td>0.36</td>\n",
       "      <td>0.33</td>\n",
       "    </tr>\n",
       "    <tr>\n",
       "      <th>5</th>\n",
       "      <td>race</td>\n",
       "      <td>Other</td>\n",
       "      <td>0.79</td>\n",
       "      <td>0.76</td>\n",
       "      <td>0.15</td>\n",
       "      <td>0.33</td>\n",
       "      <td>0.24</td>\n",
       "      <td>0.21</td>\n",
       "      <td>0.85</td>\n",
       "      <td>0.67</td>\n",
       "      <td>0.02</td>\n",
       "      <td>0.45</td>\n",
       "      <td>0.38</td>\n",
       "    </tr>\n",
       "    <tr>\n",
       "      <th>6</th>\n",
       "      <td>gender</td>\n",
       "      <td>Female</td>\n",
       "      <td>0.75</td>\n",
       "      <td>0.72</td>\n",
       "      <td>0.19</td>\n",
       "      <td>0.35</td>\n",
       "      <td>0.28</td>\n",
       "      <td>0.25</td>\n",
       "      <td>0.81</td>\n",
       "      <td>0.65</td>\n",
       "      <td>0.53</td>\n",
       "      <td>0.47</td>\n",
       "      <td>0.41</td>\n",
       "    </tr>\n",
       "    <tr>\n",
       "      <th>7</th>\n",
       "      <td>gender</td>\n",
       "      <td>Male</td>\n",
       "      <td>0.75</td>\n",
       "      <td>0.73</td>\n",
       "      <td>0.18</td>\n",
       "      <td>0.36</td>\n",
       "      <td>0.27</td>\n",
       "      <td>0.25</td>\n",
       "      <td>0.82</td>\n",
       "      <td>0.64</td>\n",
       "      <td>0.47</td>\n",
       "      <td>0.46</td>\n",
       "      <td>0.39</td>\n",
       "    </tr>\n",
       "  </tbody>\n",
       "</table>\n",
       "</div>"
      ],
      "text/plain": [
       "  attribute_name  attribute_value   tpr   tnr   for   fdr   fpr   fnr   npv  \\\n",
       "0           race                ?  0.78  0.73  0.15  0.39  0.27  0.22  0.85   \n",
       "1           race  AfricanAmerican  0.74  0.74  0.19  0.35  0.26  0.26  0.81   \n",
       "2           race            Asian  0.80  0.78  0.12  0.33  0.22  0.20  0.88   \n",
       "3           race        Caucasian  0.76  0.72  0.19  0.35  0.28  0.24  0.81   \n",
       "4           race         Hispanic  0.73  0.81  0.14  0.35  0.19  0.27  0.86   \n",
       "5           race            Other  0.79  0.76  0.15  0.33  0.24  0.21  0.85   \n",
       "6         gender           Female  0.75  0.72  0.19  0.35  0.28  0.25  0.81   \n",
       "7         gender             Male  0.75  0.73  0.18  0.36  0.27  0.25  0.82   \n",
       "\n",
       "   precision   ppr  pprev  prev  \n",
       "0       0.61  0.03   0.46  0.36  \n",
       "1       0.65  0.17   0.45  0.39  \n",
       "2       0.67  0.01   0.42  0.35  \n",
       "3       0.65  0.76   0.47  0.41  \n",
       "4       0.65  0.02   0.36  0.33  \n",
       "5       0.67  0.02   0.45  0.38  \n",
       "6       0.65  0.53   0.47  0.41  \n",
       "7       0.64  0.47   0.46  0.39  "
      ]
     },
     "execution_count": 106,
     "metadata": {},
     "output_type": "execute_result"
    }
   ],
   "source": [
    "xtab[['attribute_name', 'attribute_value'] + absolute_metrics].round(2)"
   ]
  },
  {
   "cell_type": "code",
   "execution_count": 108,
   "metadata": {},
   "outputs": [
    {
     "data": {
      "image/png": "[encoded data removed]",
      "text/plain": [
       "<Figure size 1800x432 with 5 Axes>"
      ]
     },
     "metadata": {
      "needs_background": "light"
     },
     "output_type": "display_data"
    },
    {
     "data": {
      "text/plain": [
       "<Figure size 432x288 with 0 Axes>"
      ]
     },
     "metadata": {},
     "output_type": "display_data"
    }
   ],
   "source": [
    "p = aqp.plot_group_metric_all(xtab, metrics=['tpr', 'fpr', 'ppr', 'pprev', 'fnr'], ncols=5)"
   ]
  },
  {
   "cell_type": "markdown",
   "metadata": {},
   "source": [
    "From the graph shown we can see no bias in gender, and no major bias also in race for TPR\n",
    "For PPR there's bias for female, and huge biase for Caucasian race group. "
   ]
  },
  {
   "cell_type": "markdown",
   "metadata": {},
   "source": [
    "## Fairness Analysis Example - Relative to a Reference Group "
   ]
  },
  {
   "cell_type": "markdown",
   "metadata": {},
   "source": [
    "**Question 13**: Earlier we defined our reference group and then calculated disparity metrics relative to this grouping. Please provide a visualization of the fairness evaluation for this reference group and analyze whether there is disparity."
   ]
  },
  {
   "cell_type": "code",
   "execution_count": 109,
   "metadata": {},
   "outputs": [
    {
     "data": {
      "image/png": "[encoded data removed]",
      "text/plain": [
       "<Figure size 360x288 with 2 Axes>"
      ]
     },
     "metadata": {
      "needs_background": "light"
     },
     "output_type": "display_data"
    }
   ],
   "source": [
    "# Reference group fairness plot\n",
    "fpr_disparity = aqp.plot_disparity(bdf, group_metric='fpr_disparity', attribute_name='race')"
   ]
  },
  {
   "cell_type": "markdown",
   "metadata": {},
   "source": [
    "In terms of False Positive Rate, we can see that Hispanics and Asians that do not fit for the program, have somewhat smaller probability of being selected for it, as compared to Caucasian males.\n",
    "It has to be mentioned though, that there is no extreme FPR disparity in respect to race"
   ]
  },
  {
   "cell_type": "code",
   "execution_count": null,
   "metadata": {},
   "outputs": [],
   "source": []
  }
 ],
 "metadata": {
  "kernelspec": {
   "display_name": "Python 3 (ipykernel)",
   "language": "python",
   "name": "python3"
  },
  "language_info": {
   "codemirror_mode": {
    "name": "ipython",
    "version": 3
   },
   "file_extension": ".py",
   "mimetype": "text/x-python",
   "name": "python",
   "nbconvert_exporter": "python",
   "pygments_lexer": "ipython3",
   "version": "3.7.11"
  }
 },
 "nbformat": 4,
 "nbformat_minor": 2
}
